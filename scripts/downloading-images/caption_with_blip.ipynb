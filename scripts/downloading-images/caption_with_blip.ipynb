{
  "cells": [
    {
      "cell_type": "code",
      "execution_count": 1,
      "metadata": {
        "id": "thxa8pL96Qla",
        "colab": {
          "base_uri": "https://localhost:8080/"
        },
        "outputId": "5f51bde9-b930-499e-bbae-122a55075850"
      },
      "outputs": [
        {
          "output_type": "stream",
          "name": "stdout",
          "text": [
            "\u001b[2K   \u001b[90m━━━━━━━━━━━━━━━━━━━━━━━━━━━━━━━━━━━━━━━━\u001b[0m \u001b[32m363.4/363.4 MB\u001b[0m \u001b[31m3.1 MB/s\u001b[0m eta \u001b[36m0:00:00\u001b[0m\n",
            "\u001b[2K   \u001b[90m━━━━━━━━━━━━━━━━━━━━━━━━━━━━━━━━━━━━━━━━\u001b[0m \u001b[32m13.8/13.8 MB\u001b[0m \u001b[31m78.3 MB/s\u001b[0m eta \u001b[36m0:00:00\u001b[0m\n",
            "\u001b[2K   \u001b[90m━━━━━━━━━━━━━━━━━━━━━━━━━━━━━━━━━━━━━━━━\u001b[0m \u001b[32m24.6/24.6 MB\u001b[0m \u001b[31m90.0 MB/s\u001b[0m eta \u001b[36m0:00:00\u001b[0m\n",
            "\u001b[2K   \u001b[90m━━━━━━━━━━━━━━━━━━━━━━━━━━━━━━━━━━━━━━━━\u001b[0m \u001b[32m883.7/883.7 kB\u001b[0m \u001b[31m54.8 MB/s\u001b[0m eta \u001b[36m0:00:00\u001b[0m\n",
            "\u001b[2K   \u001b[90m━━━━━━━━━━━━━━━━━━━━━━━━━━━━━━━━━━━━━━━━\u001b[0m \u001b[32m664.8/664.8 MB\u001b[0m \u001b[31m1.8 MB/s\u001b[0m eta \u001b[36m0:00:00\u001b[0m\n",
            "\u001b[2K   \u001b[90m━━━━━━━━━━━━━━━━━━━━━━━━━━━━━━━━━━━━━━━━\u001b[0m \u001b[32m211.5/211.5 MB\u001b[0m \u001b[31m11.6 MB/s\u001b[0m eta \u001b[36m0:00:00\u001b[0m\n",
            "\u001b[2K   \u001b[90m━━━━━━━━━━━━━━━━━━━━━━━━━━━━━━━━━━━━━━━━\u001b[0m \u001b[32m56.3/56.3 MB\u001b[0m \u001b[31m15.4 MB/s\u001b[0m eta \u001b[36m0:00:00\u001b[0m\n",
            "\u001b[2K   \u001b[90m━━━━━━━━━━━━━━━━━━━━━━━━━━━━━━━━━━━━━━━━\u001b[0m \u001b[32m127.9/127.9 MB\u001b[0m \u001b[31m13.6 MB/s\u001b[0m eta \u001b[36m0:00:00\u001b[0m\n",
            "\u001b[2K   \u001b[90m━━━━━━━━━━━━━━━━━━━━━━━━━━━━━━━━━━━━━━━━\u001b[0m \u001b[32m207.5/207.5 MB\u001b[0m \u001b[31m5.2 MB/s\u001b[0m eta \u001b[36m0:00:00\u001b[0m\n",
            "\u001b[2K   \u001b[90m━━━━━━━━━━━━━━━━━━━━━━━━━━━━━━━━━━━━━━━━\u001b[0m \u001b[32m21.1/21.1 MB\u001b[0m \u001b[31m101.8 MB/s\u001b[0m eta \u001b[36m0:00:00\u001b[0m\n",
            "\u001b[?25h"
          ]
        }
      ],
      "source": [
        "!pip install -q transformers timm torch torchvision pandas pillow tqdm"
      ]
    },
    {
      "cell_type": "code",
      "execution_count": 2,
      "metadata": {
        "colab": {
          "base_uri": "https://localhost:8080/"
        },
        "id": "4U7A0BT27HYo",
        "outputId": "86c39c75-6df5-470a-b41f-822b170dda2b"
      },
      "outputs": [
        {
          "output_type": "stream",
          "name": "stdout",
          "text": [
            "Mounted at /content/drive\n"
          ]
        }
      ],
      "source": [
        "from google.colab import drive\n",
        "drive.mount('/content/drive')\n",
        "image_dir = \"/content/drive/MyDrive/lora/ghibli-dataset\""
      ]
    },
    {
      "cell_type": "code",
      "execution_count": 5,
      "metadata": {
        "colab": {
          "base_uri": "https://localhost:8080/",
          "height": 49,
          "referenced_widgets": [
            "bc4e065809b44c4d87ac51363773672e",
            "79d4a5020dc84ecd86e826ce564a089c",
            "02beab28fa544146bb2f3573a6ffd830",
            "9a47289f578f4cfea27cdf4750281797",
            "4ec0b81940e34aedb78593abe7f6e59a",
            "f86effb344c84b159e83723d25237095",
            "07a9e90790dd453eaa40b9c4d2a06aeb",
            "7c594294ba63455a8ab5483e720ae78c",
            "cb599e44f1df4dee96c22ea63eab646e",
            "7d103109616f4313b62b567a83be1081",
            "45a11cbc986a4235a08297804e3120c2"
          ]
        },
        "id": "a6IPWdZV6udI",
        "outputId": "1607a7d6-3983-4d45-96fa-b3fb0b8654d6"
      },
      "outputs": [
        {
          "output_type": "display_data",
          "data": {
            "text/plain": [
              "Loading checkpoint shards:   0%|          | 0/2 [00:00<?, ?it/s]"
            ],
            "application/vnd.jupyter.widget-view+json": {
              "version_major": 2,
              "version_minor": 0,
              "model_id": "bc4e065809b44c4d87ac51363773672e"
            }
          },
          "metadata": {}
        }
      ],
      "source": [
        "import torch\n",
        "from PIL import Image\n",
        "import pandas as pd\n",
        "from tqdm import tqdm\n",
        "from transformers import Blip2Processor, Blip2ForConditionalGeneration\n",
        "import os\n",
        "\n",
        "# Load model and processor\n",
        "device = \"cuda\" if torch.cuda.is_available() else \"cpu\"\n",
        "model_id = \"Salesforce/blip2-flan-t5-xl\"\n",
        "\n",
        "processor = Blip2Processor.from_pretrained(model_id)\n",
        "model = Blip2ForConditionalGeneration.from_pretrained(model_id, torch_dtype=torch.float16 if torch.cuda.is_available() else torch.float32)\n",
        "model.to(device)\n",
        "\n",
        "# Preprocessing function (based on filename)\n",
        "def preprocess_filename(fname):\n",
        "    name = os.path.splitext(fname)[0]\n",
        "    return name.replace(\"_\", \" \").replace(\"-\", \" \").replace(\"%20\", \" \")\n",
        "\n",
        "def caption_image(image_path):\n",
        "    image = Image.open(image_path).convert(\"RGB\")\n",
        "    prompt = \"Describe this Ghibli style image.\"\n",
        "    inputs = processor(images=image, text=prompt, return_tensors=\"pt\").to(\n",
        "        device, torch.float16 if torch.cuda.is_available() else torch.float32\n",
        "    )\n",
        "    out = model.generate(**inputs, max_new_tokens=40)\n",
        "    return processor.decode(out[0], skip_special_tokens=True).strip()"
      ]
    },
    {
      "cell_type": "code",
      "execution_count": 6,
      "metadata": {
        "id": "mGejTsaL7FXl",
        "colab": {
          "base_uri": "https://localhost:8080/"
        },
        "outputId": "913744ef-67b0-48d4-cabd-d3865ef904ca"
      },
      "outputs": [
        {
          "output_type": "stream",
          "name": "stdout",
          "text": [
            "📸 Generating captions for 626 images...\n",
            "\n"
          ]
        },
        {
          "output_type": "stream",
          "name": "stderr",
          "text": [
            "  0%|          | 1/626 [00:00<06:31,  1.60it/s]"
          ]
        },
        {
          "output_type": "stream",
          "name": "stdout",
          "text": [
            "🖼️ Lx4OpET.jpeg → 📝 a forest scene with trees and flowers\n"
          ]
        },
        {
          "output_type": "stream",
          "name": "stderr",
          "text": [
            "\r  0%|          | 3/626 [00:01<04:27,  2.33it/s]"
          ]
        },
        {
          "output_type": "stream",
          "name": "stdout",
          "text": [
            "🖼️ studio-ghibli-desktop-sky-forest-ona981pslzx33lcp.jpg → 📝 a sailor in a forest\n"
          ]
        },
        {
          "output_type": "stream",
          "name": "stderr",
          "text": [
            "\r  1%|          | 4/626 [00:02<05:47,  1.79it/s]"
          ]
        },
        {
          "output_type": "stream",
          "name": "stdout",
          "text": [
            "🖼️ gg9CoaM.jpeg → 📝 a forest path with a tree and a tree\n"
          ]
        },
        {
          "output_type": "stream",
          "name": "stderr",
          "text": [
            "\r  1%|          | 5/626 [00:02<05:53,  1.76it/s]"
          ]
        },
        {
          "output_type": "stream",
          "name": "stdout",
          "text": [
            "🖼️ tpOAF3p.jpeg → 📝 a forest path in the woods\n"
          ]
        },
        {
          "output_type": "stream",
          "name": "stderr",
          "text": [
            "\r  1%|          | 6/626 [00:03<06:27,  1.60it/s]"
          ]
        },
        {
          "output_type": "stream",
          "name": "stdout",
          "text": [
            "🖼️ couple.jpg → 📝 a girl and boy are reading a book together\n"
          ]
        },
        {
          "output_type": "stream",
          "name": "stderr",
          "text": [
            "\r  1%|▏         | 8/626 [00:04<06:12,  1.66it/s]"
          ]
        },
        {
          "output_type": "stream",
          "name": "stdout",
          "text": [
            "🖼️ kimitachi001.jpg → 📝 a girl in a kimono is standing in front of a hut\n"
          ]
        },
        {
          "output_type": "stream",
          "name": "stderr",
          "text": [
            "\r  1%|▏         | 9/626 [00:05<06:40,  1.54it/s]"
          ]
        },
        {
          "output_type": "stream",
          "name": "stdout",
          "text": [
            "🖼️ kimitachi002.jpg → 📝 a group of old ladies with a cup of tea\n"
          ]
        },
        {
          "output_type": "stream",
          "name": "stderr",
          "text": [
            "\r  2%|▏         | 10/626 [00:06<06:47,  1.51it/s]"
          ]
        },
        {
          "output_type": "stream",
          "name": "stdout",
          "text": [
            "🖼️ kimitachi027.jpg → 📝 a stork with a hat\n"
          ]
        },
        {
          "output_type": "stream",
          "name": "stderr",
          "text": [
            "\r  2%|▏         | 11/626 [00:07<08:30,  1.21it/s]"
          ]
        },
        {
          "output_type": "stream",
          "name": "stdout",
          "text": [
            "🖼️ kimitachi003.jpg → 📝 a boy in a blue shirt and a blue shirt is standing in front of a house\n"
          ]
        },
        {
          "output_type": "stream",
          "name": "stderr",
          "text": [
            "\r  2%|▏         | 12/626 [00:08<08:34,  1.19it/s]"
          ]
        },
        {
          "output_type": "stream",
          "name": "stdout",
          "text": [
            "🖼️ kimitachi028.jpg → 📝 a boy with a hat and a hat\n"
          ]
        },
        {
          "output_type": "stream",
          "name": "stderr",
          "text": [
            "\r  2%|▏         | 13/626 [00:09<09:33,  1.07it/s]"
          ]
        },
        {
          "output_type": "stream",
          "name": "stdout",
          "text": [
            "🖼️ kimitachi004.jpg → 📝 a group of people in a kimono and a broomstick\n"
          ]
        },
        {
          "output_type": "stream",
          "name": "stderr",
          "text": [
            "\r  2%|▏         | 14/626 [00:10<10:13,  1.00s/it]"
          ]
        },
        {
          "output_type": "stream",
          "name": "stdout",
          "text": [
            "🖼️ kimitachi005.jpg → 📝 a man in a white shirt and a white shirt is sitting in a chair\n"
          ]
        },
        {
          "output_type": "stream",
          "name": "stderr",
          "text": [
            "\r  2%|▏         | 15/626 [00:12<13:04,  1.28s/it]"
          ]
        },
        {
          "output_type": "stream",
          "name": "stdout",
          "text": [
            "🖼️ kimitachi029.jpg → 📝 a woman in a kimono is seated on a wooden bench in a garden\n"
          ]
        },
        {
          "output_type": "stream",
          "name": "stderr",
          "text": [
            "\r  3%|▎         | 16/626 [00:13<13:25,  1.32s/it]"
          ]
        },
        {
          "output_type": "stream",
          "name": "stdout",
          "text": [
            "🖼️ kimitachi020.jpg → 📝 a man is preparing to make a hat\n"
          ]
        },
        {
          "output_type": "stream",
          "name": "stderr",
          "text": [
            "\r  3%|▎         | 17/626 [00:14<12:17,  1.21s/it]"
          ]
        },
        {
          "output_type": "stream",
          "name": "stdout",
          "text": [
            "🖼️ kimitachi016.jpg → 📝 a man sits at a desk and looks out a window\n"
          ]
        },
        {
          "output_type": "stream",
          "name": "stderr",
          "text": [
            "\r  3%|▎         | 18/626 [00:17<15:16,  1.51s/it]"
          ]
        },
        {
          "output_type": "stream",
          "name": "stdout",
          "text": [
            "🖼️ kimitachi006.jpg → 📝 a samurai samurai samurai samurai samurai samurai samurai sam\n"
          ]
        },
        {
          "output_type": "stream",
          "name": "stderr",
          "text": [
            "\r  3%|▎         | 19/626 [00:18<14:34,  1.44s/it]"
          ]
        },
        {
          "output_type": "stream",
          "name": "stdout",
          "text": [
            "🖼️ kimitachi007.jpg → 📝 a group of white ghosts in a field\n"
          ]
        },
        {
          "output_type": "stream",
          "name": "stderr",
          "text": [
            "\r  3%|▎         | 20/626 [00:19<13:14,  1.31s/it]"
          ]
        },
        {
          "output_type": "stream",
          "name": "stdout",
          "text": [
            "🖼️ kimitachi030.jpg → 📝 a boy is slicing a pig with a knife\n"
          ]
        },
        {
          "output_type": "stream",
          "name": "stderr",
          "text": [
            "\r  3%|▎         | 21/626 [00:21<14:46,  1.46s/it]"
          ]
        },
        {
          "output_type": "stream",
          "name": "stdout",
          "text": [
            "🖼️ kimitachi021.jpg → 📝 a boy and girl in a teddy bear costume\n"
          ]
        },
        {
          "output_type": "stream",
          "name": "stderr",
          "text": [
            "\r  4%|▎         | 22/626 [00:23<17:24,  1.73s/it]"
          ]
        },
        {
          "output_type": "stream",
          "name": "stdout",
          "text": [
            "🖼️ kimitachi022.jpg → 📝 a man and woman in a red shirt and a blue shirt are standing in front of a firework display\n"
          ]
        },
        {
          "output_type": "stream",
          "name": "stderr",
          "text": [
            "\r  4%|▎         | 23/626 [00:24<15:03,  1.50s/it]"
          ]
        },
        {
          "output_type": "stream",
          "name": "stdout",
          "text": [
            "🖼️ kimitachi008.jpg → 📝 a white bird with a long beak and a long neck\n"
          ]
        },
        {
          "output_type": "stream",
          "name": "stderr",
          "text": [
            "\r  4%|▍         | 24/626 [00:26<15:13,  1.52s/it]"
          ]
        },
        {
          "output_type": "stream",
          "name": "stdout",
          "text": [
            "🖼️ kimitachi009.jpg → 📝 a gnome with a hat and a hat\n"
          ]
        },
        {
          "output_type": "stream",
          "name": "stderr",
          "text": [
            "\r  4%|▍         | 25/626 [00:27<15:41,  1.57s/it]"
          ]
        },
        {
          "output_type": "stream",
          "name": "stdout",
          "text": [
            "🖼️ kimitachi010.jpg → 📝 a man and a woman sit at a table with a cup of coffee\n"
          ]
        },
        {
          "output_type": "stream",
          "name": "stderr",
          "text": [
            "\r  4%|▍         | 26/626 [00:29<15:30,  1.55s/it]"
          ]
        },
        {
          "output_type": "stream",
          "name": "stdout",
          "text": [
            "🖼️ kimitachi031.jpg → 📝 a boy is laying on a bed with a teddy bear and a teddy bear\n"
          ]
        },
        {
          "output_type": "stream",
          "name": "stderr",
          "text": [
            "\r  4%|▍         | 27/626 [00:30<14:35,  1.46s/it]"
          ]
        },
        {
          "output_type": "stream",
          "name": "stdout",
          "text": [
            "🖼️ kimitachi032.jpg → 📝 a group of birds flying in the air\n"
          ]
        },
        {
          "output_type": "stream",
          "name": "stderr",
          "text": [
            "\r  4%|▍         | 28/626 [00:31<12:58,  1.30s/it]"
          ]
        },
        {
          "output_type": "stream",
          "name": "stdout",
          "text": [
            "🖼️ kimitachi023.jpg → 📝 a girl is standing in front of a fire hydrant\n"
          ]
        },
        {
          "output_type": "stream",
          "name": "stderr",
          "text": [
            "\r  5%|▍         | 29/626 [00:32<11:58,  1.20s/it]"
          ]
        },
        {
          "output_type": "stream",
          "name": "stdout",
          "text": [
            "🖼️ kimitachi033.jpg → 📝 a girl in a red dress is flying through a red cloud\n"
          ]
        },
        {
          "output_type": "stream",
          "name": "stderr",
          "text": [
            "\r  5%|▍         | 30/626 [00:33<10:42,  1.08s/it]"
          ]
        },
        {
          "output_type": "stream",
          "name": "stdout",
          "text": [
            "🖼️ kimitachi034.jpg → 📝 a house with a roof and a chimney\n"
          ]
        },
        {
          "output_type": "stream",
          "name": "stderr",
          "text": [
            "\r  5%|▍         | 31/626 [00:34<09:50,  1.01it/s]"
          ]
        },
        {
          "output_type": "stream",
          "name": "stdout",
          "text": [
            "🖼️ kimitachi035.jpg → 📝 a young couple in a shabby apartment\n"
          ]
        },
        {
          "output_type": "stream",
          "name": "stderr",
          "text": [
            "\r  5%|▌         | 32/626 [00:34<09:07,  1.09it/s]"
          ]
        },
        {
          "output_type": "stream",
          "name": "stdout",
          "text": [
            "🖼️ kimitachi011.jpg → 📝 a girl is preparing food in a kitchen\n"
          ]
        },
        {
          "output_type": "stream",
          "name": "stderr",
          "text": [
            "\r  5%|▌         | 33/626 [00:36<10:37,  1.07s/it]"
          ]
        },
        {
          "output_type": "stream",
          "name": "stdout",
          "text": [
            "🖼️ kimitachi024.jpg → 📝 a man in a suit is eating a donut\n"
          ]
        },
        {
          "output_type": "stream",
          "name": "stderr",
          "text": [
            "\r  5%|▌         | 34/626 [00:38<12:41,  1.29s/it]"
          ]
        },
        {
          "output_type": "stream",
          "name": "stdout",
          "text": [
            "🖼️ kimitachi017.jpg → 📝 a girl and boy are laying on a bed with a teddy bear\n"
          ]
        },
        {
          "output_type": "stream",
          "name": "stderr",
          "text": [
            "\r  6%|▌         | 35/626 [00:39<11:51,  1.20s/it]"
          ]
        },
        {
          "output_type": "stream",
          "name": "stdout",
          "text": [
            "🖼️ kimitachi036.jpg → 📝 a man in a suit with a sword and a hat\n"
          ]
        },
        {
          "output_type": "stream",
          "name": "stderr",
          "text": [
            "\r  6%|▌         | 36/626 [00:40<12:30,  1.27s/it]"
          ]
        },
        {
          "output_type": "stream",
          "name": "stdout",
          "text": [
            "🖼️ kimitachi037.jpg → 📝 a spooky scene in a dungeon\n"
          ]
        },
        {
          "output_type": "stream",
          "name": "stderr",
          "text": [
            "\r  6%|▌         | 37/626 [00:41<11:57,  1.22s/it]"
          ]
        },
        {
          "output_type": "stream",
          "name": "stdout",
          "text": [
            "🖼️ kimitachi038.jpg → 📝 a boy in a blue shirt is standing in front of a green screen\n"
          ]
        },
        {
          "output_type": "stream",
          "name": "stderr",
          "text": [
            "\r  6%|▌         | 38/626 [00:42<11:20,  1.16s/it]"
          ]
        },
        {
          "output_type": "stream",
          "name": "stdout",
          "text": [
            "🖼️ kimitachi039.jpg → 📝 a white anime character with a white mask and a white hat\n"
          ]
        },
        {
          "output_type": "stream",
          "name": "stderr",
          "text": [
            "\r  6%|▌         | 39/626 [00:44<12:33,  1.28s/it]"
          ]
        },
        {
          "output_type": "stream",
          "name": "stdout",
          "text": [
            "🖼️ kimitachi040.jpg → 📝 a girl with long hair and a shaved head is surrounded by a swarm of flies\n"
          ]
        },
        {
          "output_type": "stream",
          "name": "stderr",
          "text": [
            "\r  6%|▋         | 40/626 [00:45<12:42,  1.30s/it]"
          ]
        },
        {
          "output_type": "stream",
          "name": "stdout",
          "text": [
            "🖼️ kimitachi041.jpg → 📝 a man with a hat and a hat is atop a pile of blocks\n"
          ]
        },
        {
          "output_type": "stream",
          "name": "stderr",
          "text": [
            "\r  7%|▋         | 41/626 [00:47<14:53,  1.53s/it]"
          ]
        },
        {
          "output_type": "stream",
          "name": "stdout",
          "text": [
            "🖼️ kimitachi019.jpg → 📝 a boy and girl in a hat stand in a field of grass\n"
          ]
        },
        {
          "output_type": "stream",
          "name": "stderr",
          "text": [
            "\r  7%|▋         | 42/626 [00:49<15:11,  1.56s/it]"
          ]
        },
        {
          "output_type": "stream",
          "name": "stdout",
          "text": [
            "🖼️ kimitachi042.jpg → 📝 a young boy is standing in front of a large teddy bear\n"
          ]
        },
        {
          "output_type": "stream",
          "name": "stderr",
          "text": [
            "\r  7%|▋         | 43/626 [00:50<13:03,  1.34s/it]"
          ]
        },
        {
          "output_type": "stream",
          "name": "stdout",
          "text": [
            "🖼️ kimitachi012.jpg → 📝 a man with a hat and a hat\n"
          ]
        },
        {
          "output_type": "stream",
          "name": "stderr",
          "text": [
            "\r  7%|▋         | 44/626 [00:51<13:33,  1.40s/it]"
          ]
        },
        {
          "output_type": "stream",
          "name": "stdout",
          "text": [
            "🖼️ kimitachi025.jpg → 📝 a man is preparing to cut a fish with a knife\n"
          ]
        },
        {
          "output_type": "stream",
          "name": "stderr",
          "text": [
            "\r  7%|▋         | 45/626 [00:52<11:57,  1.23s/it]"
          ]
        },
        {
          "output_type": "stream",
          "name": "stdout",
          "text": [
            "🖼️ kimitachi043.jpg → 📝 a group of people are preparing food for a party\n"
          ]
        },
        {
          "output_type": "stream",
          "name": "stderr",
          "text": [
            "\r  7%|▋         | 46/626 [00:53<11:08,  1.15s/it]"
          ]
        },
        {
          "output_type": "stream",
          "name": "stdout",
          "text": [
            "🖼️ kimitachi013.jpg → 📝 a king and a queen in a dungeon\n"
          ]
        },
        {
          "output_type": "stream",
          "name": "stderr",
          "text": [
            "\r  8%|▊         | 47/626 [00:54<09:44,  1.01s/it]"
          ]
        },
        {
          "output_type": "stream",
          "name": "stdout",
          "text": [
            "🖼️ kimitachi014.jpg → 📝 a girl and boy hugging in the water\n"
          ]
        },
        {
          "output_type": "stream",
          "name": "stderr",
          "text": [
            "\r  8%|▊         | 48/626 [00:54<08:46,  1.10it/s]"
          ]
        },
        {
          "output_type": "stream",
          "name": "stdout",
          "text": [
            "🖼️ kimitachi044.jpg → 📝 a couple of people walking on a bridge\n"
          ]
        },
        {
          "output_type": "stream",
          "name": "stderr",
          "text": [
            "\r  8%|▊         | 49/626 [00:55<09:52,  1.03s/it]"
          ]
        },
        {
          "output_type": "stream",
          "name": "stdout",
          "text": [
            "🖼️ kimitachi045.jpg → 📝 a boy with a hat and a hat is holding his hands up in the air\n"
          ]
        },
        {
          "output_type": "stream",
          "name": "stderr",
          "text": [
            "\r  8%|▊         | 50/626 [00:57<10:13,  1.07s/it]"
          ]
        },
        {
          "output_type": "stream",
          "name": "stdout",
          "text": [
            "🖼️ kimitachi046.jpg → 📝 a girl and boy are standing on a hillside looking at a large ocean\n"
          ]
        },
        {
          "output_type": "stream",
          "name": "stderr",
          "text": [
            "\r  8%|▊         | 51/626 [00:58<09:58,  1.04s/it]"
          ]
        },
        {
          "output_type": "stream",
          "name": "stdout",
          "text": [
            "🖼️ kimitachi047.jpg → 📝 a girl and boy are running through a maze of cubes\n"
          ]
        },
        {
          "output_type": "stream",
          "name": "stderr",
          "text": [
            "\r  8%|▊         | 52/626 [00:59<10:42,  1.12s/it]"
          ]
        },
        {
          "output_type": "stream",
          "name": "stdout",
          "text": [
            "🖼️ kimitachi048.jpg → 📝 a girl and boy in a green doorway\n"
          ]
        },
        {
          "output_type": "stream",
          "name": "stderr",
          "text": [
            "\r  8%|▊         | 53/626 [01:00<11:45,  1.23s/it]"
          ]
        },
        {
          "output_type": "stream",
          "name": "stdout",
          "text": [
            "🖼️ kimitachi049.jpg → 📝 a girl and boy are standing in a room with a window\n"
          ]
        },
        {
          "output_type": "stream",
          "name": "stderr",
          "text": [
            "\r  9%|▊         | 54/626 [01:02<11:54,  1.25s/it]"
          ]
        },
        {
          "output_type": "stream",
          "name": "stdout",
          "text": [
            "🖼️ kimitachi026.jpg → 📝 a boy with a hat and a hat is standing in a field with birds\n"
          ]
        },
        {
          "output_type": "stream",
          "name": "stderr",
          "text": [
            "\r  9%|▉         | 55/626 [01:03<12:00,  1.26s/it]"
          ]
        },
        {
          "output_type": "stream",
          "name": "stdout",
          "text": [
            "🖼️ kimitachi050.jpg → 📝 a boy is holding a bird in his hand\n"
          ]
        },
        {
          "output_type": "stream",
          "name": "stderr",
          "text": [
            "\r  9%|▉         | 56/626 [01:05<13:23,  1.41s/it]"
          ]
        },
        {
          "output_type": "stream",
          "name": "stdout",
          "text": [
            "🖼️ kimitachi051.jpg → 📝 a crow flies over a cactus in a field\n"
          ]
        },
        {
          "output_type": "stream",
          "name": "stderr",
          "text": [
            "\r  9%|▉         | 57/626 [01:06<12:49,  1.35s/it]"
          ]
        },
        {
          "output_type": "stream",
          "name": "stdout",
          "text": [
            "🖼️ kimitachi052.jpg → 📝 a girl in a white dress is standing in a field with a group of birds\n"
          ]
        },
        {
          "output_type": "stream",
          "name": "stderr",
          "text": [
            "\r  9%|▉         | 58/626 [01:07<13:02,  1.38s/it]"
          ]
        },
        {
          "output_type": "stream",
          "name": "stdout",
          "text": [
            "🖼️ marnie001.jpg → 📝 a girl is standing in front of a train station\n"
          ]
        },
        {
          "output_type": "stream",
          "name": "stderr",
          "text": [
            "\r  9%|▉         | 59/626 [01:09<12:29,  1.32s/it]"
          ]
        },
        {
          "output_type": "stream",
          "name": "stdout",
          "text": [
            "🖼️ marnie008.jpg → 📝 a boy with a hat and a hat is standing in a field\n"
          ]
        },
        {
          "output_type": "stream",
          "name": "stderr",
          "text": [
            "\r 10%|▉         | 60/626 [01:10<11:22,  1.21s/it]"
          ]
        },
        {
          "output_type": "stream",
          "name": "stdout",
          "text": [
            "🖼️ marnie003.jpg → 📝 a sand castle with a tower and a clock tower\n"
          ]
        },
        {
          "output_type": "stream",
          "name": "stderr",
          "text": [
            "\r 10%|▉         | 61/626 [01:10<09:46,  1.04s/it]"
          ]
        },
        {
          "output_type": "stream",
          "name": "stdout",
          "text": [
            "🖼️ marnie002.jpg → 📝 a group of people in a car\n"
          ]
        },
        {
          "output_type": "stream",
          "name": "stderr",
          "text": [
            "\r 10%|▉         | 62/626 [01:12<12:10,  1.30s/it]"
          ]
        },
        {
          "output_type": "stream",
          "name": "stdout",
          "text": [
            "🖼️ marnie004.jpg → 📝 a man is standing in front of a house with a woman and a child\n"
          ]
        },
        {
          "output_type": "stream",
          "name": "stderr",
          "text": [
            "\r 10%|█         | 63/626 [01:14<13:02,  1.39s/it]"
          ]
        },
        {
          "output_type": "stream",
          "name": "stdout",
          "text": [
            "🖼️ marnie005.jpg → 📝 a bedroom with a bed, dresser, and a window\n"
          ]
        },
        {
          "output_type": "stream",
          "name": "stderr",
          "text": [
            "\r 10%|█         | 64/626 [01:15<13:08,  1.40s/it]"
          ]
        },
        {
          "output_type": "stream",
          "name": "stdout",
          "text": [
            "🖼️ marnie007.jpg → 📝 a boy is standing on a balcony looking at a tree\n"
          ]
        },
        {
          "output_type": "stream",
          "name": "stderr",
          "text": [
            "\r 10%|█         | 65/626 [01:17<15:21,  1.64s/it]"
          ]
        },
        {
          "output_type": "stream",
          "name": "stdout",
          "text": [
            "🖼️ marnie006.jpg → 📝 a sailor sailor sailor sailor sailor sailor sailor sailor sailor s\n"
          ]
        },
        {
          "output_type": "stream",
          "name": "stderr",
          "text": [
            "\r 11%|█         | 66/626 [01:19<15:52,  1.70s/it]"
          ]
        },
        {
          "output_type": "stream",
          "name": "stdout",
          "text": [
            "🖼️ marnie011.jpg → 📝 a girl is looking out of a window of a window\n"
          ]
        },
        {
          "output_type": "stream",
          "name": "stderr",
          "text": [
            "\r 11%|█         | 67/626 [01:20<14:04,  1.51s/it]"
          ]
        },
        {
          "output_type": "stream",
          "name": "stdout",
          "text": [
            "🖼️ marnie016.jpg → 📝 a girl in a boat with a hat and a hat\n"
          ]
        },
        {
          "output_type": "stream",
          "name": "stderr",
          "text": [
            "\r 11%|█         | 68/626 [01:22<13:27,  1.45s/it]"
          ]
        },
        {
          "output_type": "stream",
          "name": "stdout",
          "text": [
            "🖼️ marnie012.jpg → 📝 a group of people walking down a staircase\n"
          ]
        },
        {
          "output_type": "stream",
          "name": "stderr",
          "text": [
            "\r 11%|█         | 69/626 [01:23<14:33,  1.57s/it]"
          ]
        },
        {
          "output_type": "stream",
          "name": "stdout",
          "text": [
            "🖼️ marnie009.jpg → 📝 a house on a hillside with a view of a lake\n"
          ]
        },
        {
          "output_type": "stream",
          "name": "stderr",
          "text": [
            "\r 11%|█         | 70/626 [01:25<14:44,  1.59s/it]"
          ]
        },
        {
          "output_type": "stream",
          "name": "stdout",
          "text": [
            "🖼️ marnie014.jpg → 📝 a girl in a white dress with a blue hat and a blue hat stands in front of a blue sky\n"
          ]
        },
        {
          "output_type": "stream",
          "name": "stderr",
          "text": [
            "\r 11%|█▏        | 71/626 [01:26<12:22,  1.34s/it]"
          ]
        },
        {
          "output_type": "stream",
          "name": "stdout",
          "text": [
            "🖼️ marnie013.jpg → 📝 a group of people in a crowded scene\n"
          ]
        },
        {
          "output_type": "stream",
          "name": "stderr",
          "text": [
            "\r 12%|█▏        | 72/626 [01:27<11:07,  1.21s/it]"
          ]
        },
        {
          "output_type": "stream",
          "name": "stdout",
          "text": [
            "🖼️ marnie010.jpg → 📝 a boy is standing in a field looking at a lake\n"
          ]
        },
        {
          "output_type": "stream",
          "name": "stderr",
          "text": [
            "\r 12%|█▏        | 73/626 [01:28<11:38,  1.26s/it]"
          ]
        },
        {
          "output_type": "stream",
          "name": "stdout",
          "text": [
            "🖼️ marnie015.jpg → 📝 a girl and boy are sitting in a field of grass\n"
          ]
        },
        {
          "output_type": "stream",
          "name": "stderr",
          "text": [
            "\r 12%|█▏        | 74/626 [01:29<10:53,  1.18s/it]"
          ]
        },
        {
          "output_type": "stream",
          "name": "stdout",
          "text": [
            "🖼️ marnie022.jpg → 📝 a house with a clock tower and a clock tower in the background\n"
          ]
        },
        {
          "output_type": "stream",
          "name": "stderr",
          "text": [
            "\r 12%|█▏        | 75/626 [01:30<09:39,  1.05s/it]"
          ]
        },
        {
          "output_type": "stream",
          "name": "stdout",
          "text": [
            "🖼️ marnie021.jpg → 📝 a girl in a boat on a lake\n"
          ]
        },
        {
          "output_type": "stream",
          "name": "stderr",
          "text": [
            "\r 12%|█▏        | 76/626 [01:30<08:28,  1.08it/s]"
          ]
        },
        {
          "output_type": "stream",
          "name": "stdout",
          "text": [
            "🖼️ marnie019.jpg → 📝 a girl and boy in a boat\n"
          ]
        },
        {
          "output_type": "stream",
          "name": "stderr",
          "text": [
            "\r 12%|█▏        | 77/626 [01:32<08:57,  1.02it/s]"
          ]
        },
        {
          "output_type": "stream",
          "name": "stdout",
          "text": [
            "🖼️ marnie020.jpg → 📝 a girl in a green dress with a hat and a hat\n"
          ]
        },
        {
          "output_type": "stream",
          "name": "stderr",
          "text": [
            "\r 12%|█▏        | 78/626 [01:33<09:39,  1.06s/it]"
          ]
        },
        {
          "output_type": "stream",
          "name": "stdout",
          "text": [
            "🖼️ marnie017.jpg → 📝 a girl in a kimono is sitting on a boat in a lake\n"
          ]
        },
        {
          "output_type": "stream",
          "name": "stderr",
          "text": [
            "\r 13%|█▎        | 79/626 [01:34<10:04,  1.10s/it]"
          ]
        },
        {
          "output_type": "stream",
          "name": "stdout",
          "text": [
            "🖼️ marnie018.jpg → 📝 a girl is standing in front of a lake with a swan in the background\n"
          ]
        },
        {
          "output_type": "stream",
          "name": "stderr",
          "text": [
            "\r 13%|█▎        | 80/626 [01:36<12:00,  1.32s/it]"
          ]
        },
        {
          "output_type": "stream",
          "name": "stdout",
          "text": [
            "🖼️ marnie024.jpg → 📝 a girl and boy in a hat and a hat stand next to a door\n"
          ]
        },
        {
          "output_type": "stream",
          "name": "stderr",
          "text": [
            "\r 13%|█▎        | 81/626 [01:37<11:18,  1.25s/it]"
          ]
        },
        {
          "output_type": "stream",
          "name": "stdout",
          "text": [
            "🖼️ marnie025.jpg → 📝 a girl in a red dress is surrounded by a group of people\n"
          ]
        },
        {
          "output_type": "stream",
          "name": "stderr",
          "text": [
            "\r 13%|█▎        | 82/626 [01:38<12:00,  1.32s/it]"
          ]
        },
        {
          "output_type": "stream",
          "name": "stdout",
          "text": [
            "🖼️ marnie023.jpg → 📝 a girl in a dress and a girl in a dress\n"
          ]
        },
        {
          "output_type": "stream",
          "name": "stderr",
          "text": [
            "\r 13%|█▎        | 83/626 [01:40<12:55,  1.43s/it]"
          ]
        },
        {
          "output_type": "stream",
          "name": "stdout",
          "text": [
            "🖼️ marnie026.jpg → 📝 a girl in a pink dress with a blue hat and a blue bow\n"
          ]
        },
        {
          "output_type": "stream",
          "name": "stderr",
          "text": [
            "\r 13%|█▎        | 84/626 [01:41<12:11,  1.35s/it]"
          ]
        },
        {
          "output_type": "stream",
          "name": "stdout",
          "text": [
            "🖼️ marnie027.jpg → 📝 a girl and boy in a pink dress are standing in front of a blue sky\n"
          ]
        },
        {
          "output_type": "stream",
          "name": "stderr",
          "text": [
            "\r 14%|█▎        | 85/626 [01:43<13:22,  1.48s/it]"
          ]
        },
        {
          "output_type": "stream",
          "name": "stdout",
          "text": [
            "🖼️ marnie030.jpg → 📝 a man in a hat is holding a hat in his hands\n"
          ]
        },
        {
          "output_type": "stream",
          "name": "stderr",
          "text": [
            "\r 14%|█▎        | 86/626 [01:44<12:21,  1.37s/it]"
          ]
        },
        {
          "output_type": "stream",
          "name": "stdout",
          "text": [
            "🖼️ marnie032.jpg → 📝 a girl is standing in a room with a bed and a dresser\n"
          ]
        },
        {
          "output_type": "stream",
          "name": "stderr",
          "text": [
            "\r 14%|█▍        | 87/626 [01:45<12:04,  1.34s/it]"
          ]
        },
        {
          "output_type": "stream",
          "name": "stdout",
          "text": [
            "🖼️ marnie031.jpg → 📝 a girl and boy in a hat and a hat stand next to a painting\n"
          ]
        },
        {
          "output_type": "stream",
          "name": "stderr",
          "text": [
            "\r 14%|█▍        | 88/626 [01:47<12:29,  1.39s/it]"
          ]
        },
        {
          "output_type": "stream",
          "name": "stdout",
          "text": [
            "🖼️ marnie028.jpg → 📝 a man in a hat is picking tomatoes in a garden\n"
          ]
        },
        {
          "output_type": "stream",
          "name": "stderr",
          "text": [
            "\r 14%|█▍        | 89/626 [01:49<12:54,  1.44s/it]"
          ]
        },
        {
          "output_type": "stream",
          "name": "stdout",
          "text": [
            "🖼️ marnie035.jpg → 📝 a girl and boy are walking through a forest\n"
          ]
        },
        {
          "output_type": "stream",
          "name": "stderr",
          "text": [
            "\r 14%|█▍        | 90/626 [01:50<13:40,  1.53s/it]"
          ]
        },
        {
          "output_type": "stream",
          "name": "stdout",
          "text": [
            "🖼️ marnie029.jpg → 📝 a boy and a girl are cooking in a kitchen\n"
          ]
        },
        {
          "output_type": "stream",
          "name": "stderr",
          "text": [
            "\r 15%|█▍        | 91/626 [01:52<14:05,  1.58s/it]"
          ]
        },
        {
          "output_type": "stream",
          "name": "stdout",
          "text": [
            "🖼️ marnie033.jpg → 📝 a girl and boy are standing in front of a window looking at a view\n"
          ]
        },
        {
          "output_type": "stream",
          "name": "stderr",
          "text": [
            "\r 15%|█▍        | 92/626 [01:53<13:07,  1.48s/it]"
          ]
        },
        {
          "output_type": "stream",
          "name": "stdout",
          "text": [
            "🖼️ marnie034.jpg → 📝 a girl holds a book in her hands\n"
          ]
        },
        {
          "output_type": "stream",
          "name": "stderr",
          "text": [
            "\r 15%|█▍        | 93/626 [01:54<11:48,  1.33s/it]"
          ]
        },
        {
          "output_type": "stream",
          "name": "stdout",
          "text": [
            "🖼️ marnie036.jpg → 📝 a girl with long blonde hair and blue eyes is standing in a forest\n"
          ]
        },
        {
          "output_type": "stream",
          "name": "stderr",
          "text": [
            "\r 15%|█▌        | 94/626 [01:55<10:05,  1.14s/it]"
          ]
        },
        {
          "output_type": "stream",
          "name": "stdout",
          "text": [
            "🖼️ marnie040.jpg → 📝 a couple in a sandbox\n"
          ]
        },
        {
          "output_type": "stream",
          "name": "stderr",
          "text": [
            "\r 15%|█▌        | 95/626 [01:56<09:51,  1.11s/it]"
          ]
        },
        {
          "output_type": "stream",
          "name": "stdout",
          "text": [
            "🖼️ marnie039.jpg → 📝 a girl is hugging a boy in a sand pit\n"
          ]
        },
        {
          "output_type": "stream",
          "name": "stderr",
          "text": [
            "\r 15%|█▌        | 96/626 [01:57<08:28,  1.04it/s]"
          ]
        },
        {
          "output_type": "stream",
          "name": "stdout",
          "text": [
            "🖼️ marnie044.jpg → 📝 a girl is crying in the rain\n"
          ]
        },
        {
          "output_type": "stream",
          "name": "stderr",
          "text": [
            "\r 15%|█▌        | 97/626 [01:57<07:54,  1.11it/s]"
          ]
        },
        {
          "output_type": "stream",
          "name": "stdout",
          "text": [
            "🖼️ marnie037.jpg → 📝 a bridge over a stream in a forest\n"
          ]
        },
        {
          "output_type": "stream",
          "name": "stderr",
          "text": [
            "\r 16%|█▌        | 98/626 [01:58<07:13,  1.22it/s]"
          ]
        },
        {
          "output_type": "stream",
          "name": "stdout",
          "text": [
            "🖼️ marnie041.jpg → 📝 a boy is running through a forest\n"
          ]
        },
        {
          "output_type": "stream",
          "name": "stderr",
          "text": [
            "\r 16%|█▌        | 99/626 [01:59<07:43,  1.14it/s]"
          ]
        },
        {
          "output_type": "stream",
          "name": "stdout",
          "text": [
            "🖼️ marnie042.jpg → 📝 a man in a white shirt is standing in front of a house\n"
          ]
        },
        {
          "output_type": "stream",
          "name": "stderr",
          "text": [
            "\r 16%|█▌        | 100/626 [02:01<09:45,  1.11s/it]"
          ]
        },
        {
          "output_type": "stream",
          "name": "stdout",
          "text": [
            "🖼️ marnie038.jpg → 📝 a castle with a tower and a castle tower\n"
          ]
        },
        {
          "output_type": "stream",
          "name": "stderr",
          "text": [
            "\r 16%|█▌        | 101/626 [02:01<08:44,  1.00it/s]"
          ]
        },
        {
          "output_type": "stream",
          "name": "stdout",
          "text": [
            "🖼️ marnie043.jpg → 📝 a girl with long hair and blue eyes is crying\n"
          ]
        },
        {
          "output_type": "stream",
          "name": "stderr",
          "text": [
            "\r 16%|█▋        | 102/626 [02:02<09:00,  1.03s/it]"
          ]
        },
        {
          "output_type": "stream",
          "name": "stdout",
          "text": [
            "🖼️ marnie048.jpg → 📝 a boy and girl in a red car with a man in the back seat\n"
          ]
        },
        {
          "output_type": "stream",
          "name": "stderr",
          "text": [
            "\r 16%|█▋        | 103/626 [02:03<08:47,  1.01s/it]"
          ]
        },
        {
          "output_type": "stream",
          "name": "stdout",
          "text": [
            "🖼️ marnie045.jpg → 📝 a girl and boy are sitting on a boat in a lake\n"
          ]
        },
        {
          "output_type": "stream",
          "name": "stderr",
          "text": [
            "\r 17%|█▋        | 104/626 [02:04<08:45,  1.01s/it]"
          ]
        },
        {
          "output_type": "stream",
          "name": "stdout",
          "text": [
            "🖼️ marnie046.jpg → 📝 a woman is sitting on a bed with a child in her lap\n"
          ]
        },
        {
          "output_type": "stream",
          "name": "stderr",
          "text": [
            "\r 17%|█▋        | 105/626 [02:06<10:24,  1.20s/it]"
          ]
        },
        {
          "output_type": "stream",
          "name": "stdout",
          "text": [
            "🖼️ marnie050.jpg → 📝 a girl and boy are standing on a beach with a sand castle\n"
          ]
        },
        {
          "output_type": "stream",
          "name": "stderr",
          "text": [
            "\r 17%|█▋        | 106/626 [02:07<10:32,  1.22s/it]"
          ]
        },
        {
          "output_type": "stream",
          "name": "stdout",
          "text": [
            "🖼️ marnie047.jpg → 📝 a house in the countryside with a garden\n"
          ]
        },
        {
          "output_type": "stream",
          "name": "stderr",
          "text": [
            "\r 17%|█▋        | 107/626 [02:09<11:31,  1.33s/it]"
          ]
        },
        {
          "output_type": "stream",
          "name": "stdout",
          "text": [
            "🖼️ marnie049.jpg → 📝 a girl is standing in a window of a house\n"
          ]
        },
        {
          "output_type": "stream",
          "name": "stderr",
          "text": [
            "\r 17%|█▋        | 108/626 [02:10<11:28,  1.33s/it]"
          ]
        },
        {
          "output_type": "stream",
          "name": "stdout",
          "text": [
            "🖼️ kazetachinu007 (1).jpg → 📝 a boy in a school uniform sits at a desk with a notebook and a pencil\n"
          ]
        },
        {
          "output_type": "stream",
          "name": "stderr",
          "text": [
            "\r 17%|█▋        | 109/626 [02:11<11:18,  1.31s/it]"
          ]
        },
        {
          "output_type": "stream",
          "name": "stdout",
          "text": [
            "🖼️ kazetachinu003.jpg → 📝 a man in a top hat is holding a hat and pointing to the sky\n"
          ]
        },
        {
          "output_type": "stream",
          "name": "stderr",
          "text": [
            "\r 18%|█▊        | 110/626 [02:13<11:17,  1.31s/it]"
          ]
        },
        {
          "output_type": "stream",
          "name": "stdout",
          "text": [
            "🖼️ kazetachinu007.jpg → 📝 a boy in a school uniform sits at a desk with a notebook and a pencil\n"
          ]
        },
        {
          "output_type": "stream",
          "name": "stderr",
          "text": [
            "\r 18%|█▊        | 111/626 [02:14<10:36,  1.24s/it]"
          ]
        },
        {
          "output_type": "stream",
          "name": "stdout",
          "text": [
            "🖼️ kazetachinu004 (1).jpg → 📝 a boy and a girl in a hat and a hat\n"
          ]
        },
        {
          "output_type": "stream",
          "name": "stderr",
          "text": [
            "\r 18%|█▊        | 112/626 [02:15<09:20,  1.09s/it]"
          ]
        },
        {
          "output_type": "stream",
          "name": "stdout",
          "text": [
            "🖼️ kazetachinu005 (1).jpg → 📝 a group of people in a group of people\n"
          ]
        },
        {
          "output_type": "stream",
          "name": "stderr",
          "text": [
            "\r 18%|█▊        | 113/626 [02:16<09:56,  1.16s/it]"
          ]
        },
        {
          "output_type": "stream",
          "name": "stdout",
          "text": [
            "🖼️ kazetachinu005.jpg → 📝 a group of people in a group of people\n"
          ]
        },
        {
          "output_type": "stream",
          "name": "stderr",
          "text": [
            "\r 18%|█▊        | 114/626 [02:17<09:24,  1.10s/it]"
          ]
        },
        {
          "output_type": "stream",
          "name": "stdout",
          "text": [
            "🖼️ kazetachinu002.jpg → 📝 a girl is flying in a plane with a group of people\n"
          ]
        },
        {
          "output_type": "stream",
          "name": "stderr",
          "text": [
            "\r 18%|█▊        | 115/626 [02:18<09:16,  1.09s/it]"
          ]
        },
        {
          "output_type": "stream",
          "name": "stdout",
          "text": [
            "🖼️ kazetachinu004.jpg → 📝 a boy and a girl in a hat and a hat\n"
          ]
        },
        {
          "output_type": "stream",
          "name": "stderr",
          "text": [
            "\r 19%|█▊        | 116/626 [02:19<08:36,  1.01s/it]"
          ]
        },
        {
          "output_type": "stream",
          "name": "stdout",
          "text": [
            "🖼️ kazetachinu001.jpg → 📝 a girl in a blue dress is flying in the sky\n"
          ]
        },
        {
          "output_type": "stream",
          "name": "stderr",
          "text": [
            "\r 19%|█▊        | 117/626 [02:20<09:12,  1.09s/it]"
          ]
        },
        {
          "output_type": "stream",
          "name": "stdout",
          "text": [
            "🖼️ kazetachinu008 (1).jpg → 📝 a girl sits on a bed in a room with a man and a woman\n"
          ]
        },
        {
          "output_type": "stream",
          "name": "stderr",
          "text": [
            "\r 19%|█▉        | 118/626 [02:21<10:08,  1.20s/it]"
          ]
        },
        {
          "output_type": "stream",
          "name": "stdout",
          "text": [
            "🖼️ kazetachinu006 (1).jpg → 📝 a train is moving down a track with people on it\n"
          ]
        },
        {
          "output_type": "stream",
          "name": "stderr",
          "text": [
            "\r 19%|█▉        | 119/626 [02:22<09:15,  1.09s/it]"
          ]
        },
        {
          "output_type": "stream",
          "name": "stdout",
          "text": [
            "🖼️ kazetachinu006.jpg → 📝 a train is moving down a track with people on it\n"
          ]
        },
        {
          "output_type": "stream",
          "name": "stderr",
          "text": [
            "\r 19%|█▉        | 120/626 [02:24<11:36,  1.38s/it]"
          ]
        },
        {
          "output_type": "stream",
          "name": "stdout",
          "text": [
            "🖼️ kazetachinu008.jpg → 📝 a girl sits on a bed in a room with a man and a woman\n"
          ]
        },
        {
          "output_type": "stream",
          "name": "stderr",
          "text": [
            "\r 19%|█▉        | 121/626 [02:26<11:39,  1.38s/it]"
          ]
        },
        {
          "output_type": "stream",
          "name": "stdout",
          "text": [
            "🖼️ kazetachinu009 (1).jpg → 📝 a train station with a train and a train station\n"
          ]
        },
        {
          "output_type": "stream",
          "name": "stderr",
          "text": [
            "\r 19%|█▉        | 122/626 [02:27<11:27,  1.36s/it]"
          ]
        },
        {
          "output_type": "stream",
          "name": "stdout",
          "text": [
            "🖼️ kazetachinu010 (1).jpg → 📝 a group of people in a crowded train station\n"
          ]
        },
        {
          "output_type": "stream",
          "name": "stderr",
          "text": [
            "\r 20%|█▉        | 123/626 [02:29<12:07,  1.45s/it]"
          ]
        },
        {
          "output_type": "stream",
          "name": "stdout",
          "text": [
            "🖼️ kazetachinu012 (1).jpg → 📝 a man in a suit and tie is examining a piece of paper\n"
          ]
        },
        {
          "output_type": "stream",
          "name": "stderr",
          "text": [
            "\r 20%|█▉        | 124/626 [02:30<10:27,  1.25s/it]"
          ]
        },
        {
          "output_type": "stream",
          "name": "stdout",
          "text": [
            "🖼️ kazetachinu010.jpg → 📝 a group of people in a crowded train station\n"
          ]
        },
        {
          "output_type": "stream",
          "name": "stderr",
          "text": [
            "\r 20%|█▉        | 125/626 [02:31<11:23,  1.36s/it]"
          ]
        },
        {
          "output_type": "stream",
          "name": "stdout",
          "text": [
            "🖼️ kazetachinu009.jpg → 📝 a train station with a train and a train station\n"
          ]
        },
        {
          "output_type": "stream",
          "name": "stderr",
          "text": [
            "\r 20%|██        | 126/626 [02:33<12:05,  1.45s/it]"
          ]
        },
        {
          "output_type": "stream",
          "name": "stdout",
          "text": [
            "🖼️ kazetachinu014.jpg → 📝 a pair of men in suits and hats, a man in a suit and a woman in a hat\n"
          ]
        },
        {
          "output_type": "stream",
          "name": "stderr",
          "text": [
            "\r 20%|██        | 127/626 [02:34<11:04,  1.33s/it]"
          ]
        },
        {
          "output_type": "stream",
          "name": "stdout",
          "text": [
            "🖼️ kazetachinu012.jpg → 📝 a man in a suit and tie is examining a piece of paper\n"
          ]
        },
        {
          "output_type": "stream",
          "name": "stderr",
          "text": [
            "\r 20%|██        | 128/626 [02:35<11:04,  1.33s/it]"
          ]
        },
        {
          "output_type": "stream",
          "name": "stdout",
          "text": [
            "🖼️ kazetachinu011 (1).jpg → 📝 a group of people standing in front of a building\n"
          ]
        },
        {
          "output_type": "stream",
          "name": "stderr",
          "text": [
            "\r 21%|██        | 129/626 [02:37<13:15,  1.60s/it]"
          ]
        },
        {
          "output_type": "stream",
          "name": "stdout",
          "text": [
            "🖼️ kazetachinu013 (1).jpg → 📝 a samurai samurai samurai samurai samurai samurai samurai sam\n"
          ]
        },
        {
          "output_type": "stream",
          "name": "stderr",
          "text": [
            "\r 21%|██        | 130/626 [02:38<10:44,  1.30s/it]"
          ]
        },
        {
          "output_type": "stream",
          "name": "stdout",
          "text": [
            "🖼️ kazetachinu016.jpg → 📝 a plane flying over a city\n"
          ]
        },
        {
          "output_type": "stream",
          "name": "stderr",
          "text": [
            "\r 21%|██        | 131/626 [02:39<11:05,  1.34s/it]"
          ]
        },
        {
          "output_type": "stream",
          "name": "stdout",
          "text": [
            "🖼️ kazetachinu015.jpg → 📝 a sailor carries a cake in his hands\n"
          ]
        },
        {
          "output_type": "stream",
          "name": "stderr",
          "text": [
            "\r 21%|██        | 132/626 [02:41<11:10,  1.36s/it]"
          ]
        },
        {
          "output_type": "stream",
          "name": "stdout",
          "text": [
            "🖼️ kazetachinu011.jpg → 📝 a group of people standing in front of a building\n"
          ]
        },
        {
          "output_type": "stream",
          "name": "stderr",
          "text": [
            "\r 21%|██        | 133/626 [02:43<13:11,  1.61s/it]"
          ]
        },
        {
          "output_type": "stream",
          "name": "stdout",
          "text": [
            "🖼️ kazetachinu013.jpg → 📝 a samurai samurai samurai samurai samurai samurai samurai sam\n"
          ]
        },
        {
          "output_type": "stream",
          "name": "stderr",
          "text": [
            "\r 21%|██▏       | 134/626 [02:44<12:28,  1.52s/it]"
          ]
        },
        {
          "output_type": "stream",
          "name": "stdout",
          "text": [
            "🖼️ kazetachinu020.jpg → 📝 a man and woman in a blue shirt and blue pants are standing in front of a blue sky\n"
          ]
        },
        {
          "output_type": "stream",
          "name": "stderr",
          "text": [
            "\r 22%|██▏       | 135/626 [02:46<12:33,  1.54s/it]"
          ]
        },
        {
          "output_type": "stream",
          "name": "stdout",
          "text": [
            "🖼️ kazetachinu021.jpg → 📝 a pair of cartoon characters in a splatter of paint\n"
          ]
        },
        {
          "output_type": "stream",
          "name": "stderr",
          "text": [
            "\r 22%|██▏       | 136/626 [02:47<11:16,  1.38s/it]"
          ]
        },
        {
          "output_type": "stream",
          "name": "stdout",
          "text": [
            "🖼️ kazetachinu019.jpg → 📝 a group of people in a car with a plane flying over them\n"
          ]
        },
        {
          "output_type": "stream",
          "name": "stderr",
          "text": [
            "\r 22%|██▏       | 137/626 [02:49<12:03,  1.48s/it]"
          ]
        },
        {
          "output_type": "stream",
          "name": "stdout",
          "text": [
            "🖼️ kazetachinu024.jpg → 📝 a girl is sitting on a bench with a hat and a hat\n"
          ]
        },
        {
          "output_type": "stream",
          "name": "stderr",
          "text": [
            "\r 22%|██▏       | 138/626 [02:50<10:45,  1.32s/it]"
          ]
        },
        {
          "output_type": "stream",
          "name": "stdout",
          "text": [
            "🖼️ kazetachinu017.jpg → 📝 a man in a suit and tie sits in a train\n"
          ]
        },
        {
          "output_type": "stream",
          "name": "stderr",
          "text": [
            "\r 22%|██▏       | 139/626 [02:51<11:22,  1.40s/it]"
          ]
        },
        {
          "output_type": "stream",
          "name": "stdout",
          "text": [
            "🖼️ kazetachinu022.jpg → 📝 a man in a suit and tie standing in front of a plane\n"
          ]
        },
        {
          "output_type": "stream",
          "name": "stderr",
          "text": [
            "\r 22%|██▏       | 140/626 [02:52<10:15,  1.27s/it]"
          ]
        },
        {
          "output_type": "stream",
          "name": "stdout",
          "text": [
            "🖼️ kazetachinu018.jpg → 📝 a man in a suit and a woman in a dress\n"
          ]
        },
        {
          "output_type": "stream",
          "name": "stderr",
          "text": [
            "\r 23%|██▎       | 141/626 [02:54<11:11,  1.38s/it]"
          ]
        },
        {
          "output_type": "stream",
          "name": "stdout",
          "text": [
            "🖼️ kazetachinu023.jpg → 📝 a girl in a hat is laying on a bed of grass\n"
          ]
        },
        {
          "output_type": "stream",
          "name": "stderr",
          "text": [
            "\r 23%|██▎       | 142/626 [02:55<10:09,  1.26s/it]"
          ]
        },
        {
          "output_type": "stream",
          "name": "stdout",
          "text": [
            "🖼️ kazetachinu028.jpg → 📝 a girl is sitting on a wooden platform in a wooden boat\n"
          ]
        },
        {
          "output_type": "stream",
          "name": "stderr",
          "text": [
            "\r 23%|██▎       | 143/626 [02:56<09:26,  1.17s/it]"
          ]
        },
        {
          "output_type": "stream",
          "name": "stdout",
          "text": [
            "🖼️ kazetachinu027.jpg → 📝 a man in a suit and tie is smoking a cigarette\n"
          ]
        },
        {
          "output_type": "stream",
          "name": "stderr",
          "text": [
            "\r 23%|██▎       | 144/626 [02:57<09:46,  1.22s/it]"
          ]
        },
        {
          "output_type": "stream",
          "name": "stdout",
          "text": [
            "🖼️ kazetachinu026.jpg → 📝 a girl and boy in a raincoat and umbrella\n"
          ]
        },
        {
          "output_type": "stream",
          "name": "stderr",
          "text": [
            "\r 23%|██▎       | 145/626 [02:58<09:58,  1.24s/it]"
          ]
        },
        {
          "output_type": "stream",
          "name": "stdout",
          "text": [
            "🖼️ kazetachinu029.jpg → 📝 a man and woman in a striped shirt and a blue shirt are standing in a hallway\n"
          ]
        },
        {
          "output_type": "stream",
          "name": "stderr",
          "text": [
            "\r 23%|██▎       | 146/626 [02:59<08:58,  1.12s/it]"
          ]
        },
        {
          "output_type": "stream",
          "name": "stdout",
          "text": [
            "🖼️ kazetachinu030.jpg → 📝 a man and woman standing in front of a large airplane\n"
          ]
        },
        {
          "output_type": "stream",
          "name": "stderr",
          "text": [
            "\r 23%|██▎       | 147/626 [03:02<12:22,  1.55s/it]"
          ]
        },
        {
          "output_type": "stream",
          "name": "stdout",
          "text": [
            "🖼️ kazetachinu032.jpg → 📝 a man sits on a table with papers on the floor\n"
          ]
        },
        {
          "output_type": "stream",
          "name": "stderr",
          "text": [
            "\r 24%|██▎       | 148/626 [03:03<10:56,  1.37s/it]"
          ]
        },
        {
          "output_type": "stream",
          "name": "stdout",
          "text": [
            "🖼️ kazetachinu031.jpg → 📝 a young boy and a young girl are sitting in a room\n"
          ]
        },
        {
          "output_type": "stream",
          "name": "stderr",
          "text": [
            "\r 24%|██▍       | 149/626 [03:04<11:40,  1.47s/it]"
          ]
        },
        {
          "output_type": "stream",
          "name": "stdout",
          "text": [
            "🖼️ kazetachinu025.jpg → 📝 a man is standing in front of a wrecked plane\n"
          ]
        },
        {
          "output_type": "stream",
          "name": "stderr",
          "text": [
            "\r 24%|██▍       | 150/626 [03:05<09:54,  1.25s/it]"
          ]
        },
        {
          "output_type": "stream",
          "name": "stdout",
          "text": [
            "🖼️ kazetachinu036.jpg → 📝 a man and woman kissing in a train\n"
          ]
        },
        {
          "output_type": "stream",
          "name": "stderr",
          "text": [
            "\r 24%|██▍       | 151/626 [03:06<09:26,  1.19s/it]"
          ]
        },
        {
          "output_type": "stream",
          "name": "stdout",
          "text": [
            "🖼️ kazetachinu037.jpg → 📝 a girl in a kimono and a kimono\n"
          ]
        },
        {
          "output_type": "stream",
          "name": "stderr",
          "text": [
            "\r 24%|██▍       | 152/626 [03:07<08:09,  1.03s/it]"
          ]
        },
        {
          "output_type": "stream",
          "name": "stdout",
          "text": [
            "🖼️ kazetachinu033.jpg → 📝 a group of people in a room\n"
          ]
        },
        {
          "output_type": "stream",
          "name": "stderr",
          "text": [
            "\r 24%|██▍       | 153/626 [03:08<08:52,  1.13s/it]"
          ]
        },
        {
          "output_type": "stream",
          "name": "stdout",
          "text": [
            "🖼️ kazetachinu034.jpg → 📝 a group of people are sleeping on a bed\n"
          ]
        },
        {
          "output_type": "stream",
          "name": "stderr",
          "text": [
            "\r 25%|██▍       | 154/626 [03:09<09:04,  1.15s/it]"
          ]
        },
        {
          "output_type": "stream",
          "name": "stdout",
          "text": [
            "🖼️ kazetachinu035.jpg → 📝 a group of people working on a computer\n"
          ]
        },
        {
          "output_type": "stream",
          "name": "stderr",
          "text": [
            "\r 25%|██▍       | 155/626 [03:11<08:51,  1.13s/it]"
          ]
        },
        {
          "output_type": "stream",
          "name": "stdout",
          "text": [
            "🖼️ kazetachinu038.jpg → 📝 a girl is hugging a boy in a shabby apartment\n"
          ]
        },
        {
          "output_type": "stream",
          "name": "stderr",
          "text": [
            "\r 25%|██▍       | 156/626 [03:12<09:34,  1.22s/it]"
          ]
        },
        {
          "output_type": "stream",
          "name": "stdout",
          "text": [
            "🖼️ kazetachinu039.jpg → 📝 a man and woman in a kimono and kimono sat on a table\n"
          ]
        },
        {
          "output_type": "stream",
          "name": "stderr",
          "text": [
            "\r 25%|██▌       | 157/626 [03:13<09:10,  1.17s/it]"
          ]
        },
        {
          "output_type": "stream",
          "name": "stdout",
          "text": [
            "🖼️ kazetachinu040.jpg → 📝 a man and woman in a kimono and kimono\n"
          ]
        },
        {
          "output_type": "stream",
          "name": "stderr",
          "text": [
            "\r 25%|██▌       | 158/626 [03:14<07:55,  1.02s/it]"
          ]
        },
        {
          "output_type": "stream",
          "name": "stdout",
          "text": [
            "🖼️ kazetachinu046.jpg → 📝 a group of planes flying in formation\n"
          ]
        },
        {
          "output_type": "stream",
          "name": "stderr",
          "text": [
            "\r 25%|██▌       | 159/626 [03:16<09:52,  1.27s/it]"
          ]
        },
        {
          "output_type": "stream",
          "name": "stdout",
          "text": [
            "🖼️ kazetachinu042.jpg → 📝 a hut in the woods with a tree in the background\n"
          ]
        },
        {
          "output_type": "stream",
          "name": "stderr",
          "text": [
            "\r 26%|██▌       | 160/626 [03:16<08:15,  1.06s/it]"
          ]
        },
        {
          "output_type": "stream",
          "name": "stdout",
          "text": [
            "🖼️ kazetachinu044.jpg → 📝 a small plane flying in the sky\n"
          ]
        },
        {
          "output_type": "stream",
          "name": "stderr",
          "text": [
            "\r 26%|██▌       | 161/626 [03:18<10:08,  1.31s/it]"
          ]
        },
        {
          "output_type": "stream",
          "name": "stdout",
          "text": [
            "🖼️ kazetachinu043.jpg → 📝 a man in a suit and a hat is standing in front of a cloud\n"
          ]
        },
        {
          "output_type": "stream",
          "name": "stderr",
          "text": [
            "\r 26%|██▌       | 162/626 [03:19<09:45,  1.26s/it]"
          ]
        },
        {
          "output_type": "stream",
          "name": "stdout",
          "text": [
            "🖼️ kazetachinu045.jpg → 📝 a man in a suit and tie is standing in front of a group of people\n"
          ]
        },
        {
          "output_type": "stream",
          "name": "stderr",
          "text": [
            "\r 26%|██▌       | 163/626 [03:20<09:44,  1.26s/it]"
          ]
        },
        {
          "output_type": "stream",
          "name": "stdout",
          "text": [
            "🖼️ kazetachinu041.jpg → 📝 a girl sits on a bed in a room with a lamp and a book\n"
          ]
        },
        {
          "output_type": "stream",
          "name": "stderr",
          "text": [
            "\r 26%|██▌       | 164/626 [03:22<09:34,  1.24s/it]"
          ]
        },
        {
          "output_type": "stream",
          "name": "stdout",
          "text": [
            "🖼️ kazetachinu049.jpg → 📝 a girl with a blond hair and blue eyes is sitting in a field\n"
          ]
        },
        {
          "output_type": "stream",
          "name": "stderr",
          "text": [
            "\r 26%|██▋       | 165/626 [03:23<09:46,  1.27s/it]"
          ]
        },
        {
          "output_type": "stream",
          "name": "stdout",
          "text": [
            "🖼️ kazetachinu048.jpg → 📝 a man in a suit and tie is standing next to a man in a suit and tie\n"
          ]
        },
        {
          "output_type": "stream",
          "name": "stderr",
          "text": [
            "\r 27%|██▋       | 166/626 [03:24<08:46,  1.15s/it]"
          ]
        },
        {
          "output_type": "stream",
          "name": "stdout",
          "text": [
            "🖼️ kazetachinu047.jpg → 📝 a girl in a yellow dress with a white umbrella\n"
          ]
        },
        {
          "output_type": "stream",
          "name": "stderr",
          "text": [
            "\r 27%|██▋       | 167/626 [03:27<12:30,  1.63s/it]"
          ]
        },
        {
          "output_type": "stream",
          "name": "stdout",
          "text": [
            "🖼️ kazetachinu050.jpg → 📝 a sakura sakura sakura sakura sakura sakura sakura sa\n"
          ]
        },
        {
          "output_type": "stream",
          "name": "stderr",
          "text": [
            "\r 27%|██▋       | 168/626 [03:27<10:11,  1.34s/it]"
          ]
        },
        {
          "output_type": "stream",
          "name": "stdout",
          "text": [
            "🖼️ kokurikozaka002.jpg → 📝 a flag flies in the sky\n"
          ]
        },
        {
          "output_type": "stream",
          "name": "stderr",
          "text": [
            "\r 27%|██▋       | 169/626 [03:29<10:07,  1.33s/it]"
          ]
        },
        {
          "output_type": "stream",
          "name": "stdout",
          "text": [
            "🖼️ kokurikozaka005 (1).jpg → 📝 a girl is cooking a dish in a kitchen\n"
          ]
        },
        {
          "output_type": "stream",
          "name": "stderr",
          "text": [
            "\r 27%|██▋       | 170/626 [03:30<10:08,  1.34s/it]"
          ]
        },
        {
          "output_type": "stream",
          "name": "stdout",
          "text": [
            "🖼️ kokurikozaka005.jpg → 📝 a girl is cooking a dish in a kitchen\n"
          ]
        },
        {
          "output_type": "stream",
          "name": "stderr",
          "text": [
            "\r 27%|██▋       | 171/626 [03:31<09:50,  1.30s/it]"
          ]
        },
        {
          "output_type": "stream",
          "name": "stdout",
          "text": [
            "🖼️ kokurikozaka004 (1).jpg → 📝 a man in a blue shirt is standing on a pier looking at a ship\n"
          ]
        },
        {
          "output_type": "stream",
          "name": "stderr",
          "text": [
            "\r 27%|██▋       | 172/626 [03:32<09:37,  1.27s/it]"
          ]
        },
        {
          "output_type": "stream",
          "name": "stdout",
          "text": [
            "🖼️ kokurikozaka004.jpg → 📝 a man in a blue shirt is standing on a pier looking at a ship\n"
          ]
        },
        {
          "output_type": "stream",
          "name": "stderr",
          "text": [
            "\r 28%|██▊       | 173/626 [03:34<10:15,  1.36s/it]"
          ]
        },
        {
          "output_type": "stream",
          "name": "stdout",
          "text": [
            "🖼️ kokurikozaka007 (1).jpg → 📝 a family sits around a table in a kitchen\n"
          ]
        },
        {
          "output_type": "stream",
          "name": "stderr",
          "text": [
            "\r 28%|██▊       | 174/626 [03:35<08:57,  1.19s/it]"
          ]
        },
        {
          "output_type": "stream",
          "name": "stdout",
          "text": [
            "🖼️ kokurikozaka001.jpg → 📝 a girl is standing in front of a red pole\n"
          ]
        },
        {
          "output_type": "stream",
          "name": "stderr",
          "text": [
            "\r 28%|██▊       | 175/626 [03:36<09:09,  1.22s/it]"
          ]
        },
        {
          "output_type": "stream",
          "name": "stdout",
          "text": [
            "🖼️ kokurikozaka008 (1).jpg → 📝 a boat docked in a harbor\n"
          ]
        },
        {
          "output_type": "stream",
          "name": "stderr",
          "text": [
            "\r 28%|██▊       | 176/626 [03:37<09:20,  1.24s/it]"
          ]
        },
        {
          "output_type": "stream",
          "name": "stdout",
          "text": [
            "🖼️ kokurikozaka006 (1).jpg → 📝 a woman is preparing food for her family\n"
          ]
        },
        {
          "output_type": "stream",
          "name": "stderr",
          "text": [
            "\r 28%|██▊       | 177/626 [03:38<08:06,  1.08s/it]"
          ]
        },
        {
          "output_type": "stream",
          "name": "stdout",
          "text": [
            "🖼️ kokurikozaka008.jpg → 📝 a boat docked in a harbor\n"
          ]
        },
        {
          "output_type": "stream",
          "name": "stderr",
          "text": [
            "\r 28%|██▊       | 178/626 [03:39<08:46,  1.17s/it]"
          ]
        },
        {
          "output_type": "stream",
          "name": "stdout",
          "text": [
            "🖼️ kokurikozaka007.jpg → 📝 a family sits around a table in a kitchen\n"
          ]
        },
        {
          "output_type": "stream",
          "name": "stderr",
          "text": [
            "\r 29%|██▊       | 179/626 [03:42<12:27,  1.67s/it]"
          ]
        },
        {
          "output_type": "stream",
          "name": "stdout",
          "text": [
            "🖼️ kokurikozaka003.jpg → 📝 a sakura saga - a sakura saga - a sakura saga - a s\n"
          ]
        },
        {
          "output_type": "stream",
          "name": "stderr",
          "text": [
            "\r 29%|██▉       | 180/626 [03:43<11:26,  1.54s/it]"
          ]
        },
        {
          "output_type": "stream",
          "name": "stdout",
          "text": [
            "🖼️ kokurikozaka006.jpg → 📝 a woman is preparing food for her family\n"
          ]
        },
        {
          "output_type": "stream",
          "name": "stderr",
          "text": [
            "\r 29%|██▉       | 181/626 [03:46<13:00,  1.76s/it]"
          ]
        },
        {
          "output_type": "stream",
          "name": "stdout",
          "text": [
            "🖼️ kokurikozaka010 (1).jpg → 📝 a chinese chinese chinese chinese chinese chinese chinese chinese chinese chi\n"
          ]
        },
        {
          "output_type": "stream",
          "name": "stderr",
          "text": [
            "\r 29%|██▉       | 182/626 [03:47<12:15,  1.66s/it]"
          ]
        },
        {
          "output_type": "stream",
          "name": "stdout",
          "text": [
            "🖼️ kokurikozaka012 (1).jpg → 📝 a girl is standing on a staircase in a dark room\n"
          ]
        },
        {
          "output_type": "stream",
          "name": "stderr",
          "text": [
            "\r 29%|██▉       | 183/626 [03:48<10:53,  1.47s/it]"
          ]
        },
        {
          "output_type": "stream",
          "name": "stdout",
          "text": [
            "🖼️ kokurikozaka011 (1).jpg → 📝 a girl in a red dress is standing in front of a doorway\n"
          ]
        },
        {
          "output_type": "stream",
          "name": "stderr",
          "text": [
            "\r 29%|██▉       | 184/626 [03:50<12:05,  1.64s/it]"
          ]
        },
        {
          "output_type": "stream",
          "name": "stdout",
          "text": [
            "🖼️ kokurikozaka013 (1).jpg → 📝 a girl in a blue dress and a girl in a blue dress stand in front of a doorway\n"
          ]
        },
        {
          "output_type": "stream",
          "name": "stderr",
          "text": [
            "\r 30%|██▉       | 185/626 [03:51<10:44,  1.46s/it]"
          ]
        },
        {
          "output_type": "stream",
          "name": "stdout",
          "text": [
            "🖼️ kokurikozaka011.jpg → 📝 a girl in a red dress is standing in front of a doorway\n"
          ]
        },
        {
          "output_type": "stream",
          "name": "stderr",
          "text": [
            "\r 30%|██▉       | 186/626 [03:53<10:44,  1.47s/it]"
          ]
        },
        {
          "output_type": "stream",
          "name": "stdout",
          "text": [
            "🖼️ kokurikozaka013.jpg → 📝 a girl in a blue dress and a girl in a blue dress stand in front of a doorway\n"
          ]
        },
        {
          "output_type": "stream",
          "name": "stderr",
          "text": [
            "\r 30%|██▉       | 187/626 [03:55<12:22,  1.69s/it]"
          ]
        },
        {
          "output_type": "stream",
          "name": "stdout",
          "text": [
            "🖼️ kokurikozaka010.jpg → 📝 a chinese chinese chinese chinese chinese chinese chinese chinese chinese chi\n"
          ]
        },
        {
          "output_type": "stream",
          "name": "stderr",
          "text": [
            "\r 30%|███       | 188/626 [03:56<11:24,  1.56s/it]"
          ]
        },
        {
          "output_type": "stream",
          "name": "stdout",
          "text": [
            "🖼️ kokurikozaka015.jpg → 📝 a boy in a blue shirt and a white shirt is standing in front of a window\n"
          ]
        },
        {
          "output_type": "stream",
          "name": "stderr",
          "text": [
            "\r 30%|███       | 189/626 [03:57<10:21,  1.42s/it]"
          ]
        },
        {
          "output_type": "stream",
          "name": "stdout",
          "text": [
            "🖼️ kokurikozaka009 (1).jpg → 📝 a girl in a school uniform is standing in front of a group of people\n"
          ]
        },
        {
          "output_type": "stream",
          "name": "stderr",
          "text": [
            "\r 30%|███       | 190/626 [03:59<11:29,  1.58s/it]"
          ]
        },
        {
          "output_type": "stream",
          "name": "stdout",
          "text": [
            "🖼️ kokurikozaka009.jpg → 📝 a girl in a school uniform is standing in front of a group of people\n"
          ]
        },
        {
          "output_type": "stream",
          "name": "stderr",
          "text": [
            "\r 31%|███       | 191/626 [04:01<11:28,  1.58s/it]"
          ]
        },
        {
          "output_type": "stream",
          "name": "stdout",
          "text": [
            "🖼️ kokurikozaka012.jpg → 📝 a girl is standing on a staircase in a dark room\n"
          ]
        },
        {
          "output_type": "stream",
          "name": "stderr",
          "text": [
            "\r 31%|███       | 192/626 [04:02<10:19,  1.43s/it]"
          ]
        },
        {
          "output_type": "stream",
          "name": "stdout",
          "text": [
            "🖼️ kokurikozaka016.jpg → 📝 a young girl is sitting in a library with a book on her lap\n"
          ]
        },
        {
          "output_type": "stream",
          "name": "stderr",
          "text": [
            "\r 31%|███       | 193/626 [04:03<10:06,  1.40s/it]"
          ]
        },
        {
          "output_type": "stream",
          "name": "stdout",
          "text": [
            "🖼️ kokurikozaka014.jpg → 📝 a young girl in a blue dress with a hat and glasses is standing in a room\n"
          ]
        },
        {
          "output_type": "stream",
          "name": "stderr",
          "text": [
            "\r 31%|███       | 194/626 [04:05<10:41,  1.49s/it]"
          ]
        },
        {
          "output_type": "stream",
          "name": "stdout",
          "text": [
            "🖼️ kokurikozaka019.jpg → 📝 a girl is standing in a street with a man on a bike\n"
          ]
        },
        {
          "output_type": "stream",
          "name": "stderr",
          "text": [
            "\r 31%|███       | 195/626 [04:07<11:41,  1.63s/it]"
          ]
        },
        {
          "output_type": "stream",
          "name": "stdout",
          "text": [
            "🖼️ kokurikozaka017.jpg → 📝 a girl is walking down a street with a man in a red shirt\n"
          ]
        },
        {
          "output_type": "stream",
          "name": "stderr",
          "text": [
            "\r 31%|███▏      | 196/626 [04:08<11:43,  1.64s/it]"
          ]
        },
        {
          "output_type": "stream",
          "name": "stdout",
          "text": [
            "🖼️ kokurikozaka018.jpg → 📝 a woman is standing in front of a counter with a woman behind her\n"
          ]
        },
        {
          "output_type": "stream",
          "name": "stderr",
          "text": [
            "\r 31%|███▏      | 197/626 [04:10<10:35,  1.48s/it]"
          ]
        },
        {
          "output_type": "stream",
          "name": "stdout",
          "text": [
            "🖼️ kokurikozaka020.jpg → 📝 a man in a blue shirt is standing in front of a group of people\n"
          ]
        },
        {
          "output_type": "stream",
          "name": "stderr",
          "text": [
            "\r 32%|███▏      | 198/626 [04:11<09:39,  1.35s/it]"
          ]
        },
        {
          "output_type": "stream",
          "name": "stdout",
          "text": [
            "🖼️ kokurikozaka021.jpg → 📝 a man in a blue shirt is standing in front of a blue wall\n"
          ]
        },
        {
          "output_type": "stream",
          "name": "stderr",
          "text": [
            "\r 32%|███▏      | 199/626 [04:13<11:46,  1.65s/it]"
          ]
        },
        {
          "output_type": "stream",
          "name": "stdout",
          "text": [
            "🖼️ kokurikozaka025.jpg → 📝 a group of people in a sailor costume with a sailor hat and a sailor hat\n"
          ]
        },
        {
          "output_type": "stream",
          "name": "stderr",
          "text": [
            "\r 32%|███▏      | 200/626 [04:14<09:41,  1.37s/it]"
          ]
        },
        {
          "output_type": "stream",
          "name": "stdout",
          "text": [
            "🖼️ kokurikozaka027.jpg → 📝 a girl and boy in a red umbrella\n"
          ]
        },
        {
          "output_type": "stream",
          "name": "stderr",
          "text": [
            "\r 32%|███▏      | 201/626 [04:15<09:27,  1.34s/it]"
          ]
        },
        {
          "output_type": "stream",
          "name": "stdout",
          "text": [
            "🖼️ kokurikozaka023.jpg → 📝 a girl and boy in a blue shirt and blue pants are standing in front of a window\n"
          ]
        },
        {
          "output_type": "stream",
          "name": "stderr",
          "text": [
            "\r 32%|███▏      | 202/626 [04:16<08:11,  1.16s/it]"
          ]
        },
        {
          "output_type": "stream",
          "name": "stdout",
          "text": [
            "🖼️ kokurikozaka026.jpg → 📝 a girl and boy are sitting in a library\n"
          ]
        },
        {
          "output_type": "stream",
          "name": "stderr",
          "text": [
            "\r 32%|███▏      | 203/626 [04:17<08:38,  1.23s/it]"
          ]
        },
        {
          "output_type": "stream",
          "name": "stdout",
          "text": [
            "🖼️ kokurikozaka024.jpg → 📝 a group of girls in a sailor outfit with a hat and a hat\n"
          ]
        },
        {
          "output_type": "stream",
          "name": "stderr",
          "text": [
            "\r 33%|███▎      | 204/626 [04:18<07:56,  1.13s/it]"
          ]
        },
        {
          "output_type": "stream",
          "name": "stdout",
          "text": [
            "🖼️ kokurikozaka022.jpg → 📝 a family sits at a table and eats food\n"
          ]
        },
        {
          "output_type": "stream",
          "name": "stderr",
          "text": [
            "\r 33%|███▎      | 205/626 [04:19<08:32,  1.22s/it]"
          ]
        },
        {
          "output_type": "stream",
          "name": "stdout",
          "text": [
            "🖼️ kokurikozaka028.jpg → 📝 a girl in a white dress is preparing to eat a squid in a bowl\n"
          ]
        },
        {
          "output_type": "stream",
          "name": "stderr",
          "text": [
            "\r 33%|███▎      | 206/626 [04:21<08:15,  1.18s/it]"
          ]
        },
        {
          "output_type": "stream",
          "name": "stdout",
          "text": [
            "🖼️ kokurikozaka029.jpg → 📝 a girl is walking down a street with a girl in a red dress\n"
          ]
        },
        {
          "output_type": "stream",
          "name": "stderr",
          "text": [
            "\r 33%|███▎      | 207/626 [04:22<08:41,  1.25s/it]"
          ]
        },
        {
          "output_type": "stream",
          "name": "stdout",
          "text": [
            "🖼️ kokurikozaka034.jpg → 📝 a girl in a blue dress and a boy in a blue shirt are sitting in a chair\n"
          ]
        },
        {
          "output_type": "stream",
          "name": "stderr",
          "text": [
            "\r 33%|███▎      | 208/626 [04:24<09:31,  1.37s/it]"
          ]
        },
        {
          "output_type": "stream",
          "name": "stdout",
          "text": [
            "🖼️ kokurikozaka030.jpg → 📝 a man is standing on a roof with a hat on his head\n"
          ]
        },
        {
          "output_type": "stream",
          "name": "stderr",
          "text": [
            "\r 33%|███▎      | 209/626 [04:24<08:31,  1.23s/it]"
          ]
        },
        {
          "output_type": "stream",
          "name": "stdout",
          "text": [
            "🖼️ kokurikozaka035.jpg → 📝 a girl is sitting in a train station waiting for her train\n"
          ]
        },
        {
          "output_type": "stream",
          "name": "stderr",
          "text": [
            "\r 34%|███▎      | 210/626 [04:26<08:54,  1.29s/it]"
          ]
        },
        {
          "output_type": "stream",
          "name": "stdout",
          "text": [
            "🖼️ kokurikozaka031.jpg → 📝 a train station with a train and a train station\n"
          ]
        },
        {
          "output_type": "stream",
          "name": "stderr",
          "text": [
            "\r 34%|███▎      | 211/626 [04:27<08:12,  1.19s/it]"
          ]
        },
        {
          "output_type": "stream",
          "name": "stdout",
          "text": [
            "🖼️ kokurikozaka033.jpg → 📝 a man in a suit sits in front of a desk\n"
          ]
        },
        {
          "output_type": "stream",
          "name": "stderr",
          "text": [
            "\r 34%|███▍      | 212/626 [04:28<07:43,  1.12s/it]"
          ]
        },
        {
          "output_type": "stream",
          "name": "stdout",
          "text": [
            "🖼️ kokurikozaka037.jpg → 📝 a young girl and boy are standing in front of a train station\n"
          ]
        },
        {
          "output_type": "stream",
          "name": "stderr",
          "text": [
            "\r 34%|███▍      | 213/626 [04:29<08:51,  1.29s/it]"
          ]
        },
        {
          "output_type": "stream",
          "name": "stdout",
          "text": [
            "🖼️ kokurikozaka032.jpg → 📝 a group of people sitting on a bench in a hallway\n"
          ]
        },
        {
          "output_type": "stream",
          "name": "stderr",
          "text": [
            "\r 34%|███▍      | 214/626 [04:30<08:11,  1.19s/it]"
          ]
        },
        {
          "output_type": "stream",
          "name": "stdout",
          "text": [
            "🖼️ kokurikozaka040.jpg → 📝 a girl is sitting on the floor with a book in her lap\n"
          ]
        },
        {
          "output_type": "stream",
          "name": "stderr",
          "text": [
            "\r 34%|███▍      | 215/626 [04:31<07:22,  1.08s/it]"
          ]
        },
        {
          "output_type": "stream",
          "name": "stdout",
          "text": [
            "🖼️ kokurikozaka036.jpg → 📝 a couple of people standing in front of a ship\n"
          ]
        },
        {
          "output_type": "stream",
          "name": "stderr",
          "text": [
            "\r 35%|███▍      | 216/626 [04:32<07:22,  1.08s/it]"
          ]
        },
        {
          "output_type": "stream",
          "name": "stdout",
          "text": [
            "🖼️ kokurikozaka044.jpg → 📝 a group of people in a group of people in a group of people\n"
          ]
        },
        {
          "output_type": "stream",
          "name": "stderr",
          "text": [
            "\r 35%|███▍      | 217/626 [04:33<06:40,  1.02it/s]"
          ]
        },
        {
          "output_type": "stream",
          "name": "stdout",
          "text": [
            "🖼️ kokurikozaka045.jpg → 📝 a group of people in a group of people\n"
          ]
        },
        {
          "output_type": "stream",
          "name": "stderr",
          "text": [
            "\r 35%|███▍      | 218/626 [04:35<09:08,  1.34s/it]"
          ]
        },
        {
          "output_type": "stream",
          "name": "stdout",
          "text": [
            "🖼️ kokurikozaka042.jpg → 📝 a girl and boy in a blue shirt and blue pants are standing in front of a blue door\n"
          ]
        },
        {
          "output_type": "stream",
          "name": "stderr",
          "text": [
            "\r 35%|███▍      | 219/626 [04:37<10:14,  1.51s/it]"
          ]
        },
        {
          "output_type": "stream",
          "name": "stdout",
          "text": [
            "🖼️ kokurikozaka039.jpg → 📝 a young boy and a young girl are sitting on a couch\n"
          ]
        },
        {
          "output_type": "stream",
          "name": "stderr",
          "text": [
            "\r 35%|███▌      | 220/626 [04:38<09:06,  1.35s/it]"
          ]
        },
        {
          "output_type": "stream",
          "name": "stdout",
          "text": [
            "🖼️ kokurikozaka038.jpg → 📝 a man in a blue shirt is standing next to a train\n"
          ]
        },
        {
          "output_type": "stream",
          "name": "stderr",
          "text": [
            "\r 35%|███▌      | 221/626 [04:40<10:09,  1.50s/it]"
          ]
        },
        {
          "output_type": "stream",
          "name": "stdout",
          "text": [
            "🖼️ kokurikozaka041.jpg → 📝 a man in a suit and tie is waving his hand in the air\n"
          ]
        },
        {
          "output_type": "stream",
          "name": "stderr",
          "text": [
            "\r 35%|███▌      | 222/626 [04:41<08:55,  1.33s/it]"
          ]
        },
        {
          "output_type": "stream",
          "name": "stdout",
          "text": [
            "🖼️ kokurikozaka048.jpg → 📝 a sailor and a captain in a ship\n"
          ]
        },
        {
          "output_type": "stream",
          "name": "stderr",
          "text": [
            "\r 36%|███▌      | 223/626 [04:42<09:13,  1.37s/it]"
          ]
        },
        {
          "output_type": "stream",
          "name": "stdout",
          "text": [
            "🖼️ kokurikozaka049.jpg → 📝 a house on a hillside with trees and a sunset\n"
          ]
        },
        {
          "output_type": "stream",
          "name": "stderr",
          "text": [
            "\r 36%|███▌      | 224/626 [04:44<09:12,  1.37s/it]"
          ]
        },
        {
          "output_type": "stream",
          "name": "stdout",
          "text": [
            "🖼️ kokurikozaka046.jpg → 📝 a man is riding a bike down a hill\n"
          ]
        },
        {
          "output_type": "stream",
          "name": "stderr",
          "text": [
            "\r 36%|███▌      | 225/626 [04:45<09:40,  1.45s/it]"
          ]
        },
        {
          "output_type": "stream",
          "name": "stdout",
          "text": [
            "🖼️ kokurikozaka050.jpg → 📝 a girl and boy are standing in front of a window looking at the sky\n"
          ]
        },
        {
          "output_type": "stream",
          "name": "stderr",
          "text": [
            "\r 36%|███▌      | 226/626 [04:47<10:05,  1.51s/it]"
          ]
        },
        {
          "output_type": "stream",
          "name": "stdout",
          "text": [
            "🖼️ kokurikozaka047.jpg → 📝 a girl and boy are sitting on a bench in front of a blue sky\n"
          ]
        },
        {
          "output_type": "stream",
          "name": "stderr",
          "text": [
            "\r 36%|███▋      | 227/626 [04:49<10:27,  1.57s/it]"
          ]
        },
        {
          "output_type": "stream",
          "name": "stdout",
          "text": [
            "🖼️ kokurikozaka043.jpg → 📝 a man is standing in front of a staircase with a woman in front of him\n"
          ]
        },
        {
          "output_type": "stream",
          "name": "stderr",
          "text": [
            "\r 36%|███▋      | 228/626 [04:49<08:29,  1.28s/it]"
          ]
        },
        {
          "output_type": "stream",
          "name": "stdout",
          "text": [
            "🖼️ karigurashi008.jpg → 📝 a girl is holding a flower\n"
          ]
        },
        {
          "output_type": "stream",
          "name": "stderr",
          "text": [
            "\r 37%|███▋      | 229/626 [04:50<08:01,  1.21s/it]"
          ]
        },
        {
          "output_type": "stream",
          "name": "stdout",
          "text": [
            "🖼️ karigurashi005.jpg → 📝 a girl is walking with a hat and a pair of ants\n"
          ]
        },
        {
          "output_type": "stream",
          "name": "stderr",
          "text": [
            "\r 37%|███▋      | 230/626 [04:52<08:50,  1.34s/it]"
          ]
        },
        {
          "output_type": "stream",
          "name": "stdout",
          "text": [
            "🖼️ karigurashi006.jpg → 📝 a girl in a hat and a girl in a hat\n"
          ]
        },
        {
          "output_type": "stream",
          "name": "stderr",
          "text": [
            "\r 37%|███▋      | 231/626 [04:53<08:05,  1.23s/it]"
          ]
        },
        {
          "output_type": "stream",
          "name": "stdout",
          "text": [
            "🖼️ karigurashi004.jpg → 📝 a fox and a cat in a dungeon\n"
          ]
        },
        {
          "output_type": "stream",
          "name": "stderr",
          "text": [
            "\r 37%|███▋      | 232/626 [04:54<08:00,  1.22s/it]"
          ]
        },
        {
          "output_type": "stream",
          "name": "stdout",
          "text": [
            "🖼️ karigurashi002.jpg → 📝 a house in the countryside\n"
          ]
        },
        {
          "output_type": "stream",
          "name": "stderr",
          "text": [
            "\r 37%|███▋      | 233/626 [04:56<08:22,  1.28s/it]"
          ]
        },
        {
          "output_type": "stream",
          "name": "stdout",
          "text": [
            "🖼️ karigurashi007.jpg → 📝 a girl in a hat sits on a bed in a room with a bedside table\n"
          ]
        },
        {
          "output_type": "stream",
          "name": "stderr",
          "text": [
            "\r 37%|███▋      | 234/626 [04:57<08:03,  1.23s/it]"
          ]
        },
        {
          "output_type": "stream",
          "name": "stdout",
          "text": [
            "🖼️ karigurashi003.jpg → 📝 a girl in a hat with a hat and a hat\n"
          ]
        },
        {
          "output_type": "stream",
          "name": "stderr",
          "text": [
            "\r 38%|███▊      | 235/626 [04:58<08:24,  1.29s/it]"
          ]
        },
        {
          "output_type": "stream",
          "name": "stdout",
          "text": [
            "🖼️ karigurashi001.jpg → 📝 a hut in the forest\n"
          ]
        },
        {
          "output_type": "stream",
          "name": "stderr",
          "text": [
            "\r 38%|███▊      | 236/626 [04:59<07:21,  1.13s/it]"
          ]
        },
        {
          "output_type": "stream",
          "name": "stdout",
          "text": [
            "🖼️ karigurashi011.jpg → 📝 a girl and boy are standing in a cave\n"
          ]
        },
        {
          "output_type": "stream",
          "name": "stderr",
          "text": [
            "\r 38%|███▊      | 237/626 [05:00<07:55,  1.22s/it]"
          ]
        },
        {
          "output_type": "stream",
          "name": "stdout",
          "text": [
            "🖼️ karigurashi012.jpg → 📝 a girl in a red dress is standing in a wooden boat\n"
          ]
        },
        {
          "output_type": "stream",
          "name": "stderr",
          "text": [
            "\r 38%|███▊      | 238/626 [05:01<07:13,  1.12s/it]"
          ]
        },
        {
          "output_type": "stream",
          "name": "stdout",
          "text": [
            "🖼️ karigurashi009.jpg → 📝 a girl is putting her hair in a hairbrush\n"
          ]
        },
        {
          "output_type": "stream",
          "name": "stderr",
          "text": [
            "\r 38%|███▊      | 239/626 [05:02<07:14,  1.12s/it]"
          ]
        },
        {
          "output_type": "stream",
          "name": "stdout",
          "text": [
            "🖼️ karigurashi014.jpg → 📝 a girl with a hat and a hat is holding a hat\n"
          ]
        },
        {
          "output_type": "stream",
          "name": "stderr",
          "text": [
            "\r 38%|███▊      | 240/626 [05:04<07:11,  1.12s/it]"
          ]
        },
        {
          "output_type": "stream",
          "name": "stdout",
          "text": [
            "🖼️ karigurashi016.jpg → 📝 a girl is standing in front of a stove with a pot on her lap\n"
          ]
        },
        {
          "output_type": "stream",
          "name": "stderr",
          "text": [
            "\r 38%|███▊      | 241/626 [05:04<06:37,  1.03s/it]"
          ]
        },
        {
          "output_type": "stream",
          "name": "stdout",
          "text": [
            "🖼️ karigurashi013.jpg → 📝 a girl is sleeping in a bed with her eyes closed\n"
          ]
        },
        {
          "output_type": "stream",
          "name": "stderr",
          "text": [
            "\r 39%|███▊      | 242/626 [05:06<07:38,  1.19s/it]"
          ]
        },
        {
          "output_type": "stream",
          "name": "stdout",
          "text": [
            "🖼️ karigurashi010.jpg → 📝 a girl in a red dress is standing in front of a doorway\n"
          ]
        },
        {
          "output_type": "stream",
          "name": "stderr",
          "text": [
            "\r 39%|███▉      | 243/626 [05:07<06:51,  1.08s/it]"
          ]
        },
        {
          "output_type": "stream",
          "name": "stdout",
          "text": [
            "🖼️ karigurashi015.jpg → 📝 a girl and boy are standing in a dark room\n"
          ]
        },
        {
          "output_type": "stream",
          "name": "stderr",
          "text": [
            "\r 39%|███▉      | 244/626 [05:07<06:06,  1.04it/s]"
          ]
        },
        {
          "output_type": "stream",
          "name": "stdout",
          "text": [
            "🖼️ karigurashi018.jpg → 📝 a girl with a hat and umbrella\n"
          ]
        },
        {
          "output_type": "stream",
          "name": "stderr",
          "text": [
            "\r 39%|███▉      | 245/626 [05:09<06:40,  1.05s/it]"
          ]
        },
        {
          "output_type": "stream",
          "name": "stdout",
          "text": [
            "🖼️ karigurashi021.jpg → 📝 a girl in a red dress is standing in a pond with a lily\n"
          ]
        },
        {
          "output_type": "stream",
          "name": "stderr",
          "text": [
            "\r 39%|███▉      | 246/626 [05:10<06:41,  1.06s/it]"
          ]
        },
        {
          "output_type": "stream",
          "name": "stdout",
          "text": [
            "🖼️ karigurashi024.jpg → 📝 a girl in a red dress is standing in front of a large leaf\n"
          ]
        },
        {
          "output_type": "stream",
          "name": "stderr",
          "text": [
            "\r 39%|███▉      | 247/626 [05:11<06:40,  1.06s/it]"
          ]
        },
        {
          "output_type": "stream",
          "name": "stdout",
          "text": [
            "🖼️ karigurashi023.jpg → 📝 a girl is sitting on a bed in a room with a window\n"
          ]
        },
        {
          "output_type": "stream",
          "name": "stderr",
          "text": [
            "\r 40%|███▉      | 248/626 [05:12<07:32,  1.20s/it]"
          ]
        },
        {
          "output_type": "stream",
          "name": "stdout",
          "text": [
            "🖼️ karigurashi022.jpg → 📝 a girl in a red dress is standing in a garden\n"
          ]
        },
        {
          "output_type": "stream",
          "name": "stderr",
          "text": [
            "\r 40%|███▉      | 249/626 [05:13<06:40,  1.06s/it]"
          ]
        },
        {
          "output_type": "stream",
          "name": "stdout",
          "text": [
            "🖼️ karigurashi017.jpg → 📝 a girl is holding a ball in her hand\n"
          ]
        },
        {
          "output_type": "stream",
          "name": "stderr",
          "text": [
            "\r 40%|███▉      | 250/626 [05:14<06:45,  1.08s/it]"
          ]
        },
        {
          "output_type": "stream",
          "name": "stdout",
          "text": [
            "🖼️ karigurashi020.jpg → 📝 a girl is standing in front of a brick wall with a bottle of water\n"
          ]
        },
        {
          "output_type": "stream",
          "name": "stderr",
          "text": [
            "\r 40%|████      | 251/626 [05:16<07:24,  1.19s/it]"
          ]
        },
        {
          "output_type": "stream",
          "name": "stdout",
          "text": [
            "🖼️ karigurashi019.jpg → 📝 a man and woman sit at a table in a kitchen\n"
          ]
        },
        {
          "output_type": "stream",
          "name": "stderr",
          "text": [
            "\r 40%|████      | 252/626 [05:17<07:56,  1.27s/it]"
          ]
        },
        {
          "output_type": "stream",
          "name": "stdout",
          "text": [
            "🖼️ karigurashi027.jpg → 📝 a girl and boy are looking at a dollhouse\n"
          ]
        },
        {
          "output_type": "stream",
          "name": "stderr",
          "text": [
            "\r 40%|████      | 253/626 [05:18<07:07,  1.15s/it]"
          ]
        },
        {
          "output_type": "stream",
          "name": "stdout",
          "text": [
            "🖼️ karigurashi026.jpg → 📝 a sailor holds a leaf in his hand\n"
          ]
        },
        {
          "output_type": "stream",
          "name": "stderr",
          "text": [
            "\r 41%|████      | 254/626 [05:19<06:38,  1.07s/it]"
          ]
        },
        {
          "output_type": "stream",
          "name": "stdout",
          "text": [
            "🖼️ karigurashi025.jpg → 📝 a boy in a blue shirt sits on a bed\n"
          ]
        },
        {
          "output_type": "stream",
          "name": "stderr",
          "text": [
            "\r 41%|████      | 255/626 [05:20<06:11,  1.00s/it]"
          ]
        },
        {
          "output_type": "stream",
          "name": "stdout",
          "text": [
            "🖼️ karigurashi031.jpg → 📝 a girl and boy are standing in a crowded room\n"
          ]
        },
        {
          "output_type": "stream",
          "name": "stderr",
          "text": [
            "\r 41%|████      | 256/626 [05:22<07:45,  1.26s/it]"
          ]
        },
        {
          "output_type": "stream",
          "name": "stdout",
          "text": [
            "🖼️ karigurashi030.jpg → 📝 a girl is preparing to shoot a bow and arrow in a dungeon\n"
          ]
        },
        {
          "output_type": "stream",
          "name": "stderr",
          "text": [
            "\r 41%|████      | 257/626 [05:23<08:33,  1.39s/it]"
          ]
        },
        {
          "output_type": "stream",
          "name": "stdout",
          "text": [
            "🖼️ karigurashi033.jpg → 📝 a girl in a pink dress with a flower in her hair\n"
          ]
        },
        {
          "output_type": "stream",
          "name": "stderr",
          "text": [
            "\r 41%|████      | 258/626 [05:25<09:12,  1.50s/it]"
          ]
        },
        {
          "output_type": "stream",
          "name": "stdout",
          "text": [
            "🖼️ karigurashi028.jpg → 📝 a shabby chic kitchen with a shabby chic style\n"
          ]
        },
        {
          "output_type": "stream",
          "name": "stderr",
          "text": [
            "\r 41%|████▏     | 259/626 [05:26<08:37,  1.41s/it]"
          ]
        },
        {
          "output_type": "stream",
          "name": "stdout",
          "text": [
            "🖼️ karigurashi032.jpg → 📝 a boy in a field of flowers\n"
          ]
        },
        {
          "output_type": "stream",
          "name": "stderr",
          "text": [
            "\r 42%|████▏     | 260/626 [05:29<10:10,  1.67s/it]"
          ]
        },
        {
          "output_type": "stream",
          "name": "stdout",
          "text": [
            "🖼️ karigurashi029.jpg → 📝 a girl in a hat and a hat with a bow and arrow in her hand\n"
          ]
        },
        {
          "output_type": "stream",
          "name": "stderr",
          "text": [
            "\r 42%|████▏     | 261/626 [05:30<09:15,  1.52s/it]"
          ]
        },
        {
          "output_type": "stream",
          "name": "stdout",
          "text": [
            "🖼️ karigurashi037.jpg → 📝 a girl with a hat and a hat is standing in a room\n"
          ]
        },
        {
          "output_type": "stream",
          "name": "stderr",
          "text": [
            "\r 42%|████▏     | 262/626 [05:32<09:53,  1.63s/it]"
          ]
        },
        {
          "output_type": "stream",
          "name": "stdout",
          "text": [
            "🖼️ karigurashi034.jpg → 📝 a girl is standing in a room with a view of a kitchen\n"
          ]
        },
        {
          "output_type": "stream",
          "name": "stderr",
          "text": [
            "\r 42%|████▏     | 263/626 [05:33<08:40,  1.43s/it]"
          ]
        },
        {
          "output_type": "stream",
          "name": "stdout",
          "text": [
            "🖼️ karigurashi038.jpg → 📝 a boy and girl in a kitchen with a pot of coffee\n"
          ]
        },
        {
          "output_type": "stream",
          "name": "stderr",
          "text": [
            "\r 42%|████▏     | 264/626 [05:35<09:46,  1.62s/it]"
          ]
        },
        {
          "output_type": "stream",
          "name": "stdout",
          "text": [
            "🖼️ karigurashi036.jpg → 📝 a girl in a red dress is standing in a kitchen with a pot and pans\n"
          ]
        },
        {
          "output_type": "stream",
          "name": "stderr",
          "text": [
            "\r 42%|████▏     | 265/626 [05:36<09:02,  1.50s/it]"
          ]
        },
        {
          "output_type": "stream",
          "name": "stdout",
          "text": [
            "🖼️ karigurashi041.jpg → 📝 a group of people standing on a rock\n"
          ]
        },
        {
          "output_type": "stream",
          "name": "stderr",
          "text": [
            "\r 42%|████▏     | 266/626 [05:38<09:23,  1.56s/it]"
          ]
        },
        {
          "output_type": "stream",
          "name": "stdout",
          "text": [
            "🖼️ karigurashi035.jpg → 📝 a girl in a red dress is standing in a dark room\n"
          ]
        },
        {
          "output_type": "stream",
          "name": "stderr",
          "text": [
            "\r 43%|████▎     | 267/626 [05:38<08:11,  1.37s/it]"
          ]
        },
        {
          "output_type": "stream",
          "name": "stdout",
          "text": [
            "🖼️ karigurashi042.jpg → 📝 a teapot with a hat and a hat\n"
          ]
        },
        {
          "output_type": "stream",
          "name": "stderr",
          "text": [
            "\r 43%|████▎     | 268/626 [05:40<07:51,  1.32s/it]"
          ]
        },
        {
          "output_type": "stream",
          "name": "stdout",
          "text": [
            "🖼️ karigurashi039.jpg → 📝 a girl and her mother are sitting in a hut with a pot of tea\n"
          ]
        },
        {
          "output_type": "stream",
          "name": "stderr",
          "text": [
            "\r 43%|████▎     | 269/626 [05:40<06:54,  1.16s/it]"
          ]
        },
        {
          "output_type": "stream",
          "name": "stdout",
          "text": [
            "🖼️ karigurashi040.jpg → 📝 a girl is standing in front of a giant cat\n"
          ]
        },
        {
          "output_type": "stream",
          "name": "stderr",
          "text": [
            "\r 43%|████▎     | 270/626 [05:41<06:38,  1.12s/it]"
          ]
        },
        {
          "output_type": "stream",
          "name": "stdout",
          "text": [
            "🖼️ karigurashi046.jpg → 📝 a girl is hugging a girl in a secluded place\n"
          ]
        },
        {
          "output_type": "stream",
          "name": "stderr",
          "text": [
            "\r 43%|████▎     | 271/626 [05:43<06:45,  1.14s/it]"
          ]
        },
        {
          "output_type": "stream",
          "name": "stdout",
          "text": [
            "🖼️ karigurashi043.jpg → 📝 a girl in a red dress is standing on a wooden platform in a garden\n"
          ]
        },
        {
          "output_type": "stream",
          "name": "stderr",
          "text": [
            "\r 43%|████▎     | 272/626 [05:45<08:00,  1.36s/it]"
          ]
        },
        {
          "output_type": "stream",
          "name": "stdout",
          "text": [
            "🖼️ karigurashi044.jpg → 📝 a boy in a blue shirt is standing in a wooden fence in the middle of a forest\n"
          ]
        },
        {
          "output_type": "stream",
          "name": "stderr",
          "text": [
            "\r 44%|████▎     | 273/626 [05:46<07:39,  1.30s/it]"
          ]
        },
        {
          "output_type": "stream",
          "name": "stdout",
          "text": [
            "🖼️ karigurashi045.jpg → 📝 a girl is standing in front of a cityscape with a cat in her lap\n"
          ]
        },
        {
          "output_type": "stream",
          "name": "stderr",
          "text": [
            "\r 44%|████▍     | 274/626 [05:47<07:25,  1.27s/it]"
          ]
        },
        {
          "output_type": "stream",
          "name": "stdout",
          "text": [
            "🖼️ karigurashi050.jpg → 📝 a girl in a red dress sits on a chair in a green field\n"
          ]
        },
        {
          "output_type": "stream",
          "name": "stderr",
          "text": [
            "\r 44%|████▍     | 275/626 [05:48<06:41,  1.15s/it]"
          ]
        },
        {
          "output_type": "stream",
          "name": "stdout",
          "text": [
            "🖼️ karigurashi048.jpg → 📝 a boy with a hat and a hat\n"
          ]
        },
        {
          "output_type": "stream",
          "name": "stderr",
          "text": [
            "\r 44%|████▍     | 276/626 [05:49<07:39,  1.31s/it]"
          ]
        },
        {
          "output_type": "stream",
          "name": "stdout",
          "text": [
            "🖼️ karigurashi047.jpg → 📝 a boy and girl in a hat and a hat\n"
          ]
        },
        {
          "output_type": "stream",
          "name": "stderr",
          "text": [
            "\r 44%|████▍     | 277/626 [05:51<08:05,  1.39s/it]"
          ]
        },
        {
          "output_type": "stream",
          "name": "stdout",
          "text": [
            "🖼️ karigurashi049.jpg → 📝 a koi fish in a pond\n"
          ]
        },
        {
          "output_type": "stream",
          "name": "stderr",
          "text": [
            "\r 44%|████▍     | 278/626 [05:52<07:30,  1.29s/it]"
          ]
        },
        {
          "output_type": "stream",
          "name": "stdout",
          "text": [
            "🖼️ ged004.jpg → 📝 a boy in a blue shirt is holding a saxon\n"
          ]
        },
        {
          "output_type": "stream",
          "name": "stderr",
          "text": [
            "\r 45%|████▍     | 279/626 [05:53<06:39,  1.15s/it]"
          ]
        },
        {
          "output_type": "stream",
          "name": "stdout",
          "text": [
            "🖼️ ged005.jpg → 📝 a man in a hat with a sword\n"
          ]
        },
        {
          "output_type": "stream",
          "name": "stderr",
          "text": [
            "\r 45%|████▍     | 280/626 [05:55<07:57,  1.38s/it]"
          ]
        },
        {
          "output_type": "stream",
          "name": "stdout",
          "text": [
            "🖼️ ged002.jpg → 📝 a group of men in robes and hats standing in a room\n"
          ]
        },
        {
          "output_type": "stream",
          "name": "stderr",
          "text": [
            "\r 45%|████▍     | 281/626 [05:56<06:47,  1.18s/it]"
          ]
        },
        {
          "output_type": "stream",
          "name": "stdout",
          "text": [
            "🖼️ ged007.jpg → 📝 a cityscape with a city and mountains\n"
          ]
        },
        {
          "output_type": "stream",
          "name": "stderr",
          "text": [
            "\r 45%|████▌     | 282/626 [05:57<07:14,  1.26s/it]"
          ]
        },
        {
          "output_type": "stream",
          "name": "stdout",
          "text": [
            "🖼️ ged003.jpg → 📝 a dragon flies over a castle\n"
          ]
        },
        {
          "output_type": "stream",
          "name": "stderr",
          "text": [
            "\r 45%|████▌     | 283/626 [05:59<07:53,  1.38s/it]"
          ]
        },
        {
          "output_type": "stream",
          "name": "stdout",
          "text": [
            "🖼️ ged001.jpg → 📝 a symphony of light and shadows\n"
          ]
        },
        {
          "output_type": "stream",
          "name": "stderr",
          "text": [
            "\r 45%|████▌     | 284/626 [06:00<07:21,  1.29s/it]"
          ]
        },
        {
          "output_type": "stream",
          "name": "stdout",
          "text": [
            "🖼️ ged006.jpg → 📝 a man in a hat and a woman in a hat\n"
          ]
        },
        {
          "output_type": "stream",
          "name": "stderr",
          "text": [
            "\r 46%|████▌     | 285/626 [06:01<07:46,  1.37s/it]"
          ]
        },
        {
          "output_type": "stream",
          "name": "stdout",
          "text": [
            "🖼️ ged008.jpg → 📝 a woman in a kimono is holding a white cloth\n"
          ]
        },
        {
          "output_type": "stream",
          "name": "stderr",
          "text": [
            "\r 46%|████▌     | 286/626 [06:02<06:47,  1.20s/it]"
          ]
        },
        {
          "output_type": "stream",
          "name": "stdout",
          "text": [
            "🖼️ ged016.jpg → 📝 a girl is standing in front of a doorway\n"
          ]
        },
        {
          "output_type": "stream",
          "name": "stderr",
          "text": [
            "\r 46%|████▌     | 287/626 [06:03<06:22,  1.13s/it]"
          ]
        },
        {
          "output_type": "stream",
          "name": "stdout",
          "text": [
            "🖼️ ged012.jpg → 📝 a girl is putting her hand on a girl's shoulder\n"
          ]
        },
        {
          "output_type": "stream",
          "name": "stderr",
          "text": [
            "\r 46%|████▌     | 288/626 [06:05<07:04,  1.26s/it]"
          ]
        },
        {
          "output_type": "stream",
          "name": "stdout",
          "text": [
            "🖼️ ged009.jpg → 📝 a girl is standing on a pier looking at a city\n"
          ]
        },
        {
          "output_type": "stream",
          "name": "stderr",
          "text": [
            "\r 46%|████▌     | 289/626 [06:06<06:46,  1.21s/it]"
          ]
        },
        {
          "output_type": "stream",
          "name": "stdout",
          "text": [
            "🖼️ ged011.jpg → 📝 a boy and a girl are sitting on a bench in a city\n"
          ]
        },
        {
          "output_type": "stream",
          "name": "stderr",
          "text": [
            "\r 46%|████▋     | 290/626 [06:07<06:45,  1.21s/it]"
          ]
        },
        {
          "output_type": "stream",
          "name": "stdout",
          "text": [
            "🖼️ ged015.jpg → 📝 a young boy with a shaved head and a shaved head\n"
          ]
        },
        {
          "output_type": "stream",
          "name": "stderr",
          "text": [
            "\r 46%|████▋     | 291/626 [06:08<05:59,  1.07s/it]"
          ]
        },
        {
          "output_type": "stream",
          "name": "stdout",
          "text": [
            "🖼️ ged010.jpg → 📝 a girl is holding a box of chocolates\n"
          ]
        },
        {
          "output_type": "stream",
          "name": "stderr",
          "text": [
            "\r 47%|████▋     | 292/626 [06:09<06:42,  1.20s/it]"
          ]
        },
        {
          "output_type": "stream",
          "name": "stdout",
          "text": [
            "🖼️ ged014.jpg → 📝 a boy is standing on a rock overlooking a sunset\n"
          ]
        },
        {
          "output_type": "stream",
          "name": "stderr",
          "text": [
            "\r 47%|████▋     | 293/626 [06:10<06:52,  1.24s/it]"
          ]
        },
        {
          "output_type": "stream",
          "name": "stdout",
          "text": [
            "🖼️ ged013.jpg → 📝 a girl with long hair and a hat\n"
          ]
        },
        {
          "output_type": "stream",
          "name": "stderr",
          "text": [
            "\r 47%|████▋     | 294/626 [06:13<08:13,  1.49s/it]"
          ]
        },
        {
          "output_type": "stream",
          "name": "stdout",
          "text": [
            "🖼️ ged018.jpg → 📝 a boy is standing in front of a doorway with a cow in the background\n"
          ]
        },
        {
          "output_type": "stream",
          "name": "stderr",
          "text": [
            "\r 47%|████▋     | 295/626 [06:14<08:22,  1.52s/it]"
          ]
        },
        {
          "output_type": "stream",
          "name": "stdout",
          "text": [
            "🖼️ ged017.jpg → 📝 a girl is petting a sheep\n"
          ]
        },
        {
          "output_type": "stream",
          "name": "stderr",
          "text": [
            "\r 47%|████▋     | 296/626 [06:15<07:42,  1.40s/it]"
          ]
        },
        {
          "output_type": "stream",
          "name": "stdout",
          "text": [
            "🖼️ ged024.jpg → 📝 a girl in a dress and a hat is standing in a field\n"
          ]
        },
        {
          "output_type": "stream",
          "name": "stderr",
          "text": [
            "\r 47%|████▋     | 297/626 [06:17<08:53,  1.62s/it]"
          ]
        },
        {
          "output_type": "stream",
          "name": "stdout",
          "text": [
            "🖼️ ged022.jpg → 📝 a girl is standing on a horse with a man on a horse\n"
          ]
        },
        {
          "output_type": "stream",
          "name": "stderr",
          "text": [
            "\r 48%|████▊     | 298/626 [06:19<08:15,  1.51s/it]"
          ]
        },
        {
          "output_type": "stream",
          "name": "stdout",
          "text": [
            "🖼️ ged019.jpg → 📝 a girl is holding a sword and pointing it at a girl in a dark room\n"
          ]
        },
        {
          "output_type": "stream",
          "name": "stderr",
          "text": [
            "\r 48%|████▊     | 299/626 [06:20<07:52,  1.44s/it]"
          ]
        },
        {
          "output_type": "stream",
          "name": "stdout",
          "text": [
            "🖼️ ged021.jpg → 📝 a girl in a red dress is standing in front of a wooden house with a basket\n"
          ]
        },
        {
          "output_type": "stream",
          "name": "stderr",
          "text": [
            "\r 48%|████▊     | 300/626 [06:21<08:01,  1.48s/it]"
          ]
        },
        {
          "output_type": "stream",
          "name": "stdout",
          "text": [
            "🖼️ ged023.jpg → 📝 a man on horseback rides a horse in front of a castle\n"
          ]
        },
        {
          "output_type": "stream",
          "name": "stderr",
          "text": [
            "\r 48%|████▊     | 301/626 [06:23<07:51,  1.45s/it]"
          ]
        },
        {
          "output_type": "stream",
          "name": "stdout",
          "text": [
            "🖼️ ged020.jpg → 📝 a boy is standing in front of a starry sky\n"
          ]
        },
        {
          "output_type": "stream",
          "name": "stderr",
          "text": [
            "\r 48%|████▊     | 302/626 [06:24<07:26,  1.38s/it]"
          ]
        },
        {
          "output_type": "stream",
          "name": "stdout",
          "text": [
            "🖼️ ged028.jpg → 📝 a girl is standing in front of a window with a glass of wine in her hand\n"
          ]
        },
        {
          "output_type": "stream",
          "name": "stderr",
          "text": [
            "\r 48%|████▊     | 303/626 [06:26<07:39,  1.42s/it]"
          ]
        },
        {
          "output_type": "stream",
          "name": "stdout",
          "text": [
            "🖼️ ged031.jpg → 📝 a man in a robe rides a donkey\n"
          ]
        },
        {
          "output_type": "stream",
          "name": "stderr",
          "text": [
            "\r 49%|████▊     | 304/626 [06:27<06:52,  1.28s/it]"
          ]
        },
        {
          "output_type": "stream",
          "name": "stdout",
          "text": [
            "🖼️ ged026.jpg → 📝 a girl is pointing at a girl in a red dress\n"
          ]
        },
        {
          "output_type": "stream",
          "name": "stderr",
          "text": [
            "\r 49%|████▊     | 305/626 [06:28<06:39,  1.25s/it]"
          ]
        },
        {
          "output_type": "stream",
          "name": "stdout",
          "text": [
            "🖼️ ged029.jpg → 📝 a girl is laying on a bed with a man in a blue shirt\n"
          ]
        },
        {
          "output_type": "stream",
          "name": "stderr",
          "text": [
            "\r 49%|████▉     | 306/626 [06:28<05:44,  1.08s/it]"
          ]
        },
        {
          "output_type": "stream",
          "name": "stdout",
          "text": [
            "🖼️ ged027.jpg → 📝 a girl with long hair and a sword\n"
          ]
        },
        {
          "output_type": "stream",
          "name": "stderr",
          "text": [
            "\r 49%|████▉     | 307/626 [06:29<05:38,  1.06s/it]"
          ]
        },
        {
          "output_type": "stream",
          "name": "stdout",
          "text": [
            "🖼️ ged030.jpg → 📝 a girl in a hat is standing in front of a castle\n"
          ]
        },
        {
          "output_type": "stream",
          "name": "stderr",
          "text": [
            "\r 49%|████▉     | 308/626 [06:30<05:33,  1.05s/it]"
          ]
        },
        {
          "output_type": "stream",
          "name": "stdout",
          "text": [
            "🖼️ ged025.jpg → 📝 a girl and boy are sitting on a rock overlooking a lake\n"
          ]
        },
        {
          "output_type": "stream",
          "name": "stderr",
          "text": [
            "\r 49%|████▉     | 309/626 [06:31<05:16,  1.00it/s]"
          ]
        },
        {
          "output_type": "stream",
          "name": "stdout",
          "text": [
            "🖼️ ged032.jpg → 📝 a girl with long hair and a smirk\n"
          ]
        },
        {
          "output_type": "stream",
          "name": "stderr",
          "text": [
            "\r 50%|████▉     | 310/626 [06:33<05:32,  1.05s/it]"
          ]
        },
        {
          "output_type": "stream",
          "name": "stdout",
          "text": [
            "🖼️ ged033.jpg → 📝 a man in a hat is hugging a boy in a hat\n"
          ]
        },
        {
          "output_type": "stream",
          "name": "stderr",
          "text": [
            "\r 50%|████▉     | 311/626 [06:33<05:16,  1.00s/it]"
          ]
        },
        {
          "output_type": "stream",
          "name": "stdout",
          "text": [
            "🖼️ ged035.jpg → 📝 a girl is hugging a boy in a dark room\n"
          ]
        },
        {
          "output_type": "stream",
          "name": "stderr",
          "text": [
            "\r 50%|████▉     | 312/626 [06:34<05:15,  1.01s/it]"
          ]
        },
        {
          "output_type": "stream",
          "name": "stdout",
          "text": [
            "🖼️ ged034.jpg → 📝 a girl is laying on the ground with her arms raised in the air\n"
          ]
        },
        {
          "output_type": "stream",
          "name": "stderr",
          "text": [
            "\r 50%|█████     | 313/626 [06:37<07:06,  1.36s/it]"
          ]
        },
        {
          "output_type": "stream",
          "name": "stdout",
          "text": [
            "🖼️ ged037.jpg → 📝 a girl with a shaved head and a shaved head is a character in the anime series\n"
          ]
        },
        {
          "output_type": "stream",
          "name": "stderr",
          "text": [
            "\r 50%|█████     | 314/626 [06:37<06:02,  1.16s/it]"
          ]
        },
        {
          "output_type": "stream",
          "name": "stdout",
          "text": [
            "🖼️ ged040.jpg → 📝 a couple of people hugging a dragon\n"
          ]
        },
        {
          "output_type": "stream",
          "name": "stderr",
          "text": [
            "\r 50%|█████     | 315/626 [06:39<07:08,  1.38s/it]"
          ]
        },
        {
          "output_type": "stream",
          "name": "stdout",
          "text": [
            "🖼️ ged036.jpg → 📝 a group of people sitting around a table with a mug of beer\n"
          ]
        },
        {
          "output_type": "stream",
          "name": "stderr",
          "text": [
            "\r 50%|█████     | 316/626 [06:40<06:57,  1.35s/it]"
          ]
        },
        {
          "output_type": "stream",
          "name": "stdout",
          "text": [
            "🖼️ ged041.jpg → 📝 a girl with long hair and a blue sash is holding a blue sash\n"
          ]
        },
        {
          "output_type": "stream",
          "name": "stderr",
          "text": [
            "\r 51%|█████     | 317/626 [06:42<07:28,  1.45s/it]"
          ]
        },
        {
          "output_type": "stream",
          "name": "stdout",
          "text": [
            "🖼️ ged039.jpg → 📝 a couple of people are standing in a field with a mountain in the background\n"
          ]
        },
        {
          "output_type": "stream",
          "name": "stderr",
          "text": [
            "\r 51%|█████     | 318/626 [06:43<06:46,  1.32s/it]"
          ]
        },
        {
          "output_type": "stream",
          "name": "stdout",
          "text": [
            "🖼️ ged038.jpg → 📝 a girl is hugging a boy in a sandstorm\n"
          ]
        },
        {
          "output_type": "stream",
          "name": "stderr",
          "text": [
            "\r 51%|█████     | 319/626 [06:44<06:06,  1.19s/it]"
          ]
        },
        {
          "output_type": "stream",
          "name": "stdout",
          "text": [
            "🖼️ ged042.jpg → 📝 a man in a blue shirt is holding a blue sword\n"
          ]
        },
        {
          "output_type": "stream",
          "name": "stderr",
          "text": [
            "\r 51%|█████     | 320/626 [06:45<05:41,  1.11s/it]"
          ]
        },
        {
          "output_type": "stream",
          "name": "stdout",
          "text": [
            "🖼️ ged043.jpg → 📝 a young boy in a blue shirt is holding a sword\n"
          ]
        },
        {
          "output_type": "stream",
          "name": "stderr",
          "text": [
            "\r 51%|█████▏    | 321/626 [06:46<05:33,  1.09s/it]"
          ]
        },
        {
          "output_type": "stream",
          "name": "stdout",
          "text": [
            "🖼️ ged047.jpg → 📝 a boy in a blue shirt is holding a sword in his hand\n"
          ]
        },
        {
          "output_type": "stream",
          "name": "stderr",
          "text": [
            "\r 51%|█████▏    | 322/626 [06:47<05:03,  1.00it/s]"
          ]
        },
        {
          "output_type": "stream",
          "name": "stdout",
          "text": [
            "🖼️ ged048.jpg → 📝 a girl is standing in front of a dragon\n"
          ]
        },
        {
          "output_type": "stream",
          "name": "stderr",
          "text": [
            "\r 52%|█████▏    | 323/626 [06:48<05:44,  1.14s/it]"
          ]
        },
        {
          "output_type": "stream",
          "name": "stdout",
          "text": [
            "🖼️ ged044.jpg → 📝 a girl with long hair and a sword\n"
          ]
        },
        {
          "output_type": "stream",
          "name": "stderr",
          "text": [
            "\r 52%|█████▏    | 324/626 [06:49<05:18,  1.05s/it]"
          ]
        },
        {
          "output_type": "stream",
          "name": "stdout",
          "text": [
            "🖼️ ged049.jpg → 📝 a family sits around a table in a restaurant\n"
          ]
        },
        {
          "output_type": "stream",
          "name": "stderr",
          "text": [
            "\r 52%|█████▏    | 325/626 [06:50<04:59,  1.01it/s]"
          ]
        },
        {
          "output_type": "stream",
          "name": "stdout",
          "text": [
            "🖼️ ged045.jpg → 📝 a girl in a dress with wings and a sword\n"
          ]
        },
        {
          "output_type": "stream",
          "name": "stderr",
          "text": [
            "\r 52%|█████▏    | 326/626 [06:52<05:56,  1.19s/it]"
          ]
        },
        {
          "output_type": "stream",
          "name": "stdout",
          "text": [
            "🖼️ ged046.jpg → 📝 a group of men in a dungeon with swords and shields\n"
          ]
        },
        {
          "output_type": "stream",
          "name": "stderr",
          "text": [
            "\r 52%|█████▏    | 327/626 [06:53<06:08,  1.23s/it]"
          ]
        },
        {
          "output_type": "stream",
          "name": "stdout",
          "text": [
            "🖼️ ged050.jpg → 📝 a girl with long hair and a hat is standing in a field with a hat\n"
          ]
        },
        {
          "output_type": "stream",
          "name": "stderr",
          "text": [
            "\r 52%|█████▏    | 328/626 [06:55<07:31,  1.52s/it]"
          ]
        },
        {
          "output_type": "stream",
          "name": "stdout",
          "text": [
            "🖼️ fanart_ghibli_studios_animation__by_avafleu_djbpd7o-300w.jpg → 📝 a spooky spooky spooky spooky spooky spooky spooky spooky spooky s\n"
          ]
        },
        {
          "output_type": "stream",
          "name": "stderr",
          "text": [
            "\r 53%|█████▎    | 329/626 [06:56<06:32,  1.32s/it]"
          ]
        },
        {
          "output_type": "stream",
          "name": "stdout",
          "text": [
            "🖼️ vw_passat_wagon_b2_studio_ghibli_style__2__by_estudante1_djkxw73-300w.jpg → 📝 a car with a red roof and a red hood\n"
          ]
        },
        {
          "output_type": "stream",
          "name": "stderr",
          "text": [
            "\r 53%|█████▎    | 330/626 [06:57<06:05,  1.23s/it]"
          ]
        },
        {
          "output_type": "stream",
          "name": "stdout",
          "text": [
            "🖼️ fanart_ghibli_studios_by_avafleu_djborkw-300w.jpg → 📝 a shabby little house with a tree in the middle of it\n"
          ]
        },
        {
          "output_type": "stream",
          "name": "stderr",
          "text": [
            "\r 53%|█████▎    | 331/626 [06:58<05:13,  1.06s/it]"
          ]
        },
        {
          "output_type": "stream",
          "name": "stdout",
          "text": [
            "🖼️ fanart_ghibli_studios_forrest_by_avafleu_djborh7-300w.jpg → 📝 a castle ruins on a hillside\n"
          ]
        },
        {
          "output_type": "stream",
          "name": "stderr",
          "text": [
            "\r 53%|█████▎    | 332/626 [06:59<04:52,  1.00it/s]"
          ]
        },
        {
          "output_type": "stream",
          "name": "stdout",
          "text": [
            "🖼️ tom_holland_in_studio_ghibli_style_by_gabrielartmaker55_djgua8f-300w.jpg → 📝 a boy in a blue shirt and a blue shirt\n"
          ]
        },
        {
          "output_type": "stream",
          "name": "stderr",
          "text": [
            "\r 53%|█████▎    | 333/626 [06:59<04:30,  1.08it/s]"
          ]
        },
        {
          "output_type": "stream",
          "name": "stdout",
          "text": [
            "🖼️ dodge_a100_van_studio_ghibli_style__2__by_estudante1_djka992-414w.jpg → 📝 a girl is driving a car in a forest\n"
          ]
        },
        {
          "output_type": "stream",
          "name": "stderr",
          "text": [
            "\r 53%|█████▎    | 334/626 [07:00<04:19,  1.13it/s]"
          ]
        },
        {
          "output_type": "stream",
          "name": "stdout",
          "text": [
            "🖼️ dodge_a100_van_studio_ghibli_style__10__by_estudante1_djl6wyc-414w.jpg → 📝 a girl is driving a blue van down a road\n"
          ]
        },
        {
          "output_type": "stream",
          "name": "stderr",
          "text": [
            "\r 54%|█████▎    | 335/626 [07:01<04:02,  1.20it/s]"
          ]
        },
        {
          "output_type": "stream",
          "name": "stdout",
          "text": [
            "🖼️ douglas_dc_3_studio_ghibli_style__3__by_estudante1_djkq6hj-350t.jpg → 📝 a plane parked on a grassy field\n"
          ]
        },
        {
          "output_type": "stream",
          "name": "stderr",
          "text": [
            "\r 54%|█████▎    | 336/626 [07:02<04:04,  1.18it/s]"
          ]
        },
        {
          "output_type": "stream",
          "name": "stdout",
          "text": [
            "🖼️ fanart__ghibli_studios_animation_style_by_avafleu_djbpd6s-300w.jpg → 📝 a cosy living room with a fireplace and a sofa\n"
          ]
        },
        {
          "output_type": "stream",
          "name": "stderr",
          "text": [
            "\r 54%|█████▍    | 337/626 [07:04<05:58,  1.24s/it]"
          ]
        },
        {
          "output_type": "stream",
          "name": "stdout",
          "text": [
            "🖼️ dodge_a100_van_studio_ghibli_style__3__by_estudante1_djkaan9-300w.jpg → 📝 a samurai samurai samurai samurai samurai samurai samurai sam\n"
          ]
        },
        {
          "output_type": "stream",
          "name": "stderr",
          "text": [
            "\r 54%|█████▍    | 338/626 [07:05<05:33,  1.16s/it]"
          ]
        },
        {
          "output_type": "stream",
          "name": "stdout",
          "text": [
            "🖼️ dodge_a100_van_studio_ghibli_style__9__by_estudante1_djkylb2-300w.jpg → 📝 a man and woman in a car with a suitcase on the roof\n"
          ]
        },
        {
          "output_type": "stream",
          "name": "stderr",
          "text": [
            "\r 54%|█████▍    | 339/626 [07:06<05:25,  1.13s/it]"
          ]
        },
        {
          "output_type": "stream",
          "name": "stdout",
          "text": [
            "🖼️ timothee_chalamet_in_studio_ghibli_style_by_gabrielartmaker55_djguaoi-300w.jpg → 📝 a young boy in a blue shirt and blue pants is standing in a field\n"
          ]
        },
        {
          "output_type": "stream",
          "name": "stderr",
          "text": [
            "\r 54%|█████▍    | 340/626 [07:07<04:48,  1.01s/it]"
          ]
        },
        {
          "output_type": "stream",
          "name": "stdout",
          "text": [
            "🖼️ zendaya_in_studio_ghibli_style_by_gabrielartmaker55_djgub6z-350t.jpg → 📝 a girl with long hair and a hat\n"
          ]
        },
        {
          "output_type": "stream",
          "name": "stderr",
          "text": [
            "\r 54%|█████▍    | 341/626 [07:09<06:27,  1.36s/it]"
          ]
        },
        {
          "output_type": "stream",
          "name": "stdout",
          "text": [
            "🖼️ fanart_ghibli_studios_animation_style_by_avafleu_djbpd88-300w.jpg → 📝 a kawaii style image of a kawaii style image of a kawaii style image of a kawaii style image of\n"
          ]
        },
        {
          "output_type": "stream",
          "name": "stderr",
          "text": [
            "\r 55%|█████▍    | 342/626 [07:10<06:32,  1.38s/it]"
          ]
        },
        {
          "output_type": "stream",
          "name": "stdout",
          "text": [
            "🖼️ fanart_ghibli_studios_by_avafleu_djbori8-300w.jpg → 📝 a teddy bear and a teddy bear in a teddy bear house\n"
          ]
        },
        {
          "output_type": "stream",
          "name": "stderr",
          "text": [
            "\r 55%|█████▍    | 343/626 [07:11<05:50,  1.24s/it]"
          ]
        },
        {
          "output_type": "stream",
          "name": "stdout",
          "text": [
            "🖼️ dodge_a100_van_studio_ghibli_style__4__by_estudante1_djkb7l2-414w.jpg → 📝 a girl and boy are sitting in a car with a suitcase\n"
          ]
        },
        {
          "output_type": "stream",
          "name": "stderr",
          "text": [
            "\r 55%|█████▍    | 344/626 [07:12<05:05,  1.08s/it]"
          ]
        },
        {
          "output_type": "stream",
          "name": "stdout",
          "text": [
            "🖼️ wallpaper_ghibli_studios_animation_style_by_avafleu_djbpda1-300w.jpg → 📝 a teddy bear in a library\n"
          ]
        },
        {
          "output_type": "stream",
          "name": "stderr",
          "text": [
            "\r 55%|█████▌    | 345/626 [07:13<04:37,  1.01it/s]"
          ]
        },
        {
          "output_type": "stream",
          "name": "stdout",
          "text": [
            "🖼️ dodge_dakota_studio_ghibli_style__6__by_estudante1_djkyx5w-350t.jpg → 📝 a man in a truck driving down a road\n"
          ]
        },
        {
          "output_type": "stream",
          "name": "stderr",
          "text": [
            "\r 55%|█████▌    | 346/626 [07:13<04:13,  1.11it/s]"
          ]
        },
        {
          "output_type": "stream",
          "name": "stdout",
          "text": [
            "🖼️ fanart_ghibli_studios__by_avafleu_djf84oe-300w.jpg → 📝 a room with a window and a window\n"
          ]
        },
        {
          "output_type": "stream",
          "name": "stderr",
          "text": [
            "\r 55%|█████▌    | 347/626 [07:15<05:57,  1.28s/it]"
          ]
        },
        {
          "output_type": "stream",
          "name": "stdout",
          "text": [
            "🖼️ studio_ghibli__the_wind_rises_2_by_studioghiblicore_djawnjd-350t.jpg → 📝 a sailor flying over a sailor flying over a sailor flying over a sailor flying over a sailor flying over\n"
          ]
        },
        {
          "output_type": "stream",
          "name": "stderr",
          "text": [
            "\r 56%|█████▌    | 348/626 [07:17<05:42,  1.23s/it]"
          ]
        },
        {
          "output_type": "stream",
          "name": "stdout",
          "text": [
            "🖼️ studioghiblicore.jpg → 📝 a girl in a hat and a hat is standing in a field\n"
          ]
        },
        {
          "output_type": "stream",
          "name": "stderr",
          "text": [
            "\r 56%|█████▌    | 349/626 [07:18<05:28,  1.19s/it]"
          ]
        },
        {
          "output_type": "stream",
          "name": "stdout",
          "text": [
            "🖼️ fanart__ghibli_studios_animation_by_avafleu_djbpdac-300w.jpg → 📝 a teddy bear in a teddy bear's house\n"
          ]
        },
        {
          "output_type": "stream",
          "name": "stderr",
          "text": [
            "\r 56%|█████▌    | 350/626 [07:18<04:27,  1.03it/s]"
          ]
        },
        {
          "output_type": "stream",
          "name": "stdout",
          "text": [
            "🖼️ fanart_ghibli_studios_animation_by_avafleu_djborhq-300w.jpg → 📝 a house in the countryside\n"
          ]
        },
        {
          "output_type": "stream",
          "name": "stderr",
          "text": [
            "\r 56%|█████▌    | 351/626 [07:19<04:40,  1.02s/it]"
          ]
        },
        {
          "output_type": "stream",
          "name": "stdout",
          "text": [
            "🖼️ _fanart_ghibli_studios_animation_style_by_avafleu_djborjv-300w.jpg → 📝 a sailor and a girl are sitting on a boat in the water\n"
          ]
        },
        {
          "output_type": "stream",
          "name": "stderr",
          "text": [
            "\r 56%|█████▌    | 352/626 [07:20<04:42,  1.03s/it]"
          ]
        },
        {
          "output_type": "stream",
          "name": "stdout",
          "text": [
            "🖼️ fanart_ghibli_studios__by_avafleu_djf84js-300w.jpg → 📝 a castle on a hillside with a castle tower and a castle tower\n"
          ]
        },
        {
          "output_type": "stream",
          "name": "stderr",
          "text": [
            "\r 56%|█████▋    | 353/626 [07:21<04:16,  1.07it/s]"
          ]
        },
        {
          "output_type": "stream",
          "name": "stdout",
          "text": [
            "🖼️ dodge_a100_van_studio_ghibli_style__7__by_estudante1_djkxgv5-300w.jpg → 📝 a girl and boy are driving a blue van\n"
          ]
        },
        {
          "output_type": "stream",
          "name": "stderr",
          "text": [
            "\r 57%|█████▋    | 354/626 [07:23<05:55,  1.31s/it]"
          ]
        },
        {
          "output_type": "stream",
          "name": "stdout",
          "text": [
            "🖼️ dodge_a100_van_studio_ghibli_style__14__by_estudante1_djp0q37-414w.jpg → 📝 a samurai samurai samurai samurai samurai samurai samurai sam\n"
          ]
        },
        {
          "output_type": "stream",
          "name": "stderr",
          "text": [
            "\r 57%|█████▋    | 355/626 [07:25<07:03,  1.56s/it]"
          ]
        },
        {
          "output_type": "stream",
          "name": "stdout",
          "text": [
            "🖼️ dodge_a100_van_studio_ghibli_style__13__by_estudante1_djltz17-414w.jpg → 📝 a samurai samurai samurai samurai samurai samurai samurai sam\n"
          ]
        },
        {
          "output_type": "stream",
          "name": "stderr",
          "text": [
            "\r 57%|█████▋    | 356/626 [07:26<05:57,  1.32s/it]"
          ]
        },
        {
          "output_type": "stream",
          "name": "stdout",
          "text": [
            "🖼️ the_really_loud_house__studio_ghibli_style__by_tonyruiz2002_djh638d-300w.jpg → 📝 a group of people standing in front of a house\n"
          ]
        },
        {
          "output_type": "stream",
          "name": "stderr",
          "text": [
            "\r 57%|█████▋    | 357/626 [07:28<07:04,  1.58s/it]"
          ]
        },
        {
          "output_type": "stream",
          "name": "stdout",
          "text": [
            "🖼️ fanart_ghibli_studios__by_avafleu_djf84ox-300w.jpg → 📝 a kawaii kawaii kawaii kawaii kawaii kawaii kawaii kawa\n"
          ]
        },
        {
          "output_type": "stream",
          "name": "stderr",
          "text": [
            "\r 57%|█████▋    | 358/626 [07:31<07:53,  1.77s/it]"
          ]
        },
        {
          "output_type": "stream",
          "name": "stdout",
          "text": [
            "🖼️ fanart_ghibli_studios_animation_style_by_avafleu_djborje-300w.jpg → 📝 a sassy sassy sassy sassy sassy sassy s\n"
          ]
        },
        {
          "output_type": "stream",
          "name": "stderr",
          "text": [
            "\r 57%|█████▋    | 359/626 [07:31<06:39,  1.50s/it]"
          ]
        },
        {
          "output_type": "stream",
          "name": "stdout",
          "text": [
            "🖼️ studio_ghibli_inspired__beach_side_bar_at_night_2_by_studioghiblicore_djawr3v-375w.jpg → 📝 a street scene with a street lamp and a street lamp\n"
          ]
        },
        {
          "output_type": "stream",
          "name": "stderr",
          "text": [
            "\r 58%|█████▊    | 360/626 [07:32<06:01,  1.36s/it]"
          ]
        },
        {
          "output_type": "stream",
          "name": "stdout",
          "text": [
            "🖼️ ford_corcel_1_studio_ghibli_style__by_estudante1_djkbong-350t.jpg → 📝 a man and woman in a car with a woman in the back seat\n"
          ]
        },
        {
          "output_type": "stream",
          "name": "stderr",
          "text": [
            "\r 58%|█████▊    | 361/626 [07:33<05:26,  1.23s/it]"
          ]
        },
        {
          "output_type": "stream",
          "name": "stdout",
          "text": [
            "🖼️ studio_ghibli_dining_table_by_studioghiblicore_dj7zrnn-375w.jpg → 📝 a table with a cup of tea and a cup of coffee\n"
          ]
        },
        {
          "output_type": "stream",
          "name": "stderr",
          "text": [
            "\r 58%|█████▊    | 362/626 [07:34<05:00,  1.14s/it]"
          ]
        },
        {
          "output_type": "stream",
          "name": "stdout",
          "text": [
            "🖼️ norman_price_and_mandy_flood_but_in_studio_ghibli_by_arthur1543_djhys39-414w.jpg → 📝 a boy and girl in a hat and a hat\n"
          ]
        },
        {
          "output_type": "stream",
          "name": "stderr",
          "text": [
            "\r 58%|█████▊    | 363/626 [07:35<04:31,  1.03s/it]"
          ]
        },
        {
          "output_type": "stream",
          "name": "stdout",
          "text": [
            "🖼️ studio_ghibli_inspired__house_by_the_river__peace_by_studioghiblicore_djawp36-350t.jpg → 📝 a house on a hillside in a forest\n"
          ]
        },
        {
          "output_type": "stream",
          "name": "stderr",
          "text": [
            "\r 58%|█████▊    | 364/626 [07:37<06:00,  1.38s/it]"
          ]
        },
        {
          "output_type": "stream",
          "name": "stdout",
          "text": [
            "🖼️ fanart_ghibli_studios__by_avafleu_djf84mb-300w.jpg → 📝 a shabby shabby shabby shabby shabby shabby shabby shabby shabby s\n"
          ]
        },
        {
          "output_type": "stream",
          "name": "stderr",
          "text": [
            "\r 58%|█████▊    | 365/626 [07:38<05:17,  1.22s/it]"
          ]
        },
        {
          "output_type": "stream",
          "name": "stdout",
          "text": [
            "🖼️ studio_ghibli__kimi_no_na_wa_inspired_by_studioghiblicore_djc5g3v-350t.jpg → 📝 a girl and boy are standing in front of a tree\n"
          ]
        },
        {
          "output_type": "stream",
          "name": "stderr",
          "text": [
            "\r 58%|█████▊    | 366/626 [07:39<04:45,  1.10s/it]"
          ]
        },
        {
          "output_type": "stream",
          "name": "stdout",
          "text": [
            "🖼️ ford_corcel_2_studio_ghibli_style__by_estudante1_djkbuvx-300w.jpg → 📝 a car with a woman in the driver's seat\n"
          ]
        },
        {
          "output_type": "stream",
          "name": "stderr",
          "text": [
            "\r 59%|█████▊    | 367/626 [07:40<04:26,  1.03s/it]"
          ]
        },
        {
          "output_type": "stream",
          "name": "stdout",
          "text": [
            "🖼️ fanart_ghibli_studios__by_avafleu_djf84jb-300w.jpg → 📝 a castle on a hillside with a castle on top\n"
          ]
        },
        {
          "output_type": "stream",
          "name": "stderr",
          "text": [
            "\r 59%|█████▉    | 368/626 [07:42<05:54,  1.37s/it]"
          ]
        },
        {
          "output_type": "stream",
          "name": "stdout",
          "text": [
            "🖼️ fanart_ghibli_studios_animation_style_by_avafleu_djbpd9g-300w.jpg → 📝 a shabby shabby shabby shabby shabby shabby shabby shabby shabby s\n"
          ]
        },
        {
          "output_type": "stream",
          "name": "stderr",
          "text": [
            "\r 59%|█████▉    | 369/626 [07:43<04:55,  1.15s/it]"
          ]
        },
        {
          "output_type": "stream",
          "name": "stdout",
          "text": [
            "🖼️ studio_ghibli__dining_table_by_studioghiblicore_djag192-350t.jpg → 📝 a kitchen with a table and chairs\n"
          ]
        },
        {
          "output_type": "stream",
          "name": "stderr",
          "text": [
            "\r 59%|█████▉    | 370/626 [07:43<04:25,  1.04s/it]"
          ]
        },
        {
          "output_type": "stream",
          "name": "stdout",
          "text": [
            "🖼️ fanart_ghibli_studios__by_avafleu_djf84lk-300w.jpg → 📝 a kitchen scene with a window and a window\n"
          ]
        },
        {
          "output_type": "stream",
          "name": "stderr",
          "text": [
            "\r 59%|█████▉    | 371/626 [07:44<04:11,  1.02it/s]"
          ]
        },
        {
          "output_type": "stream",
          "name": "stdout",
          "text": [
            "🖼️ fanart_ghibli_studios__by_avafleu_djf84mq-300w.jpg → 📝 a street scene with a street lamp and a street lamp\n"
          ]
        },
        {
          "output_type": "stream",
          "name": "stderr",
          "text": [
            "\r 59%|█████▉    | 372/626 [07:46<05:40,  1.34s/it]"
          ]
        },
        {
          "output_type": "stream",
          "name": "stdout",
          "text": [
            "🖼️ windchime_on_cherry_blossom_tree_by_imaigz_djq1icx-350t.jpg → 📝 a sakura sakura sakura sakura sakura sakura sakura sa\n"
          ]
        },
        {
          "output_type": "stream",
          "name": "stderr",
          "text": [
            "\r 60%|█████▉    | 373/626 [07:48<05:34,  1.32s/it]"
          ]
        },
        {
          "output_type": "stream",
          "name": "stdout",
          "text": [
            "🖼️ studio_ghibli_inspired_spirited_away_wallpaper_by_studioghiblicore_dj7z707-350t.jpg → 📝 a girl is walking down a path with a sakura tree in the background\n"
          ]
        },
        {
          "output_type": "stream",
          "name": "stderr",
          "text": [
            "\r 60%|█████▉    | 374/626 [07:48<04:44,  1.13s/it]"
          ]
        },
        {
          "output_type": "stream",
          "name": "stdout",
          "text": [
            "🖼️ vw_passat_studio_ghibli_style__by_estudante1_djkbpqh-350t.jpg → 📝 a girl and boy in a yellow car\n"
          ]
        },
        {
          "output_type": "stream",
          "name": "stderr",
          "text": [
            "\r 60%|█████▉    | 375/626 [07:50<05:02,  1.20s/it]"
          ]
        },
        {
          "output_type": "stream",
          "name": "stdout",
          "text": [
            "🖼️ studio_ghibli_bedroom_with_open_window_by_studioghiblicore_dj7zrmd-375w.jpg → 📝 a bedroom with a bed, a desk, a chair, a window, and a window\n"
          ]
        },
        {
          "output_type": "stream",
          "name": "stderr",
          "text": [
            "\r 60%|██████    | 376/626 [07:50<04:16,  1.03s/it]"
          ]
        },
        {
          "output_type": "stream",
          "name": "stdout",
          "text": [
            "🖼️ studio_ghibli_kitchen_by_studioghiblicore_dj7zrsu-375w.jpg → 📝 a kitchen with a stove and oven\n"
          ]
        },
        {
          "output_type": "stream",
          "name": "stderr",
          "text": [
            "\r 60%|██████    | 377/626 [07:53<05:41,  1.37s/it]"
          ]
        },
        {
          "output_type": "stream",
          "name": "stdout",
          "text": [
            "🖼️ transform_this_image_into_studio_ghibli_animation__by_mspaint1111_djh9ifz-300w.jpg → 📝 a samurai samurai samurai samurai samurai samurai samurai sam\n"
          ]
        },
        {
          "output_type": "stream",
          "name": "stderr",
          "text": [
            "\r 60%|██████    | 378/626 [07:53<04:52,  1.18s/it]"
          ]
        },
        {
          "output_type": "stream",
          "name": "stdout",
          "text": [
            "🖼️ studio_ghibli__the_wind_rises_inspired_by_studioghiblicore_djawnik-350t.jpg → 📝 a house with a roof and a chimney\n"
          ]
        },
        {
          "output_type": "stream",
          "name": "stderr",
          "text": [
            "\r 61%|██████    | 379/626 [07:55<06:05,  1.48s/it]"
          ]
        },
        {
          "output_type": "stream",
          "name": "stdout",
          "text": [
            "🖼️ tape_gagged_but_in_studio_ghibli_by_drmoreto01_djn1zjt-350t.jpg → 📝 a girl with a shaved head and a shaved head is sitting in a restaurant with a shaved head and a shaved\n"
          ]
        },
        {
          "output_type": "stream",
          "name": "stderr",
          "text": [
            "\r 61%|██████    | 380/626 [07:56<04:59,  1.22s/it]"
          ]
        },
        {
          "output_type": "stream",
          "name": "stdout",
          "text": [
            "🖼️ studio_ghibli__kimi_no_na_wa__mount_fuji_by_studioghiblicore_djc5g2r-350t.jpg → 📝 a mountain peaks above a city\n"
          ]
        },
        {
          "output_type": "stream",
          "name": "stderr",
          "text": [
            "\r 61%|██████    | 381/626 [07:57<04:18,  1.06s/it]"
          ]
        },
        {
          "output_type": "stream",
          "name": "stdout",
          "text": [
            "🖼️ studio_ghibli__breakfast_by_studioghiblicore_djag18b-350t.jpg → 📝 a kitchen scene with a table and chairs\n"
          ]
        },
        {
          "output_type": "stream",
          "name": "stderr",
          "text": [
            "\r 61%|██████    | 382/626 [07:58<04:11,  1.03s/it]"
          ]
        },
        {
          "output_type": "stream",
          "name": "stdout",
          "text": [
            "🖼️ fanart_ghibli_studios__by_avafleu_djf84iu-300w.jpg → 📝 a castle on a hillside with a castle on the hillside\n"
          ]
        },
        {
          "output_type": "stream",
          "name": "stderr",
          "text": [
            "\r 61%|██████    | 383/626 [08:00<05:33,  1.37s/it]"
          ]
        },
        {
          "output_type": "stream",
          "name": "stdout",
          "text": [
            "🖼️ dodge_a100_van_studio_ghibli_style__by_estudante1_djjdyzx-414w.jpg → 📝 a samurai samurai samurai samurai samurai samurai samurai sam\n"
          ]
        },
        {
          "output_type": "stream",
          "name": "stderr",
          "text": [
            "\r 61%|██████▏   | 384/626 [08:01<04:59,  1.24s/it]"
          ]
        },
        {
          "output_type": "stream",
          "name": "stdout",
          "text": [
            "🖼️ studio_ghibli__when_marnie_was_there_inspired_by_studioghiblicore_djb50f7-350t.jpg → 📝 a house on a hillside with a view of the sea\n"
          ]
        },
        {
          "output_type": "stream",
          "name": "stderr",
          "text": [
            "\r 62%|██████▏   | 385/626 [08:03<06:06,  1.52s/it]"
          ]
        },
        {
          "output_type": "stream",
          "name": "stdout",
          "text": [
            "🖼️ studio_ghibli_bedroom_by_studioghiblicore_dj7zrm1-375w.jpg → 📝 a bedroom with a bed, a desk, a chair, a desk lamp, a chair, a desk lamp, a chair, a desk lamp,\n"
          ]
        },
        {
          "output_type": "stream",
          "name": "stderr",
          "text": [
            "\r 62%|██████▏   | 386/626 [08:04<05:19,  1.33s/it]"
          ]
        },
        {
          "output_type": "stream",
          "name": "stdout",
          "text": [
            "🖼️ studio_ghibli__kimi_no_na_wa_inspired_2_by_studioghiblicore_djc5g46-350t.jpg → 📝 a girl is standing on a hillside looking at the sky\n"
          ]
        },
        {
          "output_type": "stream",
          "name": "stderr",
          "text": [
            "\r 62%|██████▏   | 387/626 [08:05<04:33,  1.14s/it]"
          ]
        },
        {
          "output_type": "stream",
          "name": "stdout",
          "text": [
            "🖼️ fanart_ghibli_studios__by_avafleu_djf84pf-300w.jpg → 📝 a room with a window and a window\n"
          ]
        },
        {
          "output_type": "stream",
          "name": "stderr",
          "text": [
            "\r 62%|██████▏   | 388/626 [08:05<04:02,  1.02s/it]"
          ]
        },
        {
          "output_type": "stream",
          "name": "stdout",
          "text": [
            "🖼️ dodge_a100_van_studio_ghibli_style__11__by_estudante1_djl7g3e-414w.jpg → 📝 a girl is standing in front of a car\n"
          ]
        },
        {
          "output_type": "stream",
          "name": "stderr",
          "text": [
            "\r 62%|██████▏   | 389/626 [08:06<03:47,  1.04it/s]"
          ]
        },
        {
          "output_type": "stream",
          "name": "stdout",
          "text": [
            "🖼️ dodge_a100_pick_up_truck_studio_ghibli_style__by_estudante1_djkqdp7-350t.jpg → 📝 a girl is driving a red truck in a forest\n"
          ]
        },
        {
          "output_type": "stream",
          "name": "stderr",
          "text": [
            "\r 62%|██████▏   | 390/626 [08:07<03:59,  1.02s/it]"
          ]
        },
        {
          "output_type": "stream",
          "name": "stdout",
          "text": [
            "🖼️ studio_ghibli_living_room_3_by_studioghiblicore_dj7zrth-375w.jpg → 📝 a room with a window, a window, and a view of the sea\n"
          ]
        },
        {
          "output_type": "stream",
          "name": "stderr",
          "text": [
            "\r 62%|██████▏   | 391/626 [08:08<03:44,  1.05it/s]"
          ]
        },
        {
          "output_type": "stream",
          "name": "stdout",
          "text": [
            "🖼️ fanart_ghibli_studios_by_avafleu_djborim-300w.jpg → 📝 a house with a red roof and a red bridge\n"
          ]
        },
        {
          "output_type": "stream",
          "name": "stderr",
          "text": [
            "\r 63%|██████▎   | 392/626 [08:09<03:33,  1.10it/s]"
          ]
        },
        {
          "output_type": "stream",
          "name": "stdout",
          "text": [
            "🖼️ studio_ghibli_wallpaper_by_studioghiblicore_dj804cv-350t.jpg → 📝 a girl is walking down a street in a city\n"
          ]
        },
        {
          "output_type": "stream",
          "name": "stderr",
          "text": [
            "\r 63%|██████▎   | 393/626 [08:11<05:01,  1.29s/it]"
          ]
        },
        {
          "output_type": "stream",
          "name": "stdout",
          "text": [
            "🖼️ fanart____ghibli_studios_animation_by_avafleu_djaqygb-300w.jpg → 📝 a chinese chinese chinese chinese chinese chinese chinese chinese chinese chi\n"
          ]
        },
        {
          "output_type": "stream",
          "name": "stderr",
          "text": [
            "\r 63%|██████▎   | 394/626 [08:12<04:12,  1.09s/it]"
          ]
        },
        {
          "output_type": "stream",
          "name": "stdout",
          "text": [
            "🖼️ caio_vitoria_studio_ghibli_style__by_estudante1_djkbvs0-350t.jpg → 📝 a bus is driving down a street\n"
          ]
        },
        {
          "output_type": "stream",
          "name": "stderr",
          "text": [
            "\r 63%|██████▎   | 395/626 [08:12<03:38,  1.06it/s]"
          ]
        },
        {
          "output_type": "stream",
          "name": "stdout",
          "text": [
            "🖼️ studio_ghibli__the_wind_rises_inspired_2_by_studioghiblicore_djawnis-350t.jpg → 📝 a girl in a field of flowers\n"
          ]
        },
        {
          "output_type": "stream",
          "name": "stderr",
          "text": [
            "\r 63%|██████▎   | 396/626 [08:13<03:17,  1.16it/s]"
          ]
        },
        {
          "output_type": "stream",
          "name": "stdout",
          "text": [
            "🖼️ fanart____ghibli_studios_animation_by_avafleu_djaqyh0-300w.jpg → 📝 a castle ruins on a hillside\n"
          ]
        },
        {
          "output_type": "stream",
          "name": "stderr",
          "text": [
            "\r 63%|██████▎   | 397/626 [08:14<03:26,  1.11it/s]"
          ]
        },
        {
          "output_type": "stream",
          "name": "stdout",
          "text": [
            "🖼️ fanart_ghibli_studios_animation_style_by_avafleu_djbpdap-300w.jpg → 📝 a black cat with a red nose and a white snout\n"
          ]
        },
        {
          "output_type": "stream",
          "name": "stderr",
          "text": [
            "\r 64%|██████▎   | 398/626 [08:15<03:22,  1.13it/s]"
          ]
        },
        {
          "output_type": "stream",
          "name": "stdout",
          "text": [
            "🖼️ fanart_ghibli_studios__by_avafleu_djf84i3-250t.jpg → 📝 a girl is playing with a robot in a room\n"
          ]
        },
        {
          "output_type": "stream",
          "name": "stderr",
          "text": [
            "\r 64%|██████▎   | 399/626 [08:16<03:39,  1.04it/s]"
          ]
        },
        {
          "output_type": "stream",
          "name": "stdout",
          "text": [
            "🖼️ _ghibli_studios_animation_style_fanart_by_avafleu_djbpd8r-250t.jpg → 📝 a shabby chic living room with a tv and a fireplace\n"
          ]
        },
        {
          "output_type": "stream",
          "name": "stderr",
          "text": [
            "\r 64%|██████▍   | 400/626 [08:17<04:03,  1.08s/it]"
          ]
        },
        {
          "output_type": "stream",
          "name": "stdout",
          "text": [
            "🖼️ studio_ghibli_bedroom_in_the_morning_by_studioghiblicore_dj7zrn8-250t.jpg → 📝 a bedroom with a bed, a desk, a chair, a table and a chair\n"
          ]
        },
        {
          "output_type": "stream",
          "name": "stderr",
          "text": [
            "\r 64%|██████▍   | 401/626 [08:18<03:45,  1.00s/it]"
          ]
        },
        {
          "output_type": "stream",
          "name": "stdout",
          "text": [
            "🖼️ studio_ghibli_inspired_phone_wallpaper_4_by_studioghiblicore_dj7z6yy-250t.jpg → 📝 a girl is standing on a bridge in a forest\n"
          ]
        },
        {
          "output_type": "stream",
          "name": "stderr",
          "text": [
            "\r 64%|██████▍   | 402/626 [08:19<03:29,  1.07it/s]"
          ]
        },
        {
          "output_type": "stream",
          "name": "stdout",
          "text": [
            "🖼️ studio_ghibli_roadtrip_by_studioghiblicore_dj7zrpp-250t.jpg → 📝 a bus driving down a road in a village\n"
          ]
        },
        {
          "output_type": "stream",
          "name": "stderr",
          "text": [
            "\r 64%|██████▍   | 403/626 [08:20<03:27,  1.07it/s]"
          ]
        },
        {
          "output_type": "stream",
          "name": "stdout",
          "text": [
            "🖼️ caio_apache_s21_studio_ghibli_style__by_estudante1_djkbz1w-350t.jpg → 📝 a bus with a girl and a boy in the front seat\n"
          ]
        },
        {
          "output_type": "stream",
          "name": "stderr",
          "text": [
            "\r 65%|██████▍   | 404/626 [08:21<03:38,  1.02it/s]"
          ]
        },
        {
          "output_type": "stream",
          "name": "stdout",
          "text": [
            "🖼️ studio_ghibli_inspired__house_by_the_river__peace__by_studioghiblicore_djawp3k-350t.jpg → 📝 a hut on a hillside with a tree and a pond\n"
          ]
        },
        {
          "output_type": "stream",
          "name": "stderr",
          "text": [
            "\r 65%|██████▍   | 405/626 [08:22<03:24,  1.08it/s]"
          ]
        },
        {
          "output_type": "stream",
          "name": "stdout",
          "text": [
            "🖼️ magical_forest_clearing_at_twilight__hand_drawn_an_by_mrpro234_djl7cjl-350t.jpg → 📝 a girl walks down a path in a forest\n"
          ]
        },
        {
          "output_type": "stream",
          "name": "stderr",
          "text": [
            "\r 65%|██████▍   | 406/626 [08:23<03:46,  1.03s/it]"
          ]
        },
        {
          "output_type": "stream",
          "name": "stdout",
          "text": [
            "🖼️ studio_ghibli_inspired_phone_wallpaper_2_by_studioghiblicore_dj7z6x9-350t.jpg → 📝 a girl is walking in a forest with a sakura tree in the background\n"
          ]
        },
        {
          "output_type": "stream",
          "name": "stderr",
          "text": [
            "\r 65%|██████▌   | 407/626 [08:24<03:36,  1.01it/s]"
          ]
        },
        {
          "output_type": "stream",
          "name": "stdout",
          "text": [
            "🖼️ studio_ghibli_coffee_shop_by_studioghiblicore_dj7zrv4-375w.jpg → 📝 a cafe with a tv and a coffee machine\n"
          ]
        },
        {
          "output_type": "stream",
          "name": "stderr",
          "text": [
            "\r 65%|██████▌   | 408/626 [08:25<03:55,  1.08s/it]"
          ]
        },
        {
          "output_type": "stream",
          "name": "stdout",
          "text": [
            "🖼️ studio_ghibli_relaxing_by_studioghiblicore_dj7zrqh-375w.jpg → 📝 a girl sits on a couch in a living room with a cat and a book\n"
          ]
        },
        {
          "output_type": "stream",
          "name": "stderr",
          "text": [
            "\r 65%|██████▌   | 409/626 [08:26<03:57,  1.09s/it]"
          ]
        },
        {
          "output_type": "stream",
          "name": "stdout",
          "text": [
            "🖼️ fanart_ghibli_studios__by_avafleu_djf84l8-300w.jpg → 📝 a shabby chic living room with a tv and a sofa\n"
          ]
        },
        {
          "output_type": "stream",
          "name": "stderr",
          "text": [
            "\r 65%|██████▌   | 410/626 [08:28<04:06,  1.14s/it]"
          ]
        },
        {
          "output_type": "stream",
          "name": "stdout",
          "text": [
            "🖼️ studio_ghibli_inspired__beach_side_bar_at_night_by_studioghiblicore_djawr3e-375w.jpg → 📝 a sailor is walking down the street with a hat and a hat\n"
          ]
        },
        {
          "output_type": "stream",
          "name": "stderr",
          "text": [
            "\r 66%|██████▌   | 411/626 [08:28<03:44,  1.04s/it]"
          ]
        },
        {
          "output_type": "stream",
          "name": "stdout",
          "text": [
            "🖼️ fanart_ghibli_studios__by_avafleu_djf84kv-300w.jpg → 📝 a train is moving down a street in a city\n"
          ]
        },
        {
          "output_type": "stream",
          "name": "stderr",
          "text": [
            "\r 66%|██████▌   | 412/626 [08:30<03:51,  1.08s/it]"
          ]
        },
        {
          "output_type": "stream",
          "name": "stdout",
          "text": [
            "🖼️ studio_ghibli_work_table_by_studioghiblicore_dj7zroz-375w.jpg → 📝 a teddy bear sits on a bed with a book in his lap\n"
          ]
        },
        {
          "output_type": "stream",
          "name": "stderr",
          "text": [
            "\r 66%|██████▌   | 413/626 [08:30<03:20,  1.06it/s]"
          ]
        },
        {
          "output_type": "stream",
          "name": "stdout",
          "text": [
            "🖼️ in_a_whimsical_scene_reminiscent_of_studio_ghibli__by_chrisjr2518_djkdivv-300w.jpg → 📝 a couple of people in a forest\n"
          ]
        },
        {
          "output_type": "stream",
          "name": "stderr",
          "text": [
            "\r 66%|██████▌   | 414/626 [08:31<02:53,  1.22it/s]"
          ]
        },
        {
          "output_type": "stream",
          "name": "stdout",
          "text": [
            "🖼️ magical_forest_clearing_at_twilight__hand_drawn_an_by_mrpro234_djl7cjt-350t.jpg → 📝 a path through a forest\n"
          ]
        },
        {
          "output_type": "stream",
          "name": "stderr",
          "text": [
            "\r 66%|██████▋   | 415/626 [08:33<04:17,  1.22s/it]"
          ]
        },
        {
          "output_type": "stream",
          "name": "stdout",
          "text": [
            "🖼️ studio_ghibli_relaxing_bedroom_by_studioghiblicore_dj7zrmr-375w.jpg → 📝 a bedroom with a bed, a dresser, a desk, a chair, a chair, a table, a chair, a chair, a chair\n"
          ]
        },
        {
          "output_type": "stream",
          "name": "stderr",
          "text": [
            "\r 66%|██████▋   | 416/626 [08:34<03:55,  1.12s/it]"
          ]
        },
        {
          "output_type": "stream",
          "name": "stdout",
          "text": [
            "🖼️ fanart_ghibli_studios__by_avafleu_djf84ny-300w.jpg → 📝 a room with a piano and a piano in the background\n"
          ]
        },
        {
          "output_type": "stream",
          "name": "stderr",
          "text": [
            "\r 67%|██████▋   | 417/626 [08:35<03:39,  1.05s/it]"
          ]
        },
        {
          "output_type": "stream",
          "name": "stdout",
          "text": [
            "🖼️ studio_ghibli_inspired__beach_at_night_by_studioghiblicore_djawr47-414w.jpg → 📝 a sailor and his boat sails down the river\n"
          ]
        },
        {
          "output_type": "stream",
          "name": "stderr",
          "text": [
            "\r 67%|██████▋   | 418/626 [08:36<04:00,  1.16s/it]"
          ]
        },
        {
          "output_type": "stream",
          "name": "stdout",
          "text": [
            "🖼️ fanart_ghibli_studios__by_avafleu_djborlb-300w.jpg → 📝 a girl with a sword and a sword in her hand sits on a rock in a forest\n"
          ]
        },
        {
          "output_type": "stream",
          "name": "stderr",
          "text": [
            "\r 67%|██████▋   | 419/626 [08:37<03:45,  1.09s/it]"
          ]
        },
        {
          "output_type": "stream",
          "name": "stdout",
          "text": [
            "🖼️ studio_ghibli_howl_s_moving_castle_3_by_studioghiblicore_dj8gxvk-350t.jpg → 📝 a girl is walking down a path in front of a castle\n"
          ]
        },
        {
          "output_type": "stream",
          "name": "stderr",
          "text": [
            "\r 67%|██████▋   | 420/626 [08:38<04:01,  1.17s/it]"
          ]
        },
        {
          "output_type": "stream",
          "name": "stdout",
          "text": [
            "🖼️ in_the_studio_ghibli_anime_style__fantasy__detaile_by_krishnpb_djgm00c-300w.jpg → 📝 a girl in a hut with a teddy bear and a teddy bear\n"
          ]
        },
        {
          "output_type": "stream",
          "name": "stderr",
          "text": [
            "\r 67%|██████▋   | 421/626 [08:40<04:20,  1.27s/it]"
          ]
        },
        {
          "output_type": "stream",
          "name": "stdout",
          "text": [
            "🖼️ studio_ghibli__the_wind_rises_inspired_3_by_studioghiblicore_djawnin-250t.jpg → 📝 a chinese pagoda with a chinese character and a chinese character\n"
          ]
        },
        {
          "output_type": "stream",
          "name": "stderr",
          "text": [
            "\r 67%|██████▋   | 422/626 [08:41<03:56,  1.16s/it]"
          ]
        },
        {
          "output_type": "stream",
          "name": "stdout",
          "text": [
            "🖼️ studio_ghibli__when_marnie_was_there_by_studioghiblicore_djb50f1-250t.jpg → 📝 a girl and boy sitting on a bench in a field\n"
          ]
        },
        {
          "output_type": "stream",
          "name": "stderr",
          "text": [
            "\r 68%|██████▊   | 423/626 [08:42<03:40,  1.09s/it]"
          ]
        },
        {
          "output_type": "stream",
          "name": "stdout",
          "text": [
            "🖼️ convert_this_image_into_claiming_studio_ghibli_ani_by_taukiralam056_djgsv95-250t.jpg → 📝 a girl and boy are walking down a street in a city\n"
          ]
        },
        {
          "output_type": "stream",
          "name": "stderr",
          "text": [
            "\r 68%|██████▊   | 424/626 [08:42<03:07,  1.07it/s]"
          ]
        },
        {
          "output_type": "stream",
          "name": "stdout",
          "text": [
            "🖼️ fanart_ghibli_studios__by_avafleu_djf84kj-250t.jpg → 📝 a hut in the woods\n"
          ]
        },
        {
          "output_type": "stream",
          "name": "stderr",
          "text": [
            "\r 68%|██████▊   | 425/626 [08:43<03:00,  1.11it/s]"
          ]
        },
        {
          "output_type": "stream",
          "name": "stdout",
          "text": [
            "🖼️ studio_ghibli__the_wind_rises_by_studioghiblicore_djawni9-250t.jpg → 📝 a sailor flying a plane in the sky\n"
          ]
        },
        {
          "output_type": "stream",
          "name": "stderr",
          "text": [
            "\r 68%|██████▊   | 426/626 [08:44<03:11,  1.05it/s]"
          ]
        },
        {
          "output_type": "stream",
          "name": "stdout",
          "text": [
            "🖼️ studio_ghibli_inspired_date_by_the_sunset_by_studioghiblicore_dj8eut8-350t.jpg → 📝 a couple sitting on a bench in a field with a sunset behind them\n"
          ]
        },
        {
          "output_type": "stream",
          "name": "stderr",
          "text": [
            "\r 68%|██████▊   | 427/626 [08:45<03:08,  1.05it/s]"
          ]
        },
        {
          "output_type": "stream",
          "name": "stdout",
          "text": [
            "🖼️ fanart_ghibli_studios__by_avafleu_djf84h3-300w.jpg → 📝 a girl and boy are walking down a path in a forest\n"
          ]
        },
        {
          "output_type": "stream",
          "name": "stderr",
          "text": [
            "\r 68%|██████▊   | 428/626 [08:46<03:13,  1.02it/s]"
          ]
        },
        {
          "output_type": "stream",
          "name": "stdout",
          "text": [
            "🖼️ convert_this_image_to_studio_ghibli_art_by_thakorkeshavgalaji_djh1k7m-300w.jpg → 📝 a girl in a white dress walks down a path with a dog\n"
          ]
        },
        {
          "output_type": "stream",
          "name": "stderr",
          "text": [
            "\r 69%|██████▊   | 429/626 [08:48<04:25,  1.35s/it]"
          ]
        },
        {
          "output_type": "stream",
          "name": "stdout",
          "text": [
            "🖼️ fanart_of_ghibli_studios_animation__by_avafleu_djbpd79-300w.jpg → 📝 a black and white image of a black and white image of a black and white image of a black and white image of a black and white image of a black and white\n"
          ]
        },
        {
          "output_type": "stream",
          "name": "stderr",
          "text": [
            "\r 69%|██████▊   | 430/626 [08:49<03:52,  1.19s/it]"
          ]
        },
        {
          "output_type": "stream",
          "name": "stdout",
          "text": [
            "🖼️ studio_ghibli_neighbordhood_2_by_studioghiblicore_dj7zruq-375w.jpg → 📝 a house with a red roof and a red roof\n"
          ]
        },
        {
          "output_type": "stream",
          "name": "stderr",
          "text": [
            "\r 69%|██████▉   | 431/626 [08:50<03:47,  1.17s/it]"
          ]
        },
        {
          "output_type": "stream",
          "name": "stdout",
          "text": [
            "🖼️ fanart____ghibli_studios_animation_by_avafleu_djaqyil-300w.jpg → 📝 a shabby chic living room with a tv and a sofa\n"
          ]
        },
        {
          "output_type": "stream",
          "name": "stderr",
          "text": [
            "\r 69%|██████▉   | 432/626 [08:51<03:29,  1.08s/it]"
          ]
        },
        {
          "output_type": "stream",
          "name": "stdout",
          "text": [
            "🖼️ studio_ghibli_neighborhood_by_studioghiblicore_dj7zru2-375w.jpg → 📝 a street scene with a street scene and a street scene\n"
          ]
        },
        {
          "output_type": "stream",
          "name": "stderr",
          "text": [
            "\r 69%|██████▉   | 433/626 [08:52<03:09,  1.02it/s]"
          ]
        },
        {
          "output_type": "stream",
          "name": "stdout",
          "text": [
            "🖼️ ghibli_studio_by_safiulhqe_djgm4pz-300w.jpg → 📝 a girl walks down a street in a city\n"
          ]
        },
        {
          "output_type": "stream",
          "name": "stderr",
          "text": [
            "\r 69%|██████▉   | 434/626 [08:53<03:11,  1.00it/s]"
          ]
        },
        {
          "output_type": "stream",
          "name": "stdout",
          "text": [
            "🖼️ studio_ghibli__the_wind_rises_4_by_studioghiblicore_djawniy-350t.jpg → 📝 a girl and boy in a hat stand in a field of grass\n"
          ]
        },
        {
          "output_type": "stream",
          "name": "stderr",
          "text": [
            "\r 69%|██████▉   | 435/626 [08:54<02:48,  1.13it/s]"
          ]
        },
        {
          "output_type": "stream",
          "name": "stdout",
          "text": [
            "🖼️ studio_ghibli_howl_s_moving_castle_2_by_studioghiblicore_dj8gxuw-350t.jpg → 📝 a castle on top of a hill\n"
          ]
        },
        {
          "output_type": "stream",
          "name": "stderr",
          "text": [
            "\r 70%|██████▉   | 436/626 [08:56<04:02,  1.28s/it]"
          ]
        },
        {
          "output_type": "stream",
          "name": "stdout",
          "text": [
            "🖼️ studio_ghibli_coffee_table_2_by_studioghiblicore_dj7zrnz-375w.jpg → 📝 a coffee cup, a cup of tea, a cup of coffee, a cup of tea, a cup of coffee, a cup of coffee, a cup of coffee\n"
          ]
        },
        {
          "output_type": "stream",
          "name": "stderr",
          "text": [
            "\r 70%|██████▉   | 437/626 [08:57<03:52,  1.23s/it]"
          ]
        },
        {
          "output_type": "stream",
          "name": "stdout",
          "text": [
            "🖼️ studio_ghibli_study_area_by_studioghiblicore_dj7zrpd-375w.jpg → 📝 a shabby chic style bedroom with a tv and a desk\n"
          ]
        },
        {
          "output_type": "stream",
          "name": "stderr",
          "text": [
            "\r 70%|██████▉   | 438/626 [08:58<03:41,  1.18s/it]"
          ]
        },
        {
          "output_type": "stream",
          "name": "stdout",
          "text": [
            "🖼️ studio_ghibli__my_neighbor_totoro_3_by_studioghiblicore_djagf20-350t.jpg → 📝 a girl and a boy are walking down a path in a forest\n"
          ]
        },
        {
          "output_type": "stream",
          "name": "stderr",
          "text": [
            "\r 70%|███████   | 439/626 [08:59<03:35,  1.15s/it]"
          ]
        },
        {
          "output_type": "stream",
          "name": "stdout",
          "text": [
            "🖼️ studio_ghibli_inspired_couple_date_by_studioghiblicore_dj8eutg-350t.jpg → 📝 a couple of anime girls sitting on a grassy hill with a picnic basket\n"
          ]
        },
        {
          "output_type": "stream",
          "name": "stderr",
          "text": [
            "\r 70%|███████   | 440/626 [09:00<03:04,  1.01it/s]"
          ]
        },
        {
          "output_type": "stream",
          "name": "stdout",
          "text": [
            "🖼️ vw_passat_wagon_b2_studio_ghibli_style__by_estudante1_djkdp1c-350t.jpg → 📝 a girl is driving a red car\n"
          ]
        },
        {
          "output_type": "stream",
          "name": "stderr",
          "text": [
            "\r 70%|███████   | 441/626 [09:02<04:09,  1.35s/it]"
          ]
        },
        {
          "output_type": "stream",
          "name": "stdout",
          "text": [
            "🖼️ studio_ghibli_coffee_table_by_studioghiblicore_dj7zro7-414w.jpg → 📝 a mug of coffee, a cup of tea, a cup of tea, a cup of coffee, a cup of tea, a cup of tea, a cup\n"
          ]
        },
        {
          "output_type": "stream",
          "name": "stderr",
          "text": [
            "\r 71%|███████   | 442/626 [09:02<03:30,  1.14s/it]"
          ]
        },
        {
          "output_type": "stream",
          "name": "stdout",
          "text": [
            "🖼️ studio_ghibli_kitchen_table__dinner_preparation_by_studioghiblicore_djag18n-350t.jpg → 📝 a kitchen scene with a table and chairs\n"
          ]
        },
        {
          "output_type": "stream",
          "name": "stderr",
          "text": [
            "\r 71%|███████   | 443/626 [09:03<03:20,  1.10s/it]"
          ]
        },
        {
          "output_type": "stream",
          "name": "stdout",
          "text": [
            "🖼️ studio_ghibli_inspired__house_by_the_river_by_studioghiblicore_djawp2s-350t.jpg → 📝 a house on a hillside with a tree and a river\n"
          ]
        },
        {
          "output_type": "stream",
          "name": "stderr",
          "text": [
            "\r 71%|███████   | 444/626 [09:05<03:25,  1.13s/it]"
          ]
        },
        {
          "output_type": "stream",
          "name": "stdout",
          "text": [
            "🖼️ studio_ghibli_inspired_wallpaper_by_studioghiblicore_dj7z6wm-350t.jpg → 📝 a girl is walking down a path in a forest with trees and a beautiful sunset\n"
          ]
        },
        {
          "output_type": "stream",
          "name": "stderr",
          "text": [
            "\r 71%|███████   | 445/626 [09:05<02:48,  1.08it/s]"
          ]
        },
        {
          "output_type": "stream",
          "name": "stdout",
          "text": [
            "🖼️ studio_ghibli_inspired__house_by_the_river__serene_by_studioghiblicore_djawp3x-350t.jpg → 📝 a house in the forest\n"
          ]
        },
        {
          "output_type": "stream",
          "name": "stderr",
          "text": [
            "\r 71%|███████   | 446/626 [09:06<02:41,  1.12it/s]"
          ]
        },
        {
          "output_type": "stream",
          "name": "stdout",
          "text": [
            "🖼️ studio_ghibli_inspired_wallpaper__by_studioghiblicore_dj7z6yf-350t.jpg → 📝 a girl is walking down a path in a forest\n"
          ]
        },
        {
          "output_type": "stream",
          "name": "stderr",
          "text": [
            "\r 71%|███████▏  | 447/626 [09:07<02:41,  1.11it/s]"
          ]
        },
        {
          "output_type": "stream",
          "name": "stdout",
          "text": [
            "🖼️ _dreamy_sunset_street___by_djvisuals_djp65ur-414w.jpg → 📝 a girl and boy are walking down a street in a city\n"
          ]
        },
        {
          "output_type": "stream",
          "name": "stderr",
          "text": [
            "\r 72%|███████▏  | 448/626 [09:08<02:41,  1.10it/s]"
          ]
        },
        {
          "output_type": "stream",
          "name": "stdout",
          "text": [
            "🖼️ studio_ghibli_picnic_by_studioghiblicore_dj7zrq0-375w.jpg → 📝 a girl is sitting on a picnic blanket with a picnic basket\n"
          ]
        },
        {
          "output_type": "stream",
          "name": "stderr",
          "text": [
            "\r 72%|███████▏  | 449/626 [09:09<02:40,  1.10it/s]"
          ]
        },
        {
          "output_type": "stream",
          "name": "stdout",
          "text": [
            "🖼️ studio_ghibli_hansel_and_gretel_chihiro_ogino___by_studioghibifan1992_djce1hk-350t.jpg → 📝 a girl sits on the ground in front of a yellow building\n"
          ]
        },
        {
          "output_type": "stream",
          "name": "stderr",
          "text": [
            "\r 72%|███████▏  | 450/626 [09:11<03:47,  1.29s/it]"
          ]
        },
        {
          "output_type": "stream",
          "name": "stdout",
          "text": [
            "🖼️ studio_ghibli_garden_by_studioghiblicore_dj7znt9_by_studioghiblicore_dj7zrro-375w.jpg → 📝 a sakura sakura sakura sakura sakura sakura sakura sa\n"
          ]
        },
        {
          "output_type": "stream",
          "name": "stderr",
          "text": [
            "\r 72%|███████▏  | 451/626 [09:11<03:01,  1.04s/it]"
          ]
        },
        {
          "output_type": "stream",
          "name": "stdout",
          "text": [
            "🖼️ studio_ghibli_inspired__riverside_house_by_studioghiblicore_djawp2y-350t.jpg → 📝 a house in the forest\n"
          ]
        },
        {
          "output_type": "stream",
          "name": "stderr",
          "text": [
            "\r 72%|███████▏  | 452/626 [09:12<02:46,  1.04it/s]"
          ]
        },
        {
          "output_type": "stream",
          "name": "stdout",
          "text": [
            "🖼️ studio_ghibli_howl_s_moving_castle_by_studioghiblicore_dj8et2t-350t.jpg → 📝 a castle on a hillside with clouds and clouds\n"
          ]
        },
        {
          "output_type": "stream",
          "name": "stderr",
          "text": [
            "\r 72%|███████▏  | 453/626 [09:13<02:41,  1.07it/s]"
          ]
        },
        {
          "output_type": "stream",
          "name": "stdout",
          "text": [
            "🖼️ studio_ghibli__city_lights_by_studioghiblicore_djag6b9-350t.jpg → 📝 a cityscape with a cityscape and a cityscape\n"
          ]
        },
        {
          "output_type": "stream",
          "name": "stderr",
          "text": [
            "\r 73%|███████▎  | 454/626 [09:14<02:34,  1.11it/s]"
          ]
        },
        {
          "output_type": "stream",
          "name": "stdout",
          "text": [
            "🖼️ where_to_go_next__by_goosedacreator_djhhpqy-350t.jpg → 📝 a girl is walking down a path in a forest\n"
          ]
        },
        {
          "output_type": "stream",
          "name": "stderr",
          "text": [
            "\r 73%|███████▎  | 455/626 [09:14<02:24,  1.19it/s]"
          ]
        },
        {
          "output_type": "stream",
          "name": "stdout",
          "text": [
            "🖼️ a_car_running_in_a_street__studio_ghibli_version__by_sandstudios_djoiiga-414w.jpg → 📝 a red car driving on a road at night\n"
          ]
        },
        {
          "output_type": "stream",
          "name": "stderr",
          "text": [
            "\r 73%|███████▎  | 456/626 [09:16<02:32,  1.11it/s]"
          ]
        },
        {
          "output_type": "stream",
          "name": "stdout",
          "text": [
            "🖼️ studio_ghibli__kimi_no_na_wa__mitsuha__comet_by_studioghiblicore_djc5g3m-350t.jpg → 📝 a girl is walking down a path with a beautiful view of the sunset\n"
          ]
        },
        {
          "output_type": "stream",
          "name": "stderr",
          "text": [
            "\r 73%|███████▎  | 457/626 [09:18<03:37,  1.28s/it]"
          ]
        },
        {
          "output_type": "stream",
          "name": "stdout",
          "text": [
            "🖼️ studio_ghibli__my_neighbor_totoro_2_by_studioghiblicore_djagf1k-350t.jpg → 📝 a sakura sakura sakura sakura sakura sakura sakura sa\n"
          ]
        },
        {
          "output_type": "stream",
          "name": "stderr",
          "text": [
            "\r 73%|███████▎  | 458/626 [09:18<02:53,  1.03s/it]"
          ]
        },
        {
          "output_type": "stream",
          "name": "stdout",
          "text": [
            "🖼️ convert_this_image_into_studio_ghibli_art_by_shivatiwari555_djh173r-300w.jpg → 📝 a house in the forest\n"
          ]
        },
        {
          "output_type": "stream",
          "name": "stderr",
          "text": [
            "\r 73%|███████▎  | 459/626 [09:19<02:42,  1.03it/s]"
          ]
        },
        {
          "output_type": "stream",
          "name": "stdout",
          "text": [
            "🖼️ fanart_ghibli_studios__by_avafleu_djf84go-300w.jpg → 📝 a girl and a boy are standing in a forest\n"
          ]
        },
        {
          "output_type": "stream",
          "name": "stderr",
          "text": [
            "\r 73%|███████▎  | 460/626 [09:20<02:23,  1.16it/s]"
          ]
        },
        {
          "output_type": "stream",
          "name": "stdout",
          "text": [
            "🖼️ studio_ghibli_small_kitchen_by_studioghiblicore_dj7zrrw-375w.jpg → 📝 a kitchen with a stove and oven\n"
          ]
        },
        {
          "output_type": "stream",
          "name": "stderr",
          "text": [
            "\r 74%|███████▎  | 461/626 [09:21<02:30,  1.10it/s]"
          ]
        },
        {
          "output_type": "stream",
          "name": "stdout",
          "text": [
            "🖼️ studio_ghibli_living_room_2_by_studioghiblicore_dj7zrt5-375w.jpg → 📝 a room with a sofa, chairs, a table and a lamp\n"
          ]
        },
        {
          "output_type": "stream",
          "name": "stderr",
          "text": [
            "\r 74%|███████▍  | 462/626 [09:22<02:30,  1.09it/s]"
          ]
        },
        {
          "output_type": "stream",
          "name": "stdout",
          "text": [
            "🖼️ convert_into_the_studio_ghibli_art__by_alfaizkhandj_djgs87b-300w.jpg → 📝 a girl sits on a bench in front of a tree\n"
          ]
        },
        {
          "output_type": "stream",
          "name": "stderr",
          "text": [
            "\r 74%|███████▍  | 463/626 [09:22<02:27,  1.11it/s]"
          ]
        },
        {
          "output_type": "stream",
          "name": "stdout",
          "text": [
            "🖼️ studio_ghibli_neighborhood_3_by_studioghiblicore_dj7zrtr-375w.jpg → 📝 a cityscape with a cityscape and a cityscape\n"
          ]
        },
        {
          "output_type": "stream",
          "name": "stderr",
          "text": [
            "\r 74%|███████▍  | 464/626 [09:23<02:32,  1.06it/s]"
          ]
        },
        {
          "output_type": "stream",
          "name": "stdout",
          "text": [
            "🖼️ restyle_this_photo_in_studio_ghibli_anime_style_by_ahm485_djjd69z-375w.jpg → 📝 a girl and boy are standing in a kitchen with a pot of vegetables\n"
          ]
        },
        {
          "output_type": "stream",
          "name": "stderr",
          "text": [
            "\r 74%|███████▍  | 465/626 [09:26<03:31,  1.31s/it]"
          ]
        },
        {
          "output_type": "stream",
          "name": "stdout",
          "text": [
            "🖼️ convert_this_image_into_studio_ghibli_art_by_bakasurshinde_djgzihz-375w.jpg → 📝 a sakura village in the mountains with a sakura village in the mountains with a sakura village in the mountains with a s\n"
          ]
        },
        {
          "output_type": "stream",
          "name": "stderr",
          "text": [
            "\r 74%|███████▍  | 466/626 [09:26<03:05,  1.16s/it]"
          ]
        },
        {
          "output_type": "stream",
          "name": "stdout",
          "text": [
            "🖼️ studio_ghibli_mini_garden_by_studioghiblicore_dj7zrr3-375w.jpg → 📝 a koi sat in a garden\n"
          ]
        },
        {
          "output_type": "stream",
          "name": "stderr",
          "text": [
            "\r 75%|███████▍  | 467/626 [09:27<02:52,  1.09s/it]"
          ]
        },
        {
          "output_type": "stream",
          "name": "stdout",
          "text": [
            "🖼️ 2pac_last_photo___09_08_1996__studio_ghibli_style__by_tonyruiz2002_djhee3e-414w.jpg → 📝 a man in a car with a woman in the passenger seat\n"
          ]
        },
        {
          "output_type": "stream",
          "name": "stderr",
          "text": [
            "\r 75%|███████▍  | 468/626 [09:28<02:29,  1.06it/s]"
          ]
        },
        {
          "output_type": "stream",
          "name": "stdout",
          "text": [
            "🖼️ studio_ghibli_kitchen_in_the_morning_by_studioghiblicore_dj7zrsb-375w.jpg → 📝 a kitchen with a stove and oven\n"
          ]
        },
        {
          "output_type": "stream",
          "name": "stderr",
          "text": [
            "\r 75%|███████▍  | 469/626 [09:29<02:42,  1.03s/it]"
          ]
        },
        {
          "output_type": "stream",
          "name": "stdout",
          "text": [
            "🖼️ studio_ghibli_spirited_away_wallpaper_by_studioghiblicore_dj7z6zl-350t.jpg → 📝 a girl in a red dress is standing in front of a red bridge in a city\n"
          ]
        },
        {
          "output_type": "stream",
          "name": "stderr",
          "text": [
            "\r 75%|███████▌  | 470/626 [09:30<02:50,  1.09s/it]"
          ]
        },
        {
          "output_type": "stream",
          "name": "stdout",
          "text": [
            "🖼️ restyle_this_photo_in_studio_ghibli_anime_style_by_ezzhanyy_djgug3x-300w.jpg → 📝 a girl in a hat and a hat is standing in a field with trees\n"
          ]
        },
        {
          "output_type": "stream",
          "name": "stderr",
          "text": [
            "\r 75%|███████▌  | 471/626 [09:31<02:48,  1.09s/it]"
          ]
        },
        {
          "output_type": "stream",
          "name": "stdout",
          "text": [
            "🖼️ 20250505_0838_studio_ghibli_office_scene_simple_co_by_castcreations_djp7d22-250t.jpg → 📝 a woman is sitting in a chair with a woman sitting on a chair\n"
          ]
        },
        {
          "output_type": "stream",
          "name": "stderr",
          "text": [
            "\r 75%|███████▌  | 472/626 [09:33<02:44,  1.07s/it]"
          ]
        },
        {
          "output_type": "stream",
          "name": "stdout",
          "text": [
            "🖼️ studio_ghibli_spirited_away_by_studioghiblicore_dj89c2p-250t.jpg → 📝 a girl in a red dress is standing in front of a red bridge\n"
          ]
        },
        {
          "output_type": "stream",
          "name": "stderr",
          "text": [
            "\r 76%|███████▌  | 473/626 [09:33<02:34,  1.01s/it]"
          ]
        },
        {
          "output_type": "stream",
          "name": "stdout",
          "text": [
            "🖼️ studio_ghibli_living_room_by_studioghiblicore_dj7zroi-250t.jpg → 📝 a room with a window and a view of the mountains\n"
          ]
        },
        {
          "output_type": "stream",
          "name": "stderr",
          "text": [
            "\r 76%|███████▌  | 474/626 [09:34<02:27,  1.03it/s]"
          ]
        },
        {
          "output_type": "stream",
          "name": "stdout",
          "text": [
            "🖼️ studio_ghibli__when_marnie_was_there_2_by_studioghiblicore_djb50fn-250t.jpg → 📝 a girl is standing in a garden looking at a lake\n"
          ]
        },
        {
          "output_type": "stream",
          "name": "stderr",
          "text": [
            "\r 76%|███████▌  | 475/626 [09:35<02:21,  1.07it/s]"
          ]
        },
        {
          "output_type": "stream",
          "name": "stdout",
          "text": [
            "🖼️ new_york__studio_ghibli_by_latentsynapsisdreams_diab37t-414w.jpg → 📝 a cityscape with a cityscape and a cityscape\n"
          ]
        },
        {
          "output_type": "stream",
          "name": "stderr",
          "text": [
            "\r 76%|███████▌  | 476/626 [09:36<02:33,  1.03s/it]"
          ]
        },
        {
          "output_type": "stream",
          "name": "stdout",
          "text": [
            "🖼️ whispers_of_the_spirit_realm__a_spirited_away_reve_by_inkimagine_djeer3q-250t.jpg → 📝 a girl is standing in a room with a giant octopus hanging above her\n"
          ]
        },
        {
          "output_type": "stream",
          "name": "stderr",
          "text": [
            "\r 76%|███████▌  | 477/626 [09:37<02:14,  1.11it/s]"
          ]
        },
        {
          "output_type": "stream",
          "name": "stdout",
          "text": [
            "🖼️ make_this_photo_into_ghibli_studio_art_by_ajaychvan_djgqicd-250t.jpg → 📝 a train is moving down a street\n"
          ]
        },
        {
          "output_type": "stream",
          "name": "stderr",
          "text": [
            "\r 76%|███████▋  | 478/626 [09:38<02:12,  1.11it/s]"
          ]
        },
        {
          "output_type": "stream",
          "name": "stdout",
          "text": [
            "🖼️ dodge_dakota_studio_ghibli_style__2__by_estudante1_djkql16-250t.jpg → 📝 a blue truck is driving down a road with trees and grass\n"
          ]
        },
        {
          "output_type": "stream",
          "name": "stderr",
          "text": [
            "\r 77%|███████▋  | 479/626 [09:39<02:05,  1.17it/s]"
          ]
        },
        {
          "output_type": "stream",
          "name": "stdout",
          "text": [
            "🖼️ convert_this_image_to_studio_ghibli_style_art_by_bhwika_djgjgdu-300w.jpg → 📝 a girl walks down a path in a forest\n"
          ]
        },
        {
          "output_type": "stream",
          "name": "stderr",
          "text": [
            "\r 77%|███████▋  | 480/626 [09:40<02:10,  1.12it/s]"
          ]
        },
        {
          "output_type": "stream",
          "name": "stdout",
          "text": [
            "🖼️ studio_ghibli_inspired_date_by_the_lake_by_studioghiblicore_dj8ev55-350t.jpg → 📝 a girl and boy sitting on a bench with a cup of tea\n"
          ]
        },
        {
          "output_type": "stream",
          "name": "stderr",
          "text": [
            "\r 77%|███████▋  | 481/626 [09:40<02:03,  1.17it/s]"
          ]
        },
        {
          "output_type": "stream",
          "name": "stdout",
          "text": [
            "🖼️ studio_ghibli_style_by_ankityhskor_djh4gwe-300w.jpg → 📝 a girl and her friends are standing in a forest\n"
          ]
        },
        {
          "output_type": "stream",
          "name": "stderr",
          "text": [
            "\r 77%|███████▋  | 482/626 [09:41<02:08,  1.12it/s]"
          ]
        },
        {
          "output_type": "stream",
          "name": "stdout",
          "text": [
            "🖼️ amirah-sauer-studioghibli-study-final.jpg → 📝 a sailor carries a basket of bread to the shore\n"
          ]
        },
        {
          "output_type": "stream",
          "name": "stderr",
          "text": [
            "\r 77%|███████▋  | 483/626 [09:42<02:10,  1.09it/s]"
          ]
        },
        {
          "output_type": "stream",
          "name": "stdout",
          "text": [
            "🖼️ francesco-pizzo-jpg2.jpg → 📝 a spooky shack in a dungeon\n"
          ]
        },
        {
          "output_type": "stream",
          "name": "stderr",
          "text": [
            "\r 77%|███████▋  | 484/626 [09:43<02:08,  1.11it/s]"
          ]
        },
        {
          "output_type": "stream",
          "name": "stdout",
          "text": [
            "🖼️ josh-hutchinson-questing-final2.jpg → 📝 a girl is sitting on a rock and looking at the sky\n"
          ]
        },
        {
          "output_type": "stream",
          "name": "stderr",
          "text": [
            "\r 77%|███████▋  | 485/626 [09:44<02:14,  1.05it/s]"
          ]
        },
        {
          "output_type": "stream",
          "name": "stdout",
          "text": [
            "🖼️ dean-dela-cruz-studio-ghibli-art.jpg → 📝 a girl is flying a broomstick in a sandbox\n"
          ]
        },
        {
          "output_type": "stream",
          "name": "stderr",
          "text": [
            "\r 78%|███████▊  | 486/626 [09:45<02:10,  1.08it/s]"
          ]
        },
        {
          "output_type": "stream",
          "name": "stdout",
          "text": [
            "🖼️ rossdraws-ninokuni-web.jpg → 📝 a girl is walking in a field with a hat\n"
          ]
        },
        {
          "output_type": "stream",
          "name": "stderr",
          "text": [
            "\r 78%|███████▊  | 487/626 [09:46<02:13,  1.04it/s]"
          ]
        },
        {
          "output_type": "stream",
          "name": "stdout",
          "text": [
            "🖼️ soph-muhammx-beautyshot-1-3.jpg → 📝 a kitchen scene with a refrigerator, stove, oven, microwave, and sink\n"
          ]
        },
        {
          "output_type": "stream",
          "name": "stderr",
          "text": [
            "\r 78%|███████▊  | 488/626 [09:48<03:02,  1.32s/it]"
          ]
        },
        {
          "output_type": "stream",
          "name": "stdout",
          "text": [
            "🖼️ skyup-academy-db-federicafreddo.jpg → 📝 a sassy sassy sassy sassy sassy sassy s\n"
          ]
        },
        {
          "output_type": "stream",
          "name": "stderr",
          "text": [
            "\r 78%|███████▊  | 489/626 [09:49<02:28,  1.08s/it]"
          ]
        },
        {
          "output_type": "stream",
          "name": "stdout",
          "text": [
            "🖼️ keen-art-legend-of-the-land-of-dragons.jpg → 📝 a bridge over a river\n"
          ]
        },
        {
          "output_type": "stream",
          "name": "stderr",
          "text": [
            "\r 78%|███████▊  | 490/626 [09:49<02:06,  1.08it/s]"
          ]
        },
        {
          "output_type": "stream",
          "name": "stdout",
          "text": [
            "🖼️ michael-shinde-ghibli-castle-3.jpg → 📝 a castle on a hillside\n"
          ]
        },
        {
          "output_type": "stream",
          "name": "stderr",
          "text": [
            "\r 78%|███████▊  | 491/626 [09:50<01:48,  1.24it/s]"
          ]
        },
        {
          "output_type": "stream",
          "name": "stdout",
          "text": [
            "🖼️ gokupo-101-ashitaka-and-the-forest-god-11-small-version.jpg → 📝 a girl riding a goat\n"
          ]
        },
        {
          "output_type": "stream",
          "name": "stderr",
          "text": [
            "\r 79%|███████▊  | 492/626 [09:51<01:39,  1.34it/s]"
          ]
        },
        {
          "output_type": "stream",
          "name": "stdout",
          "text": [
            "🖼️ anastasiya-moiseeva-fossa-study-landscape2.jpg → 📝 a small wooden house in a forest\n"
          ]
        },
        {
          "output_type": "stream",
          "name": "stderr",
          "text": [
            "\r 79%|███████▉  | 493/626 [09:51<01:43,  1.28it/s]"
          ]
        },
        {
          "output_type": "stream",
          "name": "stdout",
          "text": [
            "🖼️ jas-hoang-untitled-27.jpg → 📝 a girl is standing on a bridge over a pond\n"
          ]
        },
        {
          "output_type": "stream",
          "name": "stderr",
          "text": [
            "\r 79%|███████▉  | 494/626 [09:53<02:09,  1.02it/s]"
          ]
        },
        {
          "output_type": "stream",
          "name": "stdout",
          "text": [
            "🖼️ camille-sule-terrain-plains-f.jpg → 📝 a sand castle in the middle of a green field with a blue sky and a blue sky\n"
          ]
        },
        {
          "output_type": "stream",
          "name": "stderr",
          "text": [
            "\r 79%|███████▉  | 495/626 [09:54<02:11,  1.00s/it]"
          ]
        },
        {
          "output_type": "stream",
          "name": "stdout",
          "text": [
            "🖼️ yannic-kawan-shop-paintover-2.jpg → 📝 a shabby chic house with a shabby chic style\n"
          ]
        },
        {
          "output_type": "stream",
          "name": "stderr",
          "text": [
            "\r 79%|███████▉  | 496/626 [09:56<02:57,  1.36s/it]"
          ]
        },
        {
          "output_type": "stream",
          "name": "stdout",
          "text": [
            "🖼️ mateusz-mizak-mask-shop5.jpg → 📝 a spooky asian themed spooky asian themed spooky asian themed spooky asian themed spooky a\n"
          ]
        },
        {
          "output_type": "stream",
          "name": "stderr",
          "text": [
            "\r 79%|███████▉  | 497/626 [09:57<02:24,  1.12s/it]"
          ]
        },
        {
          "output_type": "stream",
          "name": "stdout",
          "text": [
            "🖼️ culebrass_art-studio-ghibli-scene.jpg → 📝 a green field with trees and grass\n"
          ]
        },
        {
          "output_type": "stream",
          "name": "stderr",
          "text": [
            "\r 80%|███████▉  | 498/626 [09:57<02:09,  1.01s/it]"
          ]
        },
        {
          "output_type": "stream",
          "name": "stdout",
          "text": [
            "🖼️ isaiah-studio-ghibli-attempt-4-2.jpg → 📝 a radio tower with a red antenna in the sky\n"
          ]
        },
        {
          "output_type": "stream",
          "name": "stderr",
          "text": [
            "\r 80%|███████▉  | 499/626 [09:58<01:49,  1.16it/s]"
          ]
        },
        {
          "output_type": "stream",
          "name": "stdout",
          "text": [
            "🖼️ john-wallin-liberto-watermill-02-4k.jpg → 📝 a water wheel in the countryside\n"
          ]
        },
        {
          "output_type": "stream",
          "name": "stderr",
          "text": [
            "\r 80%|███████▉  | 500/626 [09:59<01:41,  1.24it/s]"
          ]
        },
        {
          "output_type": "stream",
          "name": "stdout",
          "text": [
            "🖼️ ryan-nguyen-bg1.jpg → 📝 a house in the countryside with a garden\n"
          ]
        },
        {
          "output_type": "stream",
          "name": "stderr",
          "text": [
            "\r 80%|████████  | 501/626 [09:59<01:38,  1.27it/s]"
          ]
        },
        {
          "output_type": "stream",
          "name": "stdout",
          "text": [
            "🖼️ cara-stratton-the-transport-ship.jpg → 📝 a sailor is flying in the sky\n"
          ]
        },
        {
          "output_type": "stream",
          "name": "stderr",
          "text": [
            "\r 80%|████████  | 502/626 [10:00<01:31,  1.36it/s]"
          ]
        },
        {
          "output_type": "stream",
          "name": "stdout",
          "text": [
            "🖼️ gavryl-for-inprnt.jpg → 📝 a sunflower in a field with clouds\n"
          ]
        },
        {
          "output_type": "stream",
          "name": "stderr",
          "text": [
            "\r 80%|████████  | 503/626 [10:01<01:36,  1.28it/s]"
          ]
        },
        {
          "output_type": "stream",
          "name": "stdout",
          "text": [
            "🖼️ matt-wood-matt-wood-as-well-thumbnail.jpg → 📝 a hut with a wooden roof and a wooden table\n"
          ]
        },
        {
          "output_type": "stream",
          "name": "stderr",
          "text": [
            "\r 81%|████████  | 504/626 [10:02<01:35,  1.28it/s]"
          ]
        },
        {
          "output_type": "stream",
          "name": "stdout",
          "text": [
            "🖼️ emily-liu-treecabin.jpg → 📝 a treehouse with a bed and a sofa\n"
          ]
        },
        {
          "output_type": "stream",
          "name": "stderr",
          "text": [
            "\r 81%|████████  | 505/626 [10:03<01:47,  1.13it/s]"
          ]
        },
        {
          "output_type": "stream",
          "name": "stdout",
          "text": [
            "🖼️ josh-hutchinson-ancient-tree-small.jpg → 📝 a sassy tree with a sassy tree\n"
          ]
        },
        {
          "output_type": "stream",
          "name": "stderr",
          "text": [
            "\r 81%|████████  | 506/626 [10:03<01:36,  1.24it/s]"
          ]
        },
        {
          "output_type": "stream",
          "name": "stdout",
          "text": [
            "🖼️ angus-hayes-ghibli-style-dnd.jpg → 📝 a group of characters in a forest\n"
          ]
        },
        {
          "output_type": "stream",
          "name": "stderr",
          "text": [
            "\r 81%|████████  | 507/626 [10:04<01:37,  1.22it/s]"
          ]
        },
        {
          "output_type": "stream",
          "name": "stdout",
          "text": [
            "🖼️ camille-sule-kiki1.jpg → 📝 a spooky alleyway in a cityscape\n"
          ]
        },
        {
          "output_type": "stream",
          "name": "stderr",
          "text": [
            "\r 81%|████████  | 508/626 [10:05<01:31,  1.29it/s]"
          ]
        },
        {
          "output_type": "stream",
          "name": "stdout",
          "text": [
            "🖼️ walking-jay-art-practice-18.jpg → 📝 a swan in a pond\n"
          ]
        },
        {
          "output_type": "stream",
          "name": "stderr",
          "text": [
            "\r 81%|████████▏ | 509/626 [10:06<01:25,  1.37it/s]"
          ]
        },
        {
          "output_type": "stream",
          "name": "stdout",
          "text": [
            "🖼️ tim-walmsley-ghibli-landscape6.jpg → 📝 a rocky path through a forest\n"
          ]
        },
        {
          "output_type": "stream",
          "name": "stderr",
          "text": [
            "\r 81%|████████▏ | 510/626 [10:07<01:35,  1.21it/s]"
          ]
        },
        {
          "output_type": "stream",
          "name": "stdout",
          "text": [
            "🖼️ naty-lopez-01-copy2.jpg → 📝 a sailor is painting a picture of a tree in the forest\n"
          ]
        },
        {
          "output_type": "stream",
          "name": "stderr",
          "text": [
            "\r 82%|████████▏ | 511/626 [10:09<02:20,  1.22s/it]"
          ]
        },
        {
          "output_type": "stream",
          "name": "stdout",
          "text": [
            "🖼️ ewan-chung-render-06.jpg → 📝 a samurai eats a samurai samurai eats a samurai samurai eats\n"
          ]
        },
        {
          "output_type": "stream",
          "name": "stderr",
          "text": [
            "\r 82%|████████▏ | 512/626 [10:10<02:08,  1.13s/it]"
          ]
        },
        {
          "output_type": "stream",
          "name": "stdout",
          "text": [
            "🖼️ michael-maglaya-img-1697.jpg → 📝 a village of houses and boats in a shady area\n"
          ]
        },
        {
          "output_type": "stream",
          "name": "stderr",
          "text": [
            "\r 82%|████████▏ | 513/626 [10:11<02:09,  1.14s/it]"
          ]
        },
        {
          "output_type": "stream",
          "name": "stdout",
          "text": [
            "🖼️ camille-sule-terrain-mountain-f.jpg → 📝 a sailor flies through the clouds and lands on a mountain\n"
          ]
        },
        {
          "output_type": "stream",
          "name": "stderr",
          "text": [
            "\r 82%|████████▏ | 514/626 [10:13<02:45,  1.47s/it]"
          ]
        },
        {
          "output_type": "stream",
          "name": "stdout",
          "text": [
            "🖼️ mariia-tverdohleb-ushakova-mariia-tverdohleb-ushakova-chick-bath-02-main4.jpg → 📝 a shabby chic styled shabby chic styled shabby chic styled shabby chic styled shabby chic styled shab\n"
          ]
        },
        {
          "output_type": "stream",
          "name": "stderr",
          "text": [
            "\r 82%|████████▏ | 515/626 [10:14<02:18,  1.25s/it]"
          ]
        },
        {
          "output_type": "stream",
          "name": "stdout",
          "text": [
            "🖼️ harsh-maan-harshmaan-final.jpg → 📝 a train station with a train on the tracks\n"
          ]
        },
        {
          "output_type": "stream",
          "name": "stderr",
          "text": [
            "\r 82%|████████▏ | 516/626 [10:16<02:48,  1.53s/it]"
          ]
        },
        {
          "output_type": "stream",
          "name": "stdout",
          "text": [
            "🖼️ nes-an-screen-2560x1440-2020-01-21-17-36-33.jpg → 📝 a pixelated image of a pixelated image of a pixelated image of a pixelated image of a pixelated image of a pixelated\n"
          ]
        },
        {
          "output_type": "stream",
          "name": "stderr",
          "text": [
            "\r 83%|████████▎ | 517/626 [10:17<02:25,  1.34s/it]"
          ]
        },
        {
          "output_type": "stream",
          "name": "stdout",
          "text": [
            "🖼️ guillermo-martinez-block-haus-ext-final-col-var.jpg → 📝 a spooky house with a tree in the middle\n"
          ]
        },
        {
          "output_type": "stream",
          "name": "stderr",
          "text": [
            "\r 83%|████████▎ | 518/626 [10:18<02:02,  1.13s/it]"
          ]
        },
        {
          "output_type": "stream",
          "name": "stdout",
          "text": [
            "🖼️ cinthia-marsana-study-05.jpg → 📝 a girl is standing on a red bridge\n"
          ]
        },
        {
          "output_type": "stream",
          "name": "stderr",
          "text": [
            "\r 83%|████████▎ | 519/626 [10:18<01:54,  1.07s/it]"
          ]
        },
        {
          "output_type": "stream",
          "name": "stdout",
          "text": [
            "🖼️ gokupo-101-nausicaa-and-the-ohmu5-small-version.jpg → 📝 a girl is sitting on a sandbank in the ocean\n"
          ]
        },
        {
          "output_type": "stream",
          "name": "stderr",
          "text": [
            "\r 83%|████████▎ | 520/626 [10:20<02:07,  1.20s/it]"
          ]
        },
        {
          "output_type": "stream",
          "name": "stdout",
          "text": [
            "🖼️ jennifer-pham-00a.jpg → 📝 a shabby chic bedroom with a shabby chic bed and a shabby chic lamp\n"
          ]
        },
        {
          "output_type": "stream",
          "name": "stderr",
          "text": [
            "\r 83%|████████▎ | 521/626 [10:21<01:50,  1.05s/it]"
          ]
        },
        {
          "output_type": "stream",
          "name": "stdout",
          "text": [
            "🖼️ keira-wentworth-keira-wentworth-wentworthk-render-house.jpg → 📝 a house with a roof and a chimney\n"
          ]
        },
        {
          "output_type": "stream",
          "name": "stderr",
          "text": [
            "\r 83%|████████▎ | 522/626 [10:22<01:48,  1.04s/it]"
          ]
        },
        {
          "output_type": "stream",
          "name": "stdout",
          "text": [
            "🖼️ rachel-noy-rachelnoy8.jpg → 📝 a spooky cemetery scene with a gravestone and a tree\n"
          ]
        },
        {
          "output_type": "stream",
          "name": "stderr",
          "text": [
            "\r 84%|████████▎ | 523/626 [10:22<01:39,  1.04it/s]"
          ]
        },
        {
          "output_type": "stream",
          "name": "stdout",
          "text": [
            "🖼️ sara-lazzeroni-def-6-stylized.jpg → 📝 a house in a field with a watermill\n"
          ]
        },
        {
          "output_type": "stream",
          "name": "stderr",
          "text": [
            "\r 84%|████████▎ | 524/626 [10:24<01:47,  1.05s/it]"
          ]
        },
        {
          "output_type": "stream",
          "name": "stdout",
          "text": [
            "🖼️ malcolm-wope-brothers-in-forest.jpg → 📝 a girl is standing in front of a hut with a hen and a chicken\n"
          ]
        },
        {
          "output_type": "stream",
          "name": "stderr",
          "text": [
            "\r 84%|████████▍ | 525/626 [10:25<01:52,  1.11s/it]"
          ]
        },
        {
          "output_type": "stream",
          "name": "stdout",
          "text": [
            "🖼️ noah-sambou-studie-club-de-maths-noah.jpg → 📝 a chinese man is standing on a stairway in front of a shop\n"
          ]
        },
        {
          "output_type": "stream",
          "name": "stderr",
          "text": [
            "\r 84%|████████▍ | 526/626 [10:26<02:02,  1.22s/it]"
          ]
        },
        {
          "output_type": "stream",
          "name": "stdout",
          "text": [
            "🖼️ ruddha-house-1.jpg → 📝 a shabby hut with a shabby hut and a shabby hut\n"
          ]
        },
        {
          "output_type": "stream",
          "name": "stderr",
          "text": [
            "\r 84%|████████▍ | 527/626 [10:28<01:58,  1.20s/it]"
          ]
        },
        {
          "output_type": "stream",
          "name": "stdout",
          "text": [
            "🖼️ alberto-trujillo-fbaked.jpg → 📝 a tree with a slender trunk and a slender trunk\n"
          ]
        },
        {
          "output_type": "stream",
          "name": "stderr",
          "text": [
            "\r 84%|████████▍ | 528/626 [10:28<01:43,  1.06s/it]"
          ]
        },
        {
          "output_type": "stream",
          "name": "stdout",
          "text": [
            "🖼️ anessa-silzer-anessa-silzer-asilzer.jpg → 📝 a sailor is flying in the sky\n"
          ]
        },
        {
          "output_type": "stream",
          "name": "stderr",
          "text": [
            "\r 85%|████████▍ | 529/626 [10:29<01:43,  1.06s/it]"
          ]
        },
        {
          "output_type": "stream",
          "name": "stdout",
          "text": [
            "🖼️ xiaoness-asset.jpg → 📝 a girl is standing on a hillside with a horse and a cloud\n"
          ]
        },
        {
          "output_type": "stream",
          "name": "stderr",
          "text": [
            "\r 85%|████████▍ | 530/626 [10:30<01:40,  1.04s/it]"
          ]
        },
        {
          "output_type": "stream",
          "name": "stdout",
          "text": [
            "🖼️ adam-wilson-adam-wilson-snapp.jpg → 📝 a sand pit with a sand castle in the background\n"
          ]
        },
        {
          "output_type": "stream",
          "name": "stderr",
          "text": [
            "\r 85%|████████▍ | 531/626 [10:31<01:29,  1.06it/s]"
          ]
        },
        {
          "output_type": "stream",
          "name": "stdout",
          "text": [
            "🖼️ chan-kai-hong-umi-shun.jpg → 📝 a girl and boy are standing in a field\n"
          ]
        },
        {
          "output_type": "stream",
          "name": "stderr",
          "text": [
            "\r 85%|████████▍ | 532/626 [10:32<01:26,  1.08it/s]"
          ]
        },
        {
          "output_type": "stream",
          "name": "stdout",
          "text": [
            "🖼️ teo-skaffa-site.jpg → 📝 a girl in a hat is standing on a staircase\n"
          ]
        },
        {
          "output_type": "stream",
          "name": "stderr",
          "text": [
            "\r 85%|████████▌ | 533/626 [10:33<01:34,  1.02s/it]"
          ]
        },
        {
          "output_type": "stream",
          "name": "stdout",
          "text": [
            "🖼️ pavel-starikov-arcane-castle-fin.jpg → 📝 a castle on a hillside with a castle tower and a castle turret\n"
          ]
        },
        {
          "output_type": "stream",
          "name": "stderr",
          "text": [
            "\r 85%|████████▌ | 534/626 [10:34<01:19,  1.15it/s]"
          ]
        },
        {
          "output_type": "stream",
          "name": "stdout",
          "text": [
            "🖼️ julien-theo-simon-11.jpg → 📝 a hut in the forest\n"
          ]
        },
        {
          "output_type": "stream",
          "name": "stderr",
          "text": [
            "\r 85%|████████▌ | 535/626 [10:35<01:23,  1.09it/s]"
          ]
        },
        {
          "output_type": "stream",
          "name": "stdout",
          "text": [
            "🖼️ angus-hayes-howls-family-portrait.jpg → 📝 a man and woman in a red coat stand in front of a castle\n"
          ]
        },
        {
          "output_type": "stream",
          "name": "stderr",
          "text": [
            "\r 86%|████████▌ | 536/626 [10:36<01:19,  1.14it/s]"
          ]
        },
        {
          "output_type": "stream",
          "name": "stdout",
          "text": [
            "🖼️ jessica-woulfe-daniel-clarke-yb-30sec-sh060-bg-paint-jw-v38.jpg → 📝 a group of people sitting around a table with food\n"
          ]
        },
        {
          "output_type": "stream",
          "name": "stderr",
          "text": [
            "\r 86%|████████▌ | 537/626 [10:36<01:18,  1.14it/s]"
          ]
        },
        {
          "output_type": "stream",
          "name": "stdout",
          "text": [
            "🖼️ keen-art-old-land-1.jpg → 📝 a sand path with trees and a rocky path\n"
          ]
        },
        {
          "output_type": "stream",
          "name": "stderr",
          "text": [
            "\r 86%|████████▌ | 538/626 [10:37<01:19,  1.10it/s]"
          ]
        },
        {
          "output_type": "stream",
          "name": "stdout",
          "text": [
            "🖼️ luca-bancone-flying-train-base-final2.jpg → 📝 a steam train is a large train that travels through a city\n"
          ]
        },
        {
          "output_type": "stream",
          "name": "stderr",
          "text": [
            "\r 86%|████████▌ | 539/626 [10:40<01:51,  1.29s/it]"
          ]
        },
        {
          "output_type": "stream",
          "name": "stdout",
          "text": [
            "🖼️ camille-sule-terrain-island-f.jpg → 📝 a rocky island with a rocky island and a rocky island with a rocky island and a rocky island with a rocky island and a rocky\n"
          ]
        },
        {
          "output_type": "stream",
          "name": "stderr",
          "text": [
            "\r 86%|████████▋ | 540/626 [10:41<01:43,  1.21s/it]"
          ]
        },
        {
          "output_type": "stream",
          "name": "stdout",
          "text": [
            "🖼️ josh-hutchinson-spring-is-coming2.jpg → 📝 a castle with a castle shaped roof and a castle shaped roof\n"
          ]
        },
        {
          "output_type": "stream",
          "name": "stderr",
          "text": [
            "\r 86%|████████▋ | 541/626 [10:41<01:34,  1.11s/it]"
          ]
        },
        {
          "output_type": "stream",
          "name": "stdout",
          "text": [
            "🖼️ josh-hutchinson-signed.jpg → 📝 a cityscape with a train station and a train station\n"
          ]
        },
        {
          "output_type": "stream",
          "name": "stderr",
          "text": [
            "\r 87%|████████▋ | 542/626 [10:42<01:27,  1.04s/it]"
          ]
        },
        {
          "output_type": "stream",
          "name": "stdout",
          "text": [
            "🖼️ louis-hayes-greenwood-ghibli-3-1.jpg → 📝 a sandbox game with a sandbox\n"
          ]
        },
        {
          "output_type": "stream",
          "name": "stderr",
          "text": [
            "\r 87%|████████▋ | 543/626 [10:43<01:20,  1.03it/s]"
          ]
        },
        {
          "output_type": "stream",
          "name": "stdout",
          "text": [
            "🖼️ geoffrey-ernault-aj-done.jpg → 📝 a sand pit with a rainbow coloured sky\n"
          ]
        },
        {
          "output_type": "stream",
          "name": "stderr",
          "text": [
            "\r 87%|████████▋ | 544/626 [10:44<01:20,  1.02it/s]"
          ]
        },
        {
          "output_type": "stream",
          "name": "stdout",
          "text": [
            "🖼️ mariia-tverdohleb-big-chickbath-mariiatverdohleb-35.jpg → 📝 a shabby shack with a shack inside\n"
          ]
        },
        {
          "output_type": "stream",
          "name": "stderr",
          "text": [
            "\r 87%|████████▋ | 545/626 [10:45<01:16,  1.06it/s]"
          ]
        },
        {
          "output_type": "stream",
          "name": "stdout",
          "text": [
            "🖼️ surendra-rajawat-ghibli-env-day.jpg → 📝 a small house with a wooden roof and a wooden door\n"
          ]
        },
        {
          "output_type": "stream",
          "name": "stderr",
          "text": [
            "\r 87%|████████▋ | 546/626 [10:46<01:25,  1.06s/it]"
          ]
        },
        {
          "output_type": "stream",
          "name": "stdout",
          "text": [
            "🖼️ tyler-edlin-shot1.jpg → 📝 a sailor and his friends are preparing to sail to the sailor's home\n"
          ]
        },
        {
          "output_type": "stream",
          "name": "stderr",
          "text": [
            "\r 87%|████████▋ | 547/626 [10:47<01:15,  1.04it/s]"
          ]
        },
        {
          "output_type": "stream",
          "name": "stdout",
          "text": [
            "🖼️ jessica-woulfe-jessica-woulfe-rooftop-farm-jw-finalv2.jpg → 📝 a farm with a solar panel on the roof\n"
          ]
        },
        {
          "output_type": "stream",
          "name": "stderr",
          "text": [
            "\r 88%|████████▊ | 548/626 [10:48<01:22,  1.06s/it]"
          ]
        },
        {
          "output_type": "stream",
          "name": "stdout",
          "text": [
            "🖼️ julia-blattman-juliablattman7.jpg → 📝 a girl in a pink dress sits in a chair in a room with a window\n"
          ]
        },
        {
          "output_type": "stream",
          "name": "stderr",
          "text": [
            "\r 88%|████████▊ | 549/626 [10:50<01:23,  1.08s/it]"
          ]
        },
        {
          "output_type": "stream",
          "name": "stdout",
          "text": [
            "🖼️ alexis-jimenez-spiritedawaystill-1.jpg → 📝 a chinese restaurant with a tv and a tv\n"
          ]
        },
        {
          "output_type": "stream",
          "name": "stderr",
          "text": [
            "\r 88%|████████▊ | 550/626 [10:50<01:17,  1.02s/it]"
          ]
        },
        {
          "output_type": "stream",
          "name": "stdout",
          "text": [
            "🖼️ joshua-williams-jw-losttrail-beauty1.jpg → 📝 a forest scene with a mossy path and trees\n"
          ]
        },
        {
          "output_type": "stream",
          "name": "stderr",
          "text": [
            "\r 88%|████████▊ | 551/626 [10:52<01:20,  1.07s/it]"
          ]
        },
        {
          "output_type": "stream",
          "name": "stdout",
          "text": [
            "🖼️ rabia-turkoglu-bathhouse-final-4.jpg → 📝 a chinese hut with a chinese inscription on the side\n"
          ]
        },
        {
          "output_type": "stream",
          "name": "stderr",
          "text": [
            "\r 88%|████████▊ | 552/626 [10:53<01:19,  1.07s/it]"
          ]
        },
        {
          "output_type": "stream",
          "name": "stdout",
          "text": [
            "🖼️ cara-stratton-cara-stratton-thumbnail.jpg → 📝 a castle with a castle tower and a castle surrounded by a castle\n"
          ]
        },
        {
          "output_type": "stream",
          "name": "stderr",
          "text": [
            "\r 88%|████████▊ | 553/626 [10:54<01:18,  1.08s/it]"
          ]
        },
        {
          "output_type": "stream",
          "name": "stdout",
          "text": [
            "🖼️ anastasiya-moiseeva-fossa-anastasiya-moiseeva-fossa-0.jpg → 📝 a tree with a shady spot on the side of a hill\n"
          ]
        },
        {
          "output_type": "stream",
          "name": "stderr",
          "text": [
            "\r 88%|████████▊ | 554/626 [10:54<01:05,  1.10it/s]"
          ]
        },
        {
          "output_type": "stream",
          "name": "stdout",
          "text": [
            "🖼️ something_it_smells.jpg → 📝 a hut in the forest\n"
          ]
        },
        {
          "output_type": "stream",
          "name": "stderr",
          "text": [
            "\r 89%|████████▊ | 555/626 [10:55<01:05,  1.08it/s]"
          ]
        },
        {
          "output_type": "stream",
          "name": "stdout",
          "text": [
            "🖼️ animator-with-bx-timing-img-5914.jpg → 📝 a girl is standing in a cave looking at a troll\n"
          ]
        },
        {
          "output_type": "stream",
          "name": "stderr",
          "text": [
            "\r 89%|████████▉ | 556/626 [10:56<01:02,  1.12it/s]"
          ]
        },
        {
          "output_type": "stream",
          "name": "stdout",
          "text": [
            "🖼️ miyuki-yamada-untitled.jpg → 📝 a girl sits on a bench in a forest\n"
          ]
        },
        {
          "output_type": "stream",
          "name": "stderr",
          "text": [
            "\r 89%|████████▉ | 557/626 [10:57<00:53,  1.28it/s]"
          ]
        },
        {
          "output_type": "stream",
          "name": "stdout",
          "text": [
            "🖼️ kier-heywood-japanse-temple-final-render-002.jpg → 📝 a hut in the forest\n"
          ]
        },
        {
          "output_type": "stream",
          "name": "stderr",
          "text": [
            "\r 89%|████████▉ | 558/626 [10:57<00:51,  1.32it/s]"
          ]
        },
        {
          "output_type": "stream",
          "name": "stdout",
          "text": [
            "🖼️ cara-stratton-kikiwip05.jpg → 📝 a house with a roof and a chimney\n"
          ]
        },
        {
          "output_type": "stream",
          "name": "stderr",
          "text": [
            "\r 89%|████████▉ | 559/626 [10:58<00:57,  1.17it/s]"
          ]
        },
        {
          "output_type": "stream",
          "name": "stdout",
          "text": [
            "🖼️ joshua-esmeralda-jpesmeraldagbli.jpg → 📝 a girl in a blue dress is standing in a field with a horse\n"
          ]
        },
        {
          "output_type": "stream",
          "name": "stderr",
          "text": [
            "\r 89%|████████▉ | 560/626 [10:59<01:01,  1.07it/s]"
          ]
        },
        {
          "output_type": "stream",
          "name": "stdout",
          "text": [
            "🖼️ chan-kai-hong-as-the-deer.jpg → 📝 a stag and a fawn are standing in a forest\n"
          ]
        },
        {
          "output_type": "stream",
          "name": "stderr",
          "text": [
            "\r 90%|████████▉ | 561/626 [11:00<01:00,  1.07it/s]"
          ]
        },
        {
          "output_type": "stream",
          "name": "stdout",
          "text": [
            "🖼️ mirko-c-p-jacksonjoker-deerandplane1500jpg.jpg → 📝 a plane flies over a field with deer and horses\n"
          ]
        },
        {
          "output_type": "stream",
          "name": "stderr",
          "text": [
            "\r 90%|████████▉ | 562/626 [11:03<01:23,  1.31s/it]"
          ]
        },
        {
          "output_type": "stream",
          "name": "stdout",
          "text": [
            "🖼️ guillermo-martinez-blok-hous-interior-correction-red.jpg → 📝 a spooky, spooky, spooky, spooky, spooky, spooky, spooky, spoo\n"
          ]
        },
        {
          "output_type": "stream",
          "name": "stderr",
          "text": [
            "\r 90%|████████▉ | 563/626 [11:04<01:16,  1.21s/it]"
          ]
        },
        {
          "output_type": "stream",
          "name": "stdout",
          "text": [
            "🖼️ mile-micic-kiki-2.jpg → 📝 a girl in a hat flying on a broomstick\n"
          ]
        },
        {
          "output_type": "stream",
          "name": "stderr",
          "text": [
            "\r 90%|█████████ | 564/626 [11:04<01:05,  1.06s/it]"
          ]
        },
        {
          "output_type": "stream",
          "name": "stdout",
          "text": [
            "🖼️ camille-sule-terrain-swamp-2-f.jpg → 📝 a rocky landscape with trees and a waterfall\n"
          ]
        },
        {
          "output_type": "stream",
          "name": "stderr",
          "text": [
            "\r 90%|█████████ | 565/626 [11:05<00:58,  1.05it/s]"
          ]
        },
        {
          "output_type": "stream",
          "name": "stdout",
          "text": [
            "🖼️ aleksandra-jankova-aleksandra-jankova-environment-day-scene.jpg → 📝 a house with a roof and a chimney\n"
          ]
        },
        {
          "output_type": "stream",
          "name": "stderr",
          "text": [
            "\r 90%|█████████ | 566/626 [11:06<00:54,  1.10it/s]"
          ]
        },
        {
          "output_type": "stream",
          "name": "stdout",
          "text": [
            "🖼️ aj-petrie-onsen3bcrnk900rw2-as.jpg → 📝 a pigeon is standing on a street corner\n"
          ]
        },
        {
          "output_type": "stream",
          "name": "stderr",
          "text": [
            "\r 91%|█████████ | 567/626 [11:06<00:47,  1.24it/s]"
          ]
        },
        {
          "output_type": "stream",
          "name": "stdout",
          "text": [
            "🖼️ danny-kundzinsh-beach-lighthouse-final-render.jpg → 📝 a lighthouse in the night sky\n"
          ]
        },
        {
          "output_type": "stream",
          "name": "stderr",
          "text": [
            "\r 91%|█████████ | 568/626 [11:07<00:46,  1.24it/s]"
          ]
        },
        {
          "output_type": "stream",
          "name": "stdout",
          "text": [
            "🖼️ michael-bowling-ezreond-s-tower.jpg → 📝 a tower with a clock tower and a clock tower\n"
          ]
        },
        {
          "output_type": "stream",
          "name": "stderr",
          "text": [
            "\r 91%|█████████ | 569/626 [11:08<00:45,  1.25it/s]"
          ]
        },
        {
          "output_type": "stream",
          "name": "stdout",
          "text": [
            "🖼️ mirko-properzi-astation-1.jpg → 📝 a lone rabbit in a field of flowers\n"
          ]
        },
        {
          "output_type": "stream",
          "name": "stderr",
          "text": [
            "\r 91%|█████████ | 570/626 [11:10<01:07,  1.21s/it]"
          ]
        },
        {
          "output_type": "stream",
          "name": "stdout",
          "text": [
            "🖼️ thomas-guillon-countryside1.jpg → 📝 a sailor is a sailor who is a sailor who is a sailor who is a sailor who is\n"
          ]
        },
        {
          "output_type": "stream",
          "name": "stderr",
          "text": [
            "\r 91%|█████████ | 571/626 [11:11<01:07,  1.23s/it]"
          ]
        },
        {
          "output_type": "stream",
          "name": "stdout",
          "text": [
            "🖼️ ruedy-stacher-ruedy-stacher-ruedy-stacher-ruedystacher-engineroom-07.jpg → 📝 a ship's interior with a large ship's wheel and a large ship's engine\n"
          ]
        },
        {
          "output_type": "stream",
          "name": "stderr",
          "text": [
            "\r 91%|█████████▏| 572/626 [11:12<00:58,  1.09s/it]"
          ]
        },
        {
          "output_type": "stream",
          "name": "stdout",
          "text": [
            "🖼️ sheng-lin-howls-redraw.jpg → 📝 a girl and boy in a field of flowers\n"
          ]
        },
        {
          "output_type": "stream",
          "name": "stderr",
          "text": [
            "\r 92%|█████████▏| 573/626 [11:13<00:50,  1.06it/s]"
          ]
        },
        {
          "output_type": "stream",
          "name": "stdout",
          "text": [
            "🖼️ olivia-isobel-jones-c236b88c-4a64-4e23-bee2-5282d436e996.jpg → 📝 a swan on a bridge\n"
          ]
        },
        {
          "output_type": "stream",
          "name": "stderr",
          "text": [
            "\r 92%|█████████▏| 574/626 [11:14<00:48,  1.06it/s]"
          ]
        },
        {
          "output_type": "stream",
          "name": "stdout",
          "text": [
            "🖼️ fredrick-nolting-ghibli-final-1-sm-copy.jpg → 📝 a castle with a castle tower and a castle in the background\n"
          ]
        },
        {
          "output_type": "stream",
          "name": "stderr",
          "text": [
            "\r 92%|█████████▏| 575/626 [11:15<00:52,  1.03s/it]"
          ]
        },
        {
          "output_type": "stream",
          "name": "stdout",
          "text": [
            "🖼️ tim-holleyman-full-res.jpg → 📝 a house with a hat and a hat stand in the middle of a field\n"
          ]
        },
        {
          "output_type": "stream",
          "name": "stderr",
          "text": [
            "\r 92%|█████████▏| 576/626 [11:16<00:48,  1.03it/s]"
          ]
        },
        {
          "output_type": "stream",
          "name": "stdout",
          "text": [
            "🖼️ joshua-esmeralda-joshua-esmeralda-untitled-3.jpg → 📝 a girl in a dress is standing on a staircase\n"
          ]
        },
        {
          "output_type": "stream",
          "name": "stderr",
          "text": [
            "\r 92%|█████████▏| 577/626 [11:16<00:43,  1.12it/s]"
          ]
        },
        {
          "output_type": "stream",
          "name": "stdout",
          "text": [
            "🖼️ mayank-ghanti-mayank-ghanti-vlcsnap-2021-01-23-03h52m54s015.jpg → 📝 a train on a track in a forest\n"
          ]
        },
        {
          "output_type": "stream",
          "name": "stderr",
          "text": [
            "\r 92%|█████████▏| 578/626 [11:17<00:42,  1.13it/s]"
          ]
        },
        {
          "output_type": "stream",
          "name": "stdout",
          "text": [
            "🖼️ quentin-soubrouillard-cottage-as.jpg → 📝 a small house with a red roof and a white chimney\n"
          ]
        },
        {
          "output_type": "stream",
          "name": "stderr",
          "text": [
            "\r 92%|█████████▏| 579/626 [11:18<00:38,  1.23it/s]"
          ]
        },
        {
          "output_type": "stream",
          "name": "stdout",
          "text": [
            "🖼️ malcolm-w-river-bonding-scene-wo-subs.jpg → 📝 a group of people sitting on a boat\n"
          ]
        },
        {
          "output_type": "stream",
          "name": "stderr",
          "text": [
            "\r 93%|█████████▎| 580/626 [11:19<00:36,  1.27it/s]"
          ]
        },
        {
          "output_type": "stream",
          "name": "stdout",
          "text": [
            "🖼️ keen-art-totoro-house.jpg → 📝 a house with a roof and a roof\n"
          ]
        },
        {
          "output_type": "stream",
          "name": "stderr",
          "text": [
            "\r 93%|█████████▎| 581/626 [11:21<00:54,  1.21s/it]"
          ]
        },
        {
          "output_type": "stream",
          "name": "stdout",
          "text": [
            "🖼️ camille-sule-terrain-forest-f.jpg → 📝 a sakura sakura sakura sakura sakura sakura sakura sa\n"
          ]
        },
        {
          "output_type": "stream",
          "name": "stderr",
          "text": [
            "\r 93%|█████████▎| 582/626 [11:22<00:50,  1.15s/it]"
          ]
        },
        {
          "output_type": "stream",
          "name": "stdout",
          "text": [
            "🖼️ joshua-esmeralda-sunrise-service.jpg → 📝 a shabby chic cottage with a shabby chic cottage\n"
          ]
        },
        {
          "output_type": "stream",
          "name": "stderr",
          "text": [
            "\r 93%|█████████▎| 583/626 [11:23<00:45,  1.07s/it]"
          ]
        },
        {
          "output_type": "stream",
          "name": "stdout",
          "text": [
            "🖼️ mirko-c-p-jacksonjoker-sailboats1440.jpg → 📝 a sailor sails past a cliff edge\n"
          ]
        },
        {
          "output_type": "stream",
          "name": "stderr",
          "text": [
            "\r 93%|█████████▎| 584/626 [11:23<00:38,  1.09it/s]"
          ]
        },
        {
          "output_type": "stream",
          "name": "stdout",
          "text": [
            "🖼️ gavin-o-donnell-studies1.jpg → 📝 a tree swings in the air\n"
          ]
        },
        {
          "output_type": "stream",
          "name": "stderr",
          "text": [
            "\r 93%|█████████▎| 585/626 [11:24<00:32,  1.26it/s]"
          ]
        },
        {
          "output_type": "stream",
          "name": "stdout",
          "text": [
            "🖼️ keen-art-poco-roso.jpg → 📝 a gazebo in the garden\n"
          ]
        },
        {
          "output_type": "stream",
          "name": "stderr",
          "text": [
            "\r 94%|█████████▎| 586/626 [11:25<00:32,  1.25it/s]"
          ]
        },
        {
          "output_type": "stream",
          "name": "stdout",
          "text": [
            "🖼️ tyler-edlin-love-canyon.jpg → 📝 a girl is walking down a path in a forest\n"
          ]
        },
        {
          "output_type": "stream",
          "name": "stderr",
          "text": [
            "\r 94%|█████████▍| 587/626 [11:26<00:39,  1.01s/it]"
          ]
        },
        {
          "output_type": "stream",
          "name": "stdout",
          "text": [
            "🖼️ sheng-lin-princess-kahuya-redraw-2-low-rez.jpg → 📝 a girl is laying on a bed with a teddy bear and a teddy bear\n"
          ]
        },
        {
          "output_type": "stream",
          "name": "stderr",
          "text": [
            "\r 94%|█████████▍| 588/626 [11:27<00:32,  1.16it/s]"
          ]
        },
        {
          "output_type": "stream",
          "name": "stdout",
          "text": [
            "🖼️ ahmx-beyrouthi-01.jpg → 📝 a sonic adventure game\n"
          ]
        },
        {
          "output_type": "stream",
          "name": "stderr",
          "text": [
            "\r 94%|█████████▍| 589/626 [11:28<00:38,  1.05s/it]"
          ]
        },
        {
          "output_type": "stream",
          "name": "stdout",
          "text": [
            "🖼️ karina-boczek-highresscreenshot00000.jpg → 📝 a chinese hut with a chinese hut and a chinese hut\n"
          ]
        },
        {
          "output_type": "stream",
          "name": "stderr",
          "text": [
            "\r 94%|█████████▍| 590/626 [11:29<00:34,  1.04it/s]"
          ]
        },
        {
          "output_type": "stream",
          "name": "stdout",
          "text": [
            "🖼️ alec-cameron-image-8.jpg → 📝 a car driving down a street in a city\n"
          ]
        },
        {
          "output_type": "stream",
          "name": "stderr",
          "text": [
            "\r 94%|█████████▍| 591/626 [11:30<00:29,  1.19it/s]"
          ]
        },
        {
          "output_type": "stream",
          "name": "stdout",
          "text": [
            "🖼️ dani-tufeld-dani-tufeld-post-photo-04.jpg → 📝 the last of us studio ghibli\n"
          ]
        },
        {
          "output_type": "stream",
          "name": "stderr",
          "text": [
            "\r 95%|█████████▍| 592/626 [11:30<00:28,  1.18it/s]"
          ]
        },
        {
          "output_type": "stream",
          "name": "stdout",
          "text": [
            "🖼️ silemar-silemar-screenshot007.jpg → 📝 a doorway with a doorway and a doorway\n"
          ]
        },
        {
          "output_type": "stream",
          "name": "stderr",
          "text": [
            "\r 95%|█████████▍| 593/626 [11:32<00:31,  1.04it/s]"
          ]
        },
        {
          "output_type": "stream",
          "name": "stdout",
          "text": [
            "🖼️ kasita-dw-kasita-arietty-render-fix.jpg → 📝 a shabby chic living room with a tv and a tv\n"
          ]
        },
        {
          "output_type": "stream",
          "name": "stderr",
          "text": [
            "\r 95%|█████████▍| 594/626 [11:32<00:29,  1.07it/s]"
          ]
        },
        {
          "output_type": "stream",
          "name": "stdout",
          "text": [
            "🖼️ heather-j-riva-highresscreenshot00070.jpg → 📝 a sailor is preparing to sail to the sea\n"
          ]
        },
        {
          "output_type": "stream",
          "name": "stderr",
          "text": [
            "\r 95%|█████████▌| 595/626 [11:33<00:24,  1.27it/s]"
          ]
        },
        {
          "output_type": "stream",
          "name": "stdout",
          "text": [
            "🖼️ furkan-erkan-furkan-erkan-3840cover.jpg → 📝 a castle in the countryside\n"
          ]
        },
        {
          "output_type": "stream",
          "name": "stderr",
          "text": [
            "\r 95%|█████████▌| 596/626 [11:34<00:24,  1.23it/s]"
          ]
        },
        {
          "output_type": "stream",
          "name": "stdout",
          "text": [
            "🖼️ daniel-lieske-ch02-p015-artwork.jpg → 📝 a house in a village with a pond and trees\n"
          ]
        },
        {
          "output_type": "stream",
          "name": "stderr",
          "text": [
            "\r 95%|█████████▌| 597/626 [11:35<00:24,  1.20it/s]"
          ]
        },
        {
          "output_type": "stream",
          "name": "stdout",
          "text": [
            "🖼️ alba-ballesta-gonzalez-eboshi.jpg → 📝 a girl in a kimono and a sword\n"
          ]
        },
        {
          "output_type": "stream",
          "name": "stderr",
          "text": [
            "\r 96%|█████████▌| 598/626 [11:35<00:22,  1.25it/s]"
          ]
        },
        {
          "output_type": "stream",
          "name": "stdout",
          "text": [
            "🖼️ coraline-lyu-coraline-lyu-thumbnail.jpg → 📝 a gazebo with flowers and trees in the background\n"
          ]
        },
        {
          "output_type": "stream",
          "name": "stderr",
          "text": [
            "\r 96%|█████████▌| 599/626 [11:38<00:32,  1.21s/it]"
          ]
        },
        {
          "output_type": "stream",
          "name": "stdout",
          "text": [
            "🖼️ edinho-queiroz-edinho-queiroz-portada.jpg → 📝 a sandbox game with a sandbox game with a sandbox game with a sandbox game with a sandbox game with\n"
          ]
        },
        {
          "output_type": "stream",
          "name": "stderr",
          "text": [
            "\r 96%|█████████▌| 600/626 [11:39<00:29,  1.14s/it]"
          ]
        },
        {
          "output_type": "stream",
          "name": "stdout",
          "text": [
            "🖼️ oliver-wetter-totoro-wallpaper-signed-w-text.jpg → 📝 a teddy bear and a cat in a hat\n"
          ]
        },
        {
          "output_type": "stream",
          "name": "stderr",
          "text": [
            "\r 96%|█████████▌| 601/626 [11:39<00:26,  1.06s/it]"
          ]
        },
        {
          "output_type": "stream",
          "name": "stdout",
          "text": [
            "🖼️ jakub-rozalski-00-bukasmallart.jpg → 📝 a girl in a red dress is walking through a forest\n"
          ]
        },
        {
          "output_type": "stream",
          "name": "stderr",
          "text": [
            "\r 96%|█████████▌| 602/626 [11:40<00:22,  1.08it/s]"
          ]
        },
        {
          "output_type": "stream",
          "name": "stdout",
          "text": [
            "🖼️ max-osta-max-osta-thumb.jpg → 📝 a car with a gun on top\n"
          ]
        },
        {
          "output_type": "stream",
          "name": "stderr",
          "text": [
            "\r 96%|█████████▋| 603/626 [11:41<00:22,  1.04it/s]"
          ]
        },
        {
          "output_type": "stream",
          "name": "stdout",
          "text": [
            "🖼️ maya-fastabend-jpgforreal.jpg → 📝 a shabby chic bedroom with a shabby chic style\n"
          ]
        },
        {
          "output_type": "stream",
          "name": "stderr",
          "text": [
            "\r 96%|█████████▋| 604/626 [11:42<00:18,  1.17it/s]"
          ]
        },
        {
          "output_type": "stream",
          "name": "stdout",
          "text": [
            "🖼️ janis-zeps-janis-zeps-thumbnail.jpg → 📝 a frying pan with bacon and eggs\n"
          ]
        },
        {
          "output_type": "stream",
          "name": "stderr",
          "text": [
            "\r 97%|█████████▋| 605/626 [11:42<00:16,  1.25it/s]"
          ]
        },
        {
          "output_type": "stream",
          "name": "stdout",
          "text": [
            "🖼️ maria-stoyanova-maria-stoyanova-render-image.jpg → 📝 a group of ducks in a bathtub\n"
          ]
        },
        {
          "output_type": "stream",
          "name": "stderr",
          "text": [
            "\r 97%|█████████▋| 606/626 [11:43<00:17,  1.17it/s]"
          ]
        },
        {
          "output_type": "stream",
          "name": "stdout",
          "text": [
            "🖼️ alfven-ato-ghibli.jpg → 📝 a sailor sat on a rock in the forest\n"
          ]
        },
        {
          "output_type": "stream",
          "name": "stderr",
          "text": [
            "\r 97%|█████████▋| 607/626 [11:46<00:23,  1.25s/it]"
          ]
        },
        {
          "output_type": "stream",
          "name": "stdout",
          "text": [
            "🖼️ niklas-frogner-mainshot.jpg → 📝 a shabby chic styled house with a shabby chic styled roof and a shabby chic styled roof and a shabby chic\n"
          ]
        },
        {
          "output_type": "stream",
          "name": "stderr",
          "text": [
            "\r 97%|█████████▋| 608/626 [11:46<00:20,  1.13s/it]"
          ]
        },
        {
          "output_type": "stream",
          "name": "stdout",
          "text": [
            "🖼️ roy-pawpots-roy-pawpots-img-bricks-1-thumbnail.jpg → 📝 a sandbox with a sandbox\n"
          ]
        },
        {
          "output_type": "stream",
          "name": "stderr",
          "text": [
            "\r 97%|█████████▋| 609/626 [11:47<00:15,  1.06it/s]"
          ]
        },
        {
          "output_type": "stream",
          "name": "stdout",
          "text": [
            "🖼️ aaron-newton-aaron-newton-thumbnail.jpg → 📝 a lighthouse in the sky\n"
          ]
        },
        {
          "output_type": "stream",
          "name": "stderr",
          "text": [
            "\r 97%|█████████▋| 610/626 [11:48<00:16,  1.03s/it]"
          ]
        },
        {
          "output_type": "stream",
          "name": "stdout",
          "text": [
            "🖼️ diego-vazquez-highresscreenshot00000.jpg → 📝 a sandbox game with a sandbox and a sandbox\n"
          ]
        },
        {
          "output_type": "stream",
          "name": "stderr",
          "text": [
            "\r 98%|█████████▊| 611/626 [11:49<00:14,  1.00it/s]"
          ]
        },
        {
          "output_type": "stream",
          "name": "stdout",
          "text": [
            "🖼️ misha-oplev-deer-protector.jpg → 📝 a saber saunters through a forest\n"
          ]
        },
        {
          "output_type": "stream",
          "name": "stderr",
          "text": [
            "\r 98%|█████████▊| 612/626 [11:50<00:15,  1.10s/it]"
          ]
        },
        {
          "output_type": "stream",
          "name": "stdout",
          "text": [
            "🖼️ roy-salaysay-tbrender-viewport.jpg → 📝 a sandstone floor with a sandstone floor and a sandstone floor\n"
          ]
        },
        {
          "output_type": "stream",
          "name": "stderr",
          "text": [
            "\r 98%|█████████▊| 613/626 [11:52<00:14,  1.13s/it]"
          ]
        },
        {
          "output_type": "stream",
          "name": "stdout",
          "text": [
            "🖼️ oday-abu-zaeed-oday-abu-zaeed-cover2.jpg → 📝 a sandbox with a sandbox and a sandbox\n"
          ]
        },
        {
          "output_type": "stream",
          "name": "stderr",
          "text": [
            "\r 98%|█████████▊| 614/626 [11:52<00:12,  1.04s/it]"
          ]
        },
        {
          "output_type": "stream",
          "name": "stdout",
          "text": [
            "🖼️ harmony-harmony-porhaven-render-thumb.jpg → 📝 a house with a yellow door and a yellow sign\n"
          ]
        },
        {
          "output_type": "stream",
          "name": "stderr",
          "text": [
            "\r 98%|█████████▊| 615/626 [11:53<00:10,  1.07it/s]"
          ]
        },
        {
          "output_type": "stream",
          "name": "stdout",
          "text": [
            "🖼️ robert-wilinski-46fb379a-5862-4838-90c4-8b904e42ab0f-ro311974-fantasy-foggyhorrorrainforestwithmushroomsandflowersandglowingbugsandtwistedtreesmichaelwhelanstyle.jpg → 📝 a frog in a pond\n"
          ]
        },
        {
          "output_type": "stream",
          "name": "stderr",
          "text": [
            "\r 98%|█████████▊| 616/626 [11:54<00:09,  1.07it/s]"
          ]
        },
        {
          "output_type": "stream",
          "name": "stdout",
          "text": [
            "🖼️ pete-mc-nally-petemcnally-iss-ghibli-tribute.jpg → 📝 a girl with a red wig and a red hat\n"
          ]
        },
        {
          "output_type": "stream",
          "name": "stderr",
          "text": [
            "\r 99%|█████████▊| 617/626 [11:55<00:09,  1.01s/it]"
          ]
        },
        {
          "output_type": "stream",
          "name": "stdout",
          "text": [
            "🖼️ phil-liu-bark.jpg → 📝 a sandbox with a sandbox and a sandbox\n"
          ]
        },
        {
          "output_type": "stream",
          "name": "stderr",
          "text": [
            "\r 99%|█████████▊| 618/626 [11:56<00:07,  1.05it/s]"
          ]
        },
        {
          "output_type": "stream",
          "name": "stdout",
          "text": [
            "🖼️ derek-weselake-mononokefinal.jpg → 📝 a fox and a horse in a forest\n"
          ]
        },
        {
          "output_type": "stream",
          "name": "stderr",
          "text": [
            "\r 99%|█████████▉| 619/626 [11:57<00:06,  1.09it/s]"
          ]
        },
        {
          "output_type": "stream",
          "name": "stdout",
          "text": [
            "🖼️ pi_kaas-cam-8.jpg → 📝 a robot with a hat and a hat\n"
          ]
        },
        {
          "output_type": "stream",
          "name": "stderr",
          "text": [
            "\r 99%|█████████▉| 620/626 [11:58<00:05,  1.16it/s]"
          ]
        },
        {
          "output_type": "stream",
          "name": "stdout",
          "text": [
            "🖼️ jessica-woulfe-japanese-flooded-city-jw.jpg → 📝 a city with a river and a river\n"
          ]
        },
        {
          "output_type": "stream",
          "name": "stderr",
          "text": [
            "\r 99%|█████████▉| 621/626 [11:59<00:04,  1.06it/s]"
          ]
        },
        {
          "output_type": "stream",
          "name": "stdout",
          "text": [
            "🖼️ edu-souza-the-wind-rises.jpg → 📝 a girl is painting a picture of a girl with a brush and paintbrush\n"
          ]
        },
        {
          "output_type": "stream",
          "name": "stderr",
          "text": [
            "\r 99%|█████████▉| 622/626 [12:00<00:03,  1.10it/s]"
          ]
        },
        {
          "output_type": "stream",
          "name": "stdout",
          "text": [
            "🖼️ tim-burroughs-tim-burroughs-thumbnail-02.jpg → 📝 a house with a roof and chimney in a village\n"
          ]
        },
        {
          "output_type": "stream",
          "name": "stderr",
          "text": [
            "\r100%|█████████▉| 623/626 [12:01<00:02,  1.06it/s]"
          ]
        },
        {
          "output_type": "stream",
          "name": "stdout",
          "text": [
            "🖼️ jessica-woulfe-11finalv4.jpg → 📝 a girl is walking down a path in a field with a dog\n"
          ]
        },
        {
          "output_type": "stream",
          "name": "stderr",
          "text": [
            "\r100%|█████████▉| 624/626 [12:03<00:02,  1.30s/it]"
          ]
        },
        {
          "output_type": "stream",
          "name": "stdout",
          "text": [
            "🖼️ connor-sheehan-jinji-grotto-enviro-001.jpg → 📝 a troll, a fox, a fox, a fox, a fox, a fox, a fox, a fox\n"
          ]
        },
        {
          "output_type": "stream",
          "name": "stderr",
          "text": [
            "\r100%|█████████▉| 625/626 [12:04<00:01,  1.17s/it]"
          ]
        },
        {
          "output_type": "stream",
          "name": "stdout",
          "text": [
            "🖼️ oday-abuzaeed-oday-abuzaeed-cover-project.jpg → 📝 a sandbox with a wooden slat\n"
          ]
        },
        {
          "output_type": "stream",
          "name": "stderr",
          "text": [
            "100%|██████████| 626/626 [12:04<00:00,  1.16s/it]"
          ]
        },
        {
          "output_type": "stream",
          "name": "stdout",
          "text": [
            "🖼️ tyler-edlin-forest-color522.jpg → 📝 a girl is standing in front of a giant sphere\n",
            "✅ Captions saved to metadata.csv\n"
          ]
        },
        {
          "output_type": "stream",
          "name": "stderr",
          "text": [
            "\n"
          ]
        }
      ],
      "source": [
        "results = []\n",
        "\n",
        "print(f\"📸 Generating captions for {len(os.listdir(image_dir))} images...\\n\")\n",
        "for fname in tqdm(os.listdir(image_dir)):\n",
        "    if not fname.lower().endswith((\".jpg\", \".jpeg\", \".png\")):\n",
        "        continue\n",
        "    try:\n",
        "        caption = caption_image(os.path.join(image_dir, fname))\n",
        "        print(f\"🖼️ {fname} → 📝 {caption}\")\n",
        "        results.append({\"file_name\": fname, \"caption\": caption})\n",
        "    except Exception as e:\n",
        "        print(f\"❌ Error with {fname}: {e}\")\n",
        "\n",
        "# Save to CSV\n",
        "df = pd.DataFrame(results)\n",
        "df.to_csv(os.path.join(image_dir, \"metadata.csv\"), index=False)\n",
        "print(\"✅ Captions saved to metadata.csv\")"
      ]
    },
    {
      "cell_type": "code",
      "source": [
        "import pandas as pd\n",
        "\n",
        "df = pd.read_csv(r\"/content/drive/MyDrive/lora/ghibli-dataset/metadata.csv\")\n",
        "df.head(10)"
      ],
      "metadata": {
        "id": "dWhO8BBg__n6",
        "colab": {
          "base_uri": "https://localhost:8080/",
          "height": 363
        },
        "outputId": "9e2cf465-03d8-4213-b310-4c64bf625c16"
      },
      "execution_count": 8,
      "outputs": [
        {
          "output_type": "execute_result",
          "data": {
            "text/plain": [
              "                                           file_name  \\\n",
              "0                                       Lx4OpET.jpeg   \n",
              "1  studio-ghibli-desktop-sky-forest-ona981pslzx33...   \n",
              "2                                       gg9CoaM.jpeg   \n",
              "3                                       tpOAF3p.jpeg   \n",
              "4                                         couple.jpg   \n",
              "5                                   kimitachi001.jpg   \n",
              "6                                   kimitachi002.jpg   \n",
              "7                                   kimitachi027.jpg   \n",
              "8                                   kimitachi003.jpg   \n",
              "9                                   kimitachi028.jpg   \n",
              "\n",
              "                                             caption  \n",
              "0              a forest scene with trees and flowers  \n",
              "1                               a sailor in a forest  \n",
              "2               a forest path with a tree and a tree  \n",
              "3                         a forest path in the woods  \n",
              "4         a girl and boy are reading a book together  \n",
              "5   a girl in a kimono is standing in front of a hut  \n",
              "6            a group of old ladies with a cup of tea  \n",
              "7                                 a stork with a hat  \n",
              "8  a boy in a blue shirt and a blue shirt is stan...  \n",
              "9                         a boy with a hat and a hat  "
            ],
            "text/html": [
              "\n",
              "  <div id=\"df-7765b4e9-3d0d-45cd-9633-6fef62f4a10a\" class=\"colab-df-container\">\n",
              "    <div>\n",
              "<style scoped>\n",
              "    .dataframe tbody tr th:only-of-type {\n",
              "        vertical-align: middle;\n",
              "    }\n",
              "\n",
              "    .dataframe tbody tr th {\n",
              "        vertical-align: top;\n",
              "    }\n",
              "\n",
              "    .dataframe thead th {\n",
              "        text-align: right;\n",
              "    }\n",
              "</style>\n",
              "<table border=\"1\" class=\"dataframe\">\n",
              "  <thead>\n",
              "    <tr style=\"text-align: right;\">\n",
              "      <th></th>\n",
              "      <th>file_name</th>\n",
              "      <th>caption</th>\n",
              "    </tr>\n",
              "  </thead>\n",
              "  <tbody>\n",
              "    <tr>\n",
              "      <th>0</th>\n",
              "      <td>Lx4OpET.jpeg</td>\n",
              "      <td>a forest scene with trees and flowers</td>\n",
              "    </tr>\n",
              "    <tr>\n",
              "      <th>1</th>\n",
              "      <td>studio-ghibli-desktop-sky-forest-ona981pslzx33...</td>\n",
              "      <td>a sailor in a forest</td>\n",
              "    </tr>\n",
              "    <tr>\n",
              "      <th>2</th>\n",
              "      <td>gg9CoaM.jpeg</td>\n",
              "      <td>a forest path with a tree and a tree</td>\n",
              "    </tr>\n",
              "    <tr>\n",
              "      <th>3</th>\n",
              "      <td>tpOAF3p.jpeg</td>\n",
              "      <td>a forest path in the woods</td>\n",
              "    </tr>\n",
              "    <tr>\n",
              "      <th>4</th>\n",
              "      <td>couple.jpg</td>\n",
              "      <td>a girl and boy are reading a book together</td>\n",
              "    </tr>\n",
              "    <tr>\n",
              "      <th>5</th>\n",
              "      <td>kimitachi001.jpg</td>\n",
              "      <td>a girl in a kimono is standing in front of a hut</td>\n",
              "    </tr>\n",
              "    <tr>\n",
              "      <th>6</th>\n",
              "      <td>kimitachi002.jpg</td>\n",
              "      <td>a group of old ladies with a cup of tea</td>\n",
              "    </tr>\n",
              "    <tr>\n",
              "      <th>7</th>\n",
              "      <td>kimitachi027.jpg</td>\n",
              "      <td>a stork with a hat</td>\n",
              "    </tr>\n",
              "    <tr>\n",
              "      <th>8</th>\n",
              "      <td>kimitachi003.jpg</td>\n",
              "      <td>a boy in a blue shirt and a blue shirt is stan...</td>\n",
              "    </tr>\n",
              "    <tr>\n",
              "      <th>9</th>\n",
              "      <td>kimitachi028.jpg</td>\n",
              "      <td>a boy with a hat and a hat</td>\n",
              "    </tr>\n",
              "  </tbody>\n",
              "</table>\n",
              "</div>\n",
              "    <div class=\"colab-df-buttons\">\n",
              "\n",
              "  <div class=\"colab-df-container\">\n",
              "    <button class=\"colab-df-convert\" onclick=\"convertToInteractive('df-7765b4e9-3d0d-45cd-9633-6fef62f4a10a')\"\n",
              "            title=\"Convert this dataframe to an interactive table.\"\n",
              "            style=\"display:none;\">\n",
              "\n",
              "  <svg xmlns=\"http://www.w3.org/2000/svg\" height=\"24px\" viewBox=\"0 -960 960 960\">\n",
              "    <path d=\"M120-120v-720h720v720H120Zm60-500h600v-160H180v160Zm220 220h160v-160H400v160Zm0 220h160v-160H400v160ZM180-400h160v-160H180v160Zm440 0h160v-160H620v160ZM180-180h160v-160H180v160Zm440 0h160v-160H620v160Z\"/>\n",
              "  </svg>\n",
              "    </button>\n",
              "\n",
              "  <style>\n",
              "    .colab-df-container {\n",
              "      display:flex;\n",
              "      gap: 12px;\n",
              "    }\n",
              "\n",
              "    .colab-df-convert {\n",
              "      background-color: #E8F0FE;\n",
              "      border: none;\n",
              "      border-radius: 50%;\n",
              "      cursor: pointer;\n",
              "      display: none;\n",
              "      fill: #1967D2;\n",
              "      height: 32px;\n",
              "      padding: 0 0 0 0;\n",
              "      width: 32px;\n",
              "    }\n",
              "\n",
              "    .colab-df-convert:hover {\n",
              "      background-color: #E2EBFA;\n",
              "      box-shadow: 0px 1px 2px rgba(60, 64, 67, 0.3), 0px 1px 3px 1px rgba(60, 64, 67, 0.15);\n",
              "      fill: #174EA6;\n",
              "    }\n",
              "\n",
              "    .colab-df-buttons div {\n",
              "      margin-bottom: 4px;\n",
              "    }\n",
              "\n",
              "    [theme=dark] .colab-df-convert {\n",
              "      background-color: #3B4455;\n",
              "      fill: #D2E3FC;\n",
              "    }\n",
              "\n",
              "    [theme=dark] .colab-df-convert:hover {\n",
              "      background-color: #434B5C;\n",
              "      box-shadow: 0px 1px 3px 1px rgba(0, 0, 0, 0.15);\n",
              "      filter: drop-shadow(0px 1px 2px rgba(0, 0, 0, 0.3));\n",
              "      fill: #FFFFFF;\n",
              "    }\n",
              "  </style>\n",
              "\n",
              "    <script>\n",
              "      const buttonEl =\n",
              "        document.querySelector('#df-7765b4e9-3d0d-45cd-9633-6fef62f4a10a button.colab-df-convert');\n",
              "      buttonEl.style.display =\n",
              "        google.colab.kernel.accessAllowed ? 'block' : 'none';\n",
              "\n",
              "      async function convertToInteractive(key) {\n",
              "        const element = document.querySelector('#df-7765b4e9-3d0d-45cd-9633-6fef62f4a10a');\n",
              "        const dataTable =\n",
              "          await google.colab.kernel.invokeFunction('convertToInteractive',\n",
              "                                                    [key], {});\n",
              "        if (!dataTable) return;\n",
              "\n",
              "        const docLinkHtml = 'Like what you see? Visit the ' +\n",
              "          '<a target=\"_blank\" href=https://colab.research.google.com/notebooks/data_table.ipynb>data table notebook</a>'\n",
              "          + ' to learn more about interactive tables.';\n",
              "        element.innerHTML = '';\n",
              "        dataTable['output_type'] = 'display_data';\n",
              "        await google.colab.output.renderOutput(dataTable, element);\n",
              "        const docLink = document.createElement('div');\n",
              "        docLink.innerHTML = docLinkHtml;\n",
              "        element.appendChild(docLink);\n",
              "      }\n",
              "    </script>\n",
              "  </div>\n",
              "\n",
              "\n",
              "    <div id=\"df-aee07b19-e19b-4615-b1d9-e38167dc2e66\">\n",
              "      <button class=\"colab-df-quickchart\" onclick=\"quickchart('df-aee07b19-e19b-4615-b1d9-e38167dc2e66')\"\n",
              "                title=\"Suggest charts\"\n",
              "                style=\"display:none;\">\n",
              "\n",
              "<svg xmlns=\"http://www.w3.org/2000/svg\" height=\"24px\"viewBox=\"0 0 24 24\"\n",
              "     width=\"24px\">\n",
              "    <g>\n",
              "        <path d=\"M19 3H5c-1.1 0-2 .9-2 2v14c0 1.1.9 2 2 2h14c1.1 0 2-.9 2-2V5c0-1.1-.9-2-2-2zM9 17H7v-7h2v7zm4 0h-2V7h2v10zm4 0h-2v-4h2v4z\"/>\n",
              "    </g>\n",
              "</svg>\n",
              "      </button>\n",
              "\n",
              "<style>\n",
              "  .colab-df-quickchart {\n",
              "      --bg-color: #E8F0FE;\n",
              "      --fill-color: #1967D2;\n",
              "      --hover-bg-color: #E2EBFA;\n",
              "      --hover-fill-color: #174EA6;\n",
              "      --disabled-fill-color: #AAA;\n",
              "      --disabled-bg-color: #DDD;\n",
              "  }\n",
              "\n",
              "  [theme=dark] .colab-df-quickchart {\n",
              "      --bg-color: #3B4455;\n",
              "      --fill-color: #D2E3FC;\n",
              "      --hover-bg-color: #434B5C;\n",
              "      --hover-fill-color: #FFFFFF;\n",
              "      --disabled-bg-color: #3B4455;\n",
              "      --disabled-fill-color: #666;\n",
              "  }\n",
              "\n",
              "  .colab-df-quickchart {\n",
              "    background-color: var(--bg-color);\n",
              "    border: none;\n",
              "    border-radius: 50%;\n",
              "    cursor: pointer;\n",
              "    display: none;\n",
              "    fill: var(--fill-color);\n",
              "    height: 32px;\n",
              "    padding: 0;\n",
              "    width: 32px;\n",
              "  }\n",
              "\n",
              "  .colab-df-quickchart:hover {\n",
              "    background-color: var(--hover-bg-color);\n",
              "    box-shadow: 0 1px 2px rgba(60, 64, 67, 0.3), 0 1px 3px 1px rgba(60, 64, 67, 0.15);\n",
              "    fill: var(--button-hover-fill-color);\n",
              "  }\n",
              "\n",
              "  .colab-df-quickchart-complete:disabled,\n",
              "  .colab-df-quickchart-complete:disabled:hover {\n",
              "    background-color: var(--disabled-bg-color);\n",
              "    fill: var(--disabled-fill-color);\n",
              "    box-shadow: none;\n",
              "  }\n",
              "\n",
              "  .colab-df-spinner {\n",
              "    border: 2px solid var(--fill-color);\n",
              "    border-color: transparent;\n",
              "    border-bottom-color: var(--fill-color);\n",
              "    animation:\n",
              "      spin 1s steps(1) infinite;\n",
              "  }\n",
              "\n",
              "  @keyframes spin {\n",
              "    0% {\n",
              "      border-color: transparent;\n",
              "      border-bottom-color: var(--fill-color);\n",
              "      border-left-color: var(--fill-color);\n",
              "    }\n",
              "    20% {\n",
              "      border-color: transparent;\n",
              "      border-left-color: var(--fill-color);\n",
              "      border-top-color: var(--fill-color);\n",
              "    }\n",
              "    30% {\n",
              "      border-color: transparent;\n",
              "      border-left-color: var(--fill-color);\n",
              "      border-top-color: var(--fill-color);\n",
              "      border-right-color: var(--fill-color);\n",
              "    }\n",
              "    40% {\n",
              "      border-color: transparent;\n",
              "      border-right-color: var(--fill-color);\n",
              "      border-top-color: var(--fill-color);\n",
              "    }\n",
              "    60% {\n",
              "      border-color: transparent;\n",
              "      border-right-color: var(--fill-color);\n",
              "    }\n",
              "    80% {\n",
              "      border-color: transparent;\n",
              "      border-right-color: var(--fill-color);\n",
              "      border-bottom-color: var(--fill-color);\n",
              "    }\n",
              "    90% {\n",
              "      border-color: transparent;\n",
              "      border-bottom-color: var(--fill-color);\n",
              "    }\n",
              "  }\n",
              "</style>\n",
              "\n",
              "      <script>\n",
              "        async function quickchart(key) {\n",
              "          const quickchartButtonEl =\n",
              "            document.querySelector('#' + key + ' button');\n",
              "          quickchartButtonEl.disabled = true;  // To prevent multiple clicks.\n",
              "          quickchartButtonEl.classList.add('colab-df-spinner');\n",
              "          try {\n",
              "            const charts = await google.colab.kernel.invokeFunction(\n",
              "                'suggestCharts', [key], {});\n",
              "          } catch (error) {\n",
              "            console.error('Error during call to suggestCharts:', error);\n",
              "          }\n",
              "          quickchartButtonEl.classList.remove('colab-df-spinner');\n",
              "          quickchartButtonEl.classList.add('colab-df-quickchart-complete');\n",
              "        }\n",
              "        (() => {\n",
              "          let quickchartButtonEl =\n",
              "            document.querySelector('#df-aee07b19-e19b-4615-b1d9-e38167dc2e66 button');\n",
              "          quickchartButtonEl.style.display =\n",
              "            google.colab.kernel.accessAllowed ? 'block' : 'none';\n",
              "        })();\n",
              "      </script>\n",
              "    </div>\n",
              "\n",
              "    </div>\n",
              "  </div>\n"
            ],
            "application/vnd.google.colaboratory.intrinsic+json": {
              "type": "dataframe",
              "variable_name": "df",
              "summary": "{\n  \"name\": \"df\",\n  \"rows\": 624,\n  \"fields\": [\n    {\n      \"column\": \"file_name\",\n      \"properties\": {\n        \"dtype\": \"string\",\n        \"num_unique_values\": 624,\n        \"samples\": [\n          \"studio_ghibli_hansel_and_gretel_chihiro_ogino___by_studioghibifan1992_djce1hk-350t.jpg\",\n          \"john-wallin-liberto-watermill-02-4k.jpg\",\n          \"kokurikozaka042.jpg\"\n        ],\n        \"semantic_type\": \"\",\n        \"description\": \"\"\n      }\n    },\n    {\n      \"column\": \"caption\",\n      \"properties\": {\n        \"dtype\": \"string\",\n        \"num_unique_values\": 558,\n        \"samples\": [\n          \"a girl is standing in front of a red pole\",\n          \"a sailor is painting a picture of a tree in the forest\",\n          \"a girl is standing in front of a train station\"\n        ],\n        \"semantic_type\": \"\",\n        \"description\": \"\"\n      }\n    }\n  ]\n}"
            }
          },
          "metadata": {},
          "execution_count": 8
        }
      ]
    }
  ],
  "metadata": {
    "accelerator": "GPU",
    "colab": {
      "gpuType": "A100",
      "provenance": [],
      "machine_shape": "hm"
    },
    "kernelspec": {
      "display_name": "Python 3",
      "name": "python3"
    },
    "language_info": {
      "name": "python"
    },
    "widgets": {
      "application/vnd.jupyter.widget-state+json": {
        "bc4e065809b44c4d87ac51363773672e": {
          "model_module": "@jupyter-widgets/controls",
          "model_name": "HBoxModel",
          "model_module_version": "1.5.0",
          "state": {
            "_dom_classes": [],
            "_model_module": "@jupyter-widgets/controls",
            "_model_module_version": "1.5.0",
            "_model_name": "HBoxModel",
            "_view_count": null,
            "_view_module": "@jupyter-widgets/controls",
            "_view_module_version": "1.5.0",
            "_view_name": "HBoxView",
            "box_style": "",
            "children": [
              "IPY_MODEL_79d4a5020dc84ecd86e826ce564a089c",
              "IPY_MODEL_02beab28fa544146bb2f3573a6ffd830",
              "IPY_MODEL_9a47289f578f4cfea27cdf4750281797"
            ],
            "layout": "IPY_MODEL_4ec0b81940e34aedb78593abe7f6e59a"
          }
        },
        "79d4a5020dc84ecd86e826ce564a089c": {
          "model_module": "@jupyter-widgets/controls",
          "model_name": "HTMLModel",
          "model_module_version": "1.5.0",
          "state": {
            "_dom_classes": [],
            "_model_module": "@jupyter-widgets/controls",
            "_model_module_version": "1.5.0",
            "_model_name": "HTMLModel",
            "_view_count": null,
            "_view_module": "@jupyter-widgets/controls",
            "_view_module_version": "1.5.0",
            "_view_name": "HTMLView",
            "description": "",
            "description_tooltip": null,
            "layout": "IPY_MODEL_f86effb344c84b159e83723d25237095",
            "placeholder": "​",
            "style": "IPY_MODEL_07a9e90790dd453eaa40b9c4d2a06aeb",
            "value": "Loading checkpoint shards: 100%"
          }
        },
        "02beab28fa544146bb2f3573a6ffd830": {
          "model_module": "@jupyter-widgets/controls",
          "model_name": "FloatProgressModel",
          "model_module_version": "1.5.0",
          "state": {
            "_dom_classes": [],
            "_model_module": "@jupyter-widgets/controls",
            "_model_module_version": "1.5.0",
            "_model_name": "FloatProgressModel",
            "_view_count": null,
            "_view_module": "@jupyter-widgets/controls",
            "_view_module_version": "1.5.0",
            "_view_name": "ProgressView",
            "bar_style": "success",
            "description": "",
            "description_tooltip": null,
            "layout": "IPY_MODEL_7c594294ba63455a8ab5483e720ae78c",
            "max": 2,
            "min": 0,
            "orientation": "horizontal",
            "style": "IPY_MODEL_cb599e44f1df4dee96c22ea63eab646e",
            "value": 2
          }
        },
        "9a47289f578f4cfea27cdf4750281797": {
          "model_module": "@jupyter-widgets/controls",
          "model_name": "HTMLModel",
          "model_module_version": "1.5.0",
          "state": {
            "_dom_classes": [],
            "_model_module": "@jupyter-widgets/controls",
            "_model_module_version": "1.5.0",
            "_model_name": "HTMLModel",
            "_view_count": null,
            "_view_module": "@jupyter-widgets/controls",
            "_view_module_version": "1.5.0",
            "_view_name": "HTMLView",
            "description": "",
            "description_tooltip": null,
            "layout": "IPY_MODEL_7d103109616f4313b62b567a83be1081",
            "placeholder": "​",
            "style": "IPY_MODEL_45a11cbc986a4235a08297804e3120c2",
            "value": " 2/2 [00:02&lt;00:00,  1.17s/it]"
          }
        },
        "4ec0b81940e34aedb78593abe7f6e59a": {
          "model_module": "@jupyter-widgets/base",
          "model_name": "LayoutModel",
          "model_module_version": "1.2.0",
          "state": {
            "_model_module": "@jupyter-widgets/base",
            "_model_module_version": "1.2.0",
            "_model_name": "LayoutModel",
            "_view_count": null,
            "_view_module": "@jupyter-widgets/base",
            "_view_module_version": "1.2.0",
            "_view_name": "LayoutView",
            "align_content": null,
            "align_items": null,
            "align_self": null,
            "border": null,
            "bottom": null,
            "display": null,
            "flex": null,
            "flex_flow": null,
            "grid_area": null,
            "grid_auto_columns": null,
            "grid_auto_flow": null,
            "grid_auto_rows": null,
            "grid_column": null,
            "grid_gap": null,
            "grid_row": null,
            "grid_template_areas": null,
            "grid_template_columns": null,
            "grid_template_rows": null,
            "height": null,
            "justify_content": null,
            "justify_items": null,
            "left": null,
            "margin": null,
            "max_height": null,
            "max_width": null,
            "min_height": null,
            "min_width": null,
            "object_fit": null,
            "object_position": null,
            "order": null,
            "overflow": null,
            "overflow_x": null,
            "overflow_y": null,
            "padding": null,
            "right": null,
            "top": null,
            "visibility": null,
            "width": null
          }
        },
        "f86effb344c84b159e83723d25237095": {
          "model_module": "@jupyter-widgets/base",
          "model_name": "LayoutModel",
          "model_module_version": "1.2.0",
          "state": {
            "_model_module": "@jupyter-widgets/base",
            "_model_module_version": "1.2.0",
            "_model_name": "LayoutModel",
            "_view_count": null,
            "_view_module": "@jupyter-widgets/base",
            "_view_module_version": "1.2.0",
            "_view_name": "LayoutView",
            "align_content": null,
            "align_items": null,
            "align_self": null,
            "border": null,
            "bottom": null,
            "display": null,
            "flex": null,
            "flex_flow": null,
            "grid_area": null,
            "grid_auto_columns": null,
            "grid_auto_flow": null,
            "grid_auto_rows": null,
            "grid_column": null,
            "grid_gap": null,
            "grid_row": null,
            "grid_template_areas": null,
            "grid_template_columns": null,
            "grid_template_rows": null,
            "height": null,
            "justify_content": null,
            "justify_items": null,
            "left": null,
            "margin": null,
            "max_height": null,
            "max_width": null,
            "min_height": null,
            "min_width": null,
            "object_fit": null,
            "object_position": null,
            "order": null,
            "overflow": null,
            "overflow_x": null,
            "overflow_y": null,
            "padding": null,
            "right": null,
            "top": null,
            "visibility": null,
            "width": null
          }
        },
        "07a9e90790dd453eaa40b9c4d2a06aeb": {
          "model_module": "@jupyter-widgets/controls",
          "model_name": "DescriptionStyleModel",
          "model_module_version": "1.5.0",
          "state": {
            "_model_module": "@jupyter-widgets/controls",
            "_model_module_version": "1.5.0",
            "_model_name": "DescriptionStyleModel",
            "_view_count": null,
            "_view_module": "@jupyter-widgets/base",
            "_view_module_version": "1.2.0",
            "_view_name": "StyleView",
            "description_width": ""
          }
        },
        "7c594294ba63455a8ab5483e720ae78c": {
          "model_module": "@jupyter-widgets/base",
          "model_name": "LayoutModel",
          "model_module_version": "1.2.0",
          "state": {
            "_model_module": "@jupyter-widgets/base",
            "_model_module_version": "1.2.0",
            "_model_name": "LayoutModel",
            "_view_count": null,
            "_view_module": "@jupyter-widgets/base",
            "_view_module_version": "1.2.0",
            "_view_name": "LayoutView",
            "align_content": null,
            "align_items": null,
            "align_self": null,
            "border": null,
            "bottom": null,
            "display": null,
            "flex": null,
            "flex_flow": null,
            "grid_area": null,
            "grid_auto_columns": null,
            "grid_auto_flow": null,
            "grid_auto_rows": null,
            "grid_column": null,
            "grid_gap": null,
            "grid_row": null,
            "grid_template_areas": null,
            "grid_template_columns": null,
            "grid_template_rows": null,
            "height": null,
            "justify_content": null,
            "justify_items": null,
            "left": null,
            "margin": null,
            "max_height": null,
            "max_width": null,
            "min_height": null,
            "min_width": null,
            "object_fit": null,
            "object_position": null,
            "order": null,
            "overflow": null,
            "overflow_x": null,
            "overflow_y": null,
            "padding": null,
            "right": null,
            "top": null,
            "visibility": null,
            "width": null
          }
        },
        "cb599e44f1df4dee96c22ea63eab646e": {
          "model_module": "@jupyter-widgets/controls",
          "model_name": "ProgressStyleModel",
          "model_module_version": "1.5.0",
          "state": {
            "_model_module": "@jupyter-widgets/controls",
            "_model_module_version": "1.5.0",
            "_model_name": "ProgressStyleModel",
            "_view_count": null,
            "_view_module": "@jupyter-widgets/base",
            "_view_module_version": "1.2.0",
            "_view_name": "StyleView",
            "bar_color": null,
            "description_width": ""
          }
        },
        "7d103109616f4313b62b567a83be1081": {
          "model_module": "@jupyter-widgets/base",
          "model_name": "LayoutModel",
          "model_module_version": "1.2.0",
          "state": {
            "_model_module": "@jupyter-widgets/base",
            "_model_module_version": "1.2.0",
            "_model_name": "LayoutModel",
            "_view_count": null,
            "_view_module": "@jupyter-widgets/base",
            "_view_module_version": "1.2.0",
            "_view_name": "LayoutView",
            "align_content": null,
            "align_items": null,
            "align_self": null,
            "border": null,
            "bottom": null,
            "display": null,
            "flex": null,
            "flex_flow": null,
            "grid_area": null,
            "grid_auto_columns": null,
            "grid_auto_flow": null,
            "grid_auto_rows": null,
            "grid_column": null,
            "grid_gap": null,
            "grid_row": null,
            "grid_template_areas": null,
            "grid_template_columns": null,
            "grid_template_rows": null,
            "height": null,
            "justify_content": null,
            "justify_items": null,
            "left": null,
            "margin": null,
            "max_height": null,
            "max_width": null,
            "min_height": null,
            "min_width": null,
            "object_fit": null,
            "object_position": null,
            "order": null,
            "overflow": null,
            "overflow_x": null,
            "overflow_y": null,
            "padding": null,
            "right": null,
            "top": null,
            "visibility": null,
            "width": null
          }
        },
        "45a11cbc986a4235a08297804e3120c2": {
          "model_module": "@jupyter-widgets/controls",
          "model_name": "DescriptionStyleModel",
          "model_module_version": "1.5.0",
          "state": {
            "_model_module": "@jupyter-widgets/controls",
            "_model_module_version": "1.5.0",
            "_model_name": "DescriptionStyleModel",
            "_view_count": null,
            "_view_module": "@jupyter-widgets/base",
            "_view_module_version": "1.2.0",
            "_view_name": "StyleView",
            "description_width": ""
          }
        }
      }
    }
  },
  "nbformat": 4,
  "nbformat_minor": 0
}